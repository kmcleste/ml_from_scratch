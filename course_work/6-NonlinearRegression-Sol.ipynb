{
 "cells": [
  {
   "cell_type": "markdown",
   "metadata": {},
   "source": [
    "$\n",
    " \\newcommand{\\wv}{\\mathbf{w}}\n",
    " \\newcommand{\\Tm}{\\mathbf{T}}\n",
    " \\newcommand{\\Xm}{\\mathbf{X}}\n",
    "$\n",
    "\n",
    "# Neural Networks - Regression #2 (Workbook)\n",
    "\n",
    "### ITCS 4156\n",
    "### Minwoo \"Jake\" Lee"
   ]
  },
  {
   "cell_type": "markdown",
   "metadata": {},
   "source": [
    "# Goal\n",
    "\n",
    "The goal of this activity is to implement and understand the neural network class provided in the class note. We'll also start seeing what it is like applying the chain rule for $n$ hidden layers. Once again, we will be working with [tree root biomass data](https://figshare.com/articles/_The_Allometry_of_Coarse_Root_Biomass_Log_Transformed_Linear_Regression_or_Nonlinear_Regression_/817238) as we used last week. \n",
    "\n",
    "Follow the TODO titles and comments to finish the activity! "
   ]
  },
  {
   "cell_type": "markdown",
   "metadata": {},
   "source": [
    "# Agenda\n",
    "\n",
    "1. Data Loading, Preprocessing, and Visualization (copy of last week's lab)\n",
    "    * Downloading, Loading, and Preprocessing\n",
    "    * Data Visualization\n",
    "    * Data Partitioning\n",
    "* Apply Nonlinear Regression: Neural Network Class\n",
    "    * Variables\n",
    "    * Forward Pass Steps\n",
    "    * Backward Pass Equations"
   ]
  },
  {
   "cell_type": "code",
   "execution_count": 1,
   "metadata": {
    "slideshow": {
     "slide_type": "notes"
    }
   },
   "outputs": [],
   "source": [
    "from copy import deepcopy as copy\n",
    "from IPython.core.debugger import set_trace\n",
    "\n",
    "import numpy as np\n",
    "import pandas as pd\n",
    "import matplotlib.pyplot as plt \n",
    "from mpl_toolkits.mplot3d import Axes3D\n",
    "%matplotlib inline"
   ]
  },
  {
   "cell_type": "markdown",
   "metadata": {},
   "source": [
    "# Data Loading, Preprocessing, and Visualization\n",
    "\n",
    "So why use tree root biomass data? Better yet, what even is tree root biomass? Root biomass is a fancy way of referring to the weight of a root. It turns out that root biomass is a good way to measure the potential accumulated carbon in a tree's roots. Thus, if we want to predict the potential accumulated carbon in a tree's root system then we need to predict the tree's root biomass. This indirect prediction of accumulated carbon via predicting root biomass is called allometry.\n",
    "\n",
    "So once again, why use root biomass data? It turns out that digging up every tree in a forest and measuring every trees' roots biomass might be implausible and counterproductive. It also turns out prior work on this issue has shown that there seems to be a linear correlation between root biomass and the root diameter (DBH). Even more recent work seems to indicate that predicting biomass based on root diameter might even have a nonlinear correlation. This sounds like a pretty good dataset to test the differences of linear regression and our newly learned method of nonlinear-regression.\n",
    "\n",
    "Knowing this, we want to apply linear and nonlinear regression to predict tree root biomass: given two parameters: type of tree and root diameter.\n",
    "\n",
    "Below is an brief excerpt from the description of the tree root biomass dataset.\n",
    "> Precise estimation of root biomass is important for understanding carbon stocks and dynamics in forests. Traditionally, biomass estimates are based on allometric scaling relationships between stem diameter and coarse root biomass calculated using linear regression (LR) on log-transformed data. Recently, it has been suggested that nonlinear regression (NLR) is a preferable fitting method for scaling relationships. But while this claim has been contested on both theoretical and empirical grounds, and statistical methods have been developed to aid in choosing between the two methods in particular cases, few studies have examined the ramifications of erroneously applying NLR"
   ]
  },
  {
   "cell_type": "markdown",
   "metadata": {},
   "source": [
    "## Downloading, Loading, and Preprocessing\n",
    "\n",
    "You can download the allometry of tree root biomass data using the following link [here](https://figshare.com/articles/_The_Allometry_of_Coarse_Root_Biomass_Log_Transformed_Linear_Regression_or_Nonlinear_Regression_/817238). Once you have downloaded the data you will need to unzip the dataset and store the datafile `Appendix_S1.csv` in the same folder as this notebook! "
   ]
  },
  {
   "cell_type": "markdown",
   "metadata": {},
   "source": [
    "Okay, the first step is to load our tree root biomass data into a **Pandas DataFrame object**. "
   ]
  },
  {
   "cell_type": "code",
   "execution_count": 3,
   "metadata": {},
   "outputs": [
    {
     "data": {
      "text/html": [
       "<div>\n",
       "<style scoped>\n",
       "    .dataframe tbody tr th:only-of-type {\n",
       "        vertical-align: middle;\n",
       "    }\n",
       "\n",
       "    .dataframe tbody tr th {\n",
       "        vertical-align: top;\n",
       "    }\n",
       "\n",
       "    .dataframe thead th {\n",
       "        text-align: right;\n",
       "    }\n",
       "</style>\n",
       "<table border=\"1\" class=\"dataframe\">\n",
       "  <thead>\n",
       "    <tr style=\"text-align: right;\">\n",
       "      <th></th>\n",
       "      <th>sp</th>\n",
       "      <th>dbh</th>\n",
       "      <th>rootbiomass</th>\n",
       "    </tr>\n",
       "  </thead>\n",
       "  <tbody>\n",
       "    <tr>\n",
       "      <th>0</th>\n",
       "      <td>Castanopsis eyrei</td>\n",
       "      <td>1.08</td>\n",
       "      <td>0.16</td>\n",
       "    </tr>\n",
       "    <tr>\n",
       "      <th>1</th>\n",
       "      <td>Castanopsis eyrei</td>\n",
       "      <td>1.85</td>\n",
       "      <td>0.15</td>\n",
       "    </tr>\n",
       "    <tr>\n",
       "      <th>2</th>\n",
       "      <td>Castanopsis eyrei</td>\n",
       "      <td>2.46</td>\n",
       "      <td>0.46</td>\n",
       "    </tr>\n",
       "    <tr>\n",
       "      <th>3</th>\n",
       "      <td>Castanopsis eyrei</td>\n",
       "      <td>2.60</td>\n",
       "      <td>1.08</td>\n",
       "    </tr>\n",
       "    <tr>\n",
       "      <th>4</th>\n",
       "      <td>Castanopsis eyrei</td>\n",
       "      <td>4.46</td>\n",
       "      <td>1.34</td>\n",
       "    </tr>\n",
       "    <tr>\n",
       "      <th>...</th>\n",
       "      <td>...</td>\n",
       "      <td>...</td>\n",
       "      <td>...</td>\n",
       "    </tr>\n",
       "    <tr>\n",
       "      <th>154</th>\n",
       "      <td>Schima superba</td>\n",
       "      <td>32.92</td>\n",
       "      <td>253.57</td>\n",
       "    </tr>\n",
       "    <tr>\n",
       "      <th>155</th>\n",
       "      <td>Schima superba</td>\n",
       "      <td>34.00</td>\n",
       "      <td>122.55</td>\n",
       "    </tr>\n",
       "    <tr>\n",
       "      <th>156</th>\n",
       "      <td>Schima superba</td>\n",
       "      <td>37.20</td>\n",
       "      <td>136.30</td>\n",
       "    </tr>\n",
       "    <tr>\n",
       "      <th>157</th>\n",
       "      <td>Schima superba</td>\n",
       "      <td>38.00</td>\n",
       "      <td>181.13</td>\n",
       "    </tr>\n",
       "    <tr>\n",
       "      <th>158</th>\n",
       "      <td>Schima superba</td>\n",
       "      <td>38.32</td>\n",
       "      <td>273.60</td>\n",
       "    </tr>\n",
       "  </tbody>\n",
       "</table>\n",
       "<p>159 rows × 3 columns</p>\n",
       "</div>"
      ],
      "text/plain": [
       "                    sp    dbh  rootbiomass\n",
       "0    Castanopsis eyrei   1.08         0.16\n",
       "1    Castanopsis eyrei   1.85         0.15\n",
       "2    Castanopsis eyrei   2.46         0.46\n",
       "3    Castanopsis eyrei   2.60         1.08\n",
       "4    Castanopsis eyrei   4.46         1.34\n",
       "..                 ...    ...          ...\n",
       "154     Schima superba  32.92       253.57\n",
       "155     Schima superba  34.00       122.55\n",
       "156     Schima superba  37.20       136.30\n",
       "157     Schima superba  38.00       181.13\n",
       "158     Schima superba  38.32       273.60\n",
       "\n",
       "[159 rows x 3 columns]"
      ]
     },
     "execution_count": 3,
     "metadata": {},
     "output_type": "execute_result"
    }
   ],
   "source": [
    "tree_biomass_file = 'Appendix_S1.csv'\n",
    "tree_df = pd.read_csv(tree_biomass_file)\n",
    "tree_df"
   ]
  },
  {
   "cell_type": "markdown",
   "metadata": {},
   "source": [
    "Remember, our tree type features are strings and must be converted to indicator variables in order to be utilized by our neural network class. \n",
    "\n",
    "Here, we covert our tree type strings, column 'sp', to indicator variables and automatically insert them back into our data using Panads `pd.get_dummies()` method. We also add the prefix parameter that appends 'sp' to the beginning of each tree type name. For example, we change the tree type names from `Castanopsis eyrei`, 'Pinus massoniana' and, 'Schima superba' to 'sp_Castanopsis eyrei', 'sp_Pinus massoniana', and 'sp_Schima superba'. Lastly, we reorganize the columns so that tree types occupy the first three columns."
   ]
  },
  {
   "cell_type": "code",
   "execution_count": 4,
   "metadata": {},
   "outputs": [],
   "source": [
    "# ?pd.get_dummies"
   ]
  },
  {
   "cell_type": "code",
   "execution_count": 5,
   "metadata": {},
   "outputs": [
    {
     "data": {
      "text/html": [
       "<div>\n",
       "<style scoped>\n",
       "    .dataframe tbody tr th:only-of-type {\n",
       "        vertical-align: middle;\n",
       "    }\n",
       "\n",
       "    .dataframe tbody tr th {\n",
       "        vertical-align: top;\n",
       "    }\n",
       "\n",
       "    .dataframe thead th {\n",
       "        text-align: right;\n",
       "    }\n",
       "</style>\n",
       "<table border=\"1\" class=\"dataframe\">\n",
       "  <thead>\n",
       "    <tr style=\"text-align: right;\">\n",
       "      <th></th>\n",
       "      <th>sp_Castanopsis eyrei</th>\n",
       "      <th>sp_Pinus massoniana</th>\n",
       "      <th>sp_Schima superba</th>\n",
       "      <th>dbh</th>\n",
       "    </tr>\n",
       "  </thead>\n",
       "  <tbody>\n",
       "    <tr>\n",
       "      <th>0</th>\n",
       "      <td>1</td>\n",
       "      <td>0</td>\n",
       "      <td>0</td>\n",
       "      <td>1.08</td>\n",
       "    </tr>\n",
       "    <tr>\n",
       "      <th>1</th>\n",
       "      <td>1</td>\n",
       "      <td>0</td>\n",
       "      <td>0</td>\n",
       "      <td>1.85</td>\n",
       "    </tr>\n",
       "    <tr>\n",
       "      <th>2</th>\n",
       "      <td>1</td>\n",
       "      <td>0</td>\n",
       "      <td>0</td>\n",
       "      <td>2.46</td>\n",
       "    </tr>\n",
       "    <tr>\n",
       "      <th>3</th>\n",
       "      <td>1</td>\n",
       "      <td>0</td>\n",
       "      <td>0</td>\n",
       "      <td>2.60</td>\n",
       "    </tr>\n",
       "    <tr>\n",
       "      <th>4</th>\n",
       "      <td>1</td>\n",
       "      <td>0</td>\n",
       "      <td>0</td>\n",
       "      <td>4.46</td>\n",
       "    </tr>\n",
       "    <tr>\n",
       "      <th>...</th>\n",
       "      <td>...</td>\n",
       "      <td>...</td>\n",
       "      <td>...</td>\n",
       "      <td>...</td>\n",
       "    </tr>\n",
       "    <tr>\n",
       "      <th>154</th>\n",
       "      <td>0</td>\n",
       "      <td>0</td>\n",
       "      <td>1</td>\n",
       "      <td>32.92</td>\n",
       "    </tr>\n",
       "    <tr>\n",
       "      <th>155</th>\n",
       "      <td>0</td>\n",
       "      <td>0</td>\n",
       "      <td>1</td>\n",
       "      <td>34.00</td>\n",
       "    </tr>\n",
       "    <tr>\n",
       "      <th>156</th>\n",
       "      <td>0</td>\n",
       "      <td>0</td>\n",
       "      <td>1</td>\n",
       "      <td>37.20</td>\n",
       "    </tr>\n",
       "    <tr>\n",
       "      <th>157</th>\n",
       "      <td>0</td>\n",
       "      <td>0</td>\n",
       "      <td>1</td>\n",
       "      <td>38.00</td>\n",
       "    </tr>\n",
       "    <tr>\n",
       "      <th>158</th>\n",
       "      <td>0</td>\n",
       "      <td>0</td>\n",
       "      <td>1</td>\n",
       "      <td>38.32</td>\n",
       "    </tr>\n",
       "  </tbody>\n",
       "</table>\n",
       "<p>159 rows × 4 columns</p>\n",
       "</div>"
      ],
      "text/plain": [
       "     sp_Castanopsis eyrei  sp_Pinus massoniana  sp_Schima superba    dbh\n",
       "0                       1                    0                  0   1.08\n",
       "1                       1                    0                  0   1.85\n",
       "2                       1                    0                  0   2.46\n",
       "3                       1                    0                  0   2.60\n",
       "4                       1                    0                  0   4.46\n",
       "..                    ...                  ...                ...    ...\n",
       "154                     0                    0                  1  32.92\n",
       "155                     0                    0                  1  34.00\n",
       "156                     0                    0                  1  37.20\n",
       "157                     0                    0                  1  38.00\n",
       "158                     0                    0                  1  38.32\n",
       "\n",
       "[159 rows x 4 columns]"
      ]
     },
     "execution_count": 5,
     "metadata": {},
     "output_type": "execute_result"
    }
   ],
   "source": [
    "X = pd.get_dummies(tree_df.iloc[:, :-1], prefix='sp').copy()\n",
    "X = X[['sp_Castanopsis eyrei', 'sp_Pinus massoniana', 'sp_Schima superba', 'dbh']]\n",
    "X"
   ]
  },
  {
   "cell_type": "markdown",
   "metadata": {},
   "source": [
    "Next, let's extract the target column 'rootbiomass' which corresponds to tree root biomass.  The below code simply access the 'rootbiomass' column and copies it into the variable `T`. Note, that we add double squared brackets `tree_df[['rootbiomass']].copy` so that when we call `T.values` a Numpy array with two dimensions, i.e. (158, 1), will be returned. Otherwise, if we only add single brackets `tree_df['rootbiomass'].copy` then when we call `T.values` a Numpy array with one dimension, i.e (158,), will be returned. **Remember always, ALWAYS, be thinking about your data shapes.**"
   ]
  },
  {
   "cell_type": "code",
   "execution_count": 6,
   "metadata": {},
   "outputs": [
    {
     "data": {
      "text/html": [
       "<div>\n",
       "<style scoped>\n",
       "    .dataframe tbody tr th:only-of-type {\n",
       "        vertical-align: middle;\n",
       "    }\n",
       "\n",
       "    .dataframe tbody tr th {\n",
       "        vertical-align: top;\n",
       "    }\n",
       "\n",
       "    .dataframe thead th {\n",
       "        text-align: right;\n",
       "    }\n",
       "</style>\n",
       "<table border=\"1\" class=\"dataframe\">\n",
       "  <thead>\n",
       "    <tr style=\"text-align: right;\">\n",
       "      <th></th>\n",
       "      <th>rootbiomass</th>\n",
       "    </tr>\n",
       "  </thead>\n",
       "  <tbody>\n",
       "    <tr>\n",
       "      <th>0</th>\n",
       "      <td>0.16</td>\n",
       "    </tr>\n",
       "    <tr>\n",
       "      <th>1</th>\n",
       "      <td>0.15</td>\n",
       "    </tr>\n",
       "    <tr>\n",
       "      <th>2</th>\n",
       "      <td>0.46</td>\n",
       "    </tr>\n",
       "    <tr>\n",
       "      <th>3</th>\n",
       "      <td>1.08</td>\n",
       "    </tr>\n",
       "    <tr>\n",
       "      <th>4</th>\n",
       "      <td>1.34</td>\n",
       "    </tr>\n",
       "    <tr>\n",
       "      <th>...</th>\n",
       "      <td>...</td>\n",
       "    </tr>\n",
       "    <tr>\n",
       "      <th>154</th>\n",
       "      <td>253.57</td>\n",
       "    </tr>\n",
       "    <tr>\n",
       "      <th>155</th>\n",
       "      <td>122.55</td>\n",
       "    </tr>\n",
       "    <tr>\n",
       "      <th>156</th>\n",
       "      <td>136.30</td>\n",
       "    </tr>\n",
       "    <tr>\n",
       "      <th>157</th>\n",
       "      <td>181.13</td>\n",
       "    </tr>\n",
       "    <tr>\n",
       "      <th>158</th>\n",
       "      <td>273.60</td>\n",
       "    </tr>\n",
       "  </tbody>\n",
       "</table>\n",
       "<p>159 rows × 1 columns</p>\n",
       "</div>"
      ],
      "text/plain": [
       "     rootbiomass\n",
       "0           0.16\n",
       "1           0.15\n",
       "2           0.46\n",
       "3           1.08\n",
       "4           1.34\n",
       "..           ...\n",
       "154       253.57\n",
       "155       122.55\n",
       "156       136.30\n",
       "157       181.13\n",
       "158       273.60\n",
       "\n",
       "[159 rows x 1 columns]"
      ]
     },
     "execution_count": 6,
     "metadata": {},
     "output_type": "execute_result"
    }
   ],
   "source": [
    "T = tree_df[['rootbiomass']].copy()  # need extra square brackets not to lose 2d shape (or dataframe)\n",
    "T"
   ]
  },
  {
   "cell_type": "markdown",
   "metadata": {},
   "source": [
    "## Data Visualization"
   ]
  },
  {
   "cell_type": "markdown",
   "metadata": {},
   "source": [
    "To start let's take a look at how our feature root diameter 'dbh' and our target root biomass 'rootbiomass' might correlate to one-another. There is a cool Pandas plotting function called `scatter_matrix` that let's us quickly plot features against each other (this is similar to what we did back in our first lab on data visualization). In addition, on the main diagonal instead of plotting the identical features against each other it plots the distribution of the data."
   ]
  },
  {
   "cell_type": "code",
   "execution_count": 7,
   "metadata": {},
   "outputs": [
    {
     "data": {
      "image/png": "[encoded data removed]",
      "text/plain": [
       "<Figure size 576x576 with 4 Axes>"
      ]
     },
     "metadata": {
      "needs_background": "light"
     },
     "output_type": "display_data"
    }
   ],
   "source": [
    "from pandas.plotting import scatter_matrix\n",
    "\n",
    "scatter_matrix(tree_df, alpha=0.4, figsize=(8,8));"
   ]
  },
  {
   "cell_type": "markdown",
   "metadata": {},
   "source": [
    "Unlike most correlation plots the main diagonal for our `scatter_matrix()` function is not a given feature plotted against itself. Instead, the `scatter_matrix()` function produces a more useful plot, the data distribution of a given feature. Last week, we saw a smoothed version of the above main diagonal plots - remember we had line graphs last week. This week, we can visualize the same smoothed line graphs but now as histograms. If you want the smoothed line graph back simply add the parameter `diagonal='kde'` to the `scatter_matrix()` function.\n",
    "\n",
    "Let's look at 'dbh' (root diameter) on the main diagonal, i.e. the first subplot. On the x-axis we can see the range of 'dbh' values contained in our dataset. Meanwhile, on the y-axis we can see the number of samples in our data that have a given root diameter value. For example, there are approximately 45 samples of roots with diameters around 10 and 30. \n",
    "\n",
    "On the off-diagonal we can see the plots for features plotted against each other (each side of the off-diagonal is essentially a reflection of the other side). Here we can look for correlations between features just like normal correlation plots."
   ]
  },
  {
   "cell_type": "markdown",
   "metadata": {},
   "source": [
    "Next, let's plot the same scatter matrix but this time let's add in tree types. To do so, we simply combine our `X` and `T` DataFrames, defined above, and then pass this concatenation to the `scatter_matrix()` function. Remember, `X` contains our tree type indicator variables and root diameter features while `T` contains root biomass."
   ]
  },
  {
   "cell_type": "code",
   "execution_count": 8,
   "metadata": {},
   "outputs": [
    {
     "data": {
      "image/png": "[encoded data removed]",
      "text/plain": [
       "<Figure size 648x648 with 25 Axes>"
      ]
     },
     "metadata": {
      "needs_background": "light"
     },
     "output_type": "display_data"
    }
   ],
   "source": [
    "Data = pd.concat([X, T], axis=1)\n",
    "scatter_matrix(Data, alpha=0.4, figsize=(9,9));"
   ]
  },
  {
   "cell_type": "markdown",
   "metadata": {},
   "source": [
    "We can see our original plot is in the bottom right-hand corner. As stated before, the main diagonal represents data distribution for each feature. Meanwhile, on the off-diagonal we can see the plots for features plotted against each other. \n",
    "\n",
    "We can see that when the tree type variables are plotted against each other there are only three plotted points. For example, check out when 'Castanopsis eyrei' is plotted against 'Pinus massoniana'. We can see on the y-axis the point plotted at (0, 1) is for 'Castanopsis eyrei' and on the x-axis we can see the point plotted at (1, 0) is for 'Pinus massoniana'. At (0, 0) we can see the \"other\" tree types that aren't 'Castanopsis eyrei' or 'Pinus massoniana' (in this case, this is only the tree type 'Schima superba').\n",
    "\n",
    "However, when looking at each tree type plotted against ‘dbh’ or ‘rootbiomass’ we can see the spread of each trees' root diameter or biomass values. Take the bottom left plot for example. Here 'Castanopsis eyrei' is plotted against 'rootbiomass'. Looking at the x-axis we can see 0 indicates all other tree types, while 1 indicates 'Castanopsis eyrei'. Now, looking at the y-axis we can see the spread of the root diameter values. It seems  'Castanopsis eyrei' root diameter values seem to be concentrated under 200!"
   ]
  },
  {
   "cell_type": "markdown",
   "metadata": {},
   "source": [
    "### Taking a Closer Look at Root Diameter and Biomass Spread\n",
    "\n",
    "Let's now take a closer look at how the root diameter and biomass spread changes per tree type, as we noticed in the scatter matrix plots. Let's simply create two line graphs using Pandas `.plot()` method. One plot will be for our training features `X` and the other plot will be for our target `T`."
   ]
  },
  {
   "cell_type": "code",
   "execution_count": 9,
   "metadata": {},
   "outputs": [
    {
     "data": {
      "text/plain": [
       "<matplotlib.axes._subplots.AxesSubplot at 0x7f7ee47787d0>"
      ]
     },
     "execution_count": 9,
     "metadata": {},
     "output_type": "execute_result"
    },
    {
     "data": {
      "image/png": "[encoded data removed]",
      "text/plain": [
       "<Figure size 432x288 with 1 Axes>"
      ]
     },
     "metadata": {
      "needs_background": "light"
     },
     "output_type": "display_data"
    },
    {
     "data": {
      "image/png": "[encoded data removed]",
      "text/plain": [
       "<Figure size 432x288 with 1 Axes>"
      ]
     },
     "metadata": {
      "needs_background": "light"
     },
     "output_type": "display_data"
    }
   ],
   "source": [
    "X.plot()\n",
    "T.plot()"
   ]
  },
  {
   "cell_type": "markdown",
   "metadata": {},
   "source": [
    "Welp, it is kinda hard to tell which root diameter and biomass values are associated with each tree type. However, we can decipher a change in the class when we see 'dbh' and 'rootbiomas' values suddenly drop extremely low. For example, we could argue the separation between our classes occurs around the 40th and 100th data samples. However, this is only because our data is ordered by tree types. Meaning, the 'sp_Castanopsis eyrei' trees are the first 40ish samples while the 'sp_Pinus massoniana' trees are the next 60ish samples."
   ]
  },
  {
   "cell_type": "markdown",
   "metadata": {},
   "source": [
    "There must be a better way to plot our data. Indeed there is! To do so we can first plot our original DataFrame `tree_df` to plot all our features, including our target. Then we can use our tree type indicator variables called `tree_type_dummies` to color in areas of the graph that correspond to each tree. We can using the Pandas DataFrame `plot()` method to plot our `tree_df` and the `plot.area()` method to color in our graph. The last thing we need to do is scale the values of `tree_type_dummies` to fill in the entire graph up to the potential max y-values. (Remember `tree_type_dummies` only contains 1s and 0s so by default the `plot.area()` would only fill from 0 to 1!)"
   ]
  },
  {
   "cell_type": "code",
   "execution_count": 10,
   "metadata": {},
   "outputs": [
    {
     "data": {
      "image/png": "[encoded data removed]",
      "text/plain": [
       "<Figure size 576x360 with 1 Axes>"
      ]
     },
     "metadata": {
      "needs_background": "light"
     },
     "output_type": "display_data"
    }
   ],
   "source": [
    "scale_y_axis = 1.2 # y-axis scale\n",
    "tree_type_dummies = X.iloc[:, :-1]  # Extract and store our tree type indicator varaibles\n",
    "max_y_value = np.round(np.max(Data.max().values), decimals=-2) * scale_y_axis # Find the max y-value and scale it\n",
    "\n",
    "ax = tree_df.plot(linewidth=3, figsize=(8,5)) # plots all features \n",
    "(tree_type_dummies * max_y_value).plot.area(ax=ax, alpha=0.1) # colors in graph\n",
    "plt.ylim([0, max_y_value]) # sets the y-axis min and max values\n",
    "plt.ylabel(\"Allometry\"); # the ';' here surpresses output"
   ]
  },
  {
   "cell_type": "markdown",
   "metadata": {},
   "source": [
    "There we go! Now we can get a much better visualization of each trees' root diameter and root biomass values. In addition, we can see how these values compare to one another!"
   ]
  },
  {
   "cell_type": "markdown",
   "metadata": {},
   "source": [
    "## Data Partitioning\n",
    "Like always we need to split our data into train and test partitions.\n",
    "\n",
    "The below code is the `partition()` function we used last week. Recall, that the `partition()` function takes as input the following **Numpy arrays** `X` and `T`. The output of  `partition()` is a list of data and targets where `Xs` holds our training and testing data partitions and `Ts` holds our training and testing target partitions. The elements of `Xs` and `Ts` are Numpy arrays. \n"
   ]
  },
  {
   "cell_type": "markdown",
   "metadata": {},
   "source": [
    "### Saving code cells to files\n",
    "As we'll be repeatedly using the `partition()` function in the future, let's write it to a `.py` file. We can easily do so using one of Jupyter's built-in Magic commands called `writefile`. The `writefile` Magic writes the contents of the cell to a specified file path. For example, to save the partition code cell below to the file 'partitionlib.py' we add the following line at the top of the code cell `%%writefile partitionlib.py`. When we run the cell, then the code is saved to our specified 'partitionlib.py' file path.\n",
    "\n",
    "To check out the `writefile` Magic and others see the documentation [here](https://ipython.readthedocs.io/en/stable/interactive/magics.html)."
   ]
  },
  {
   "cell_type": "code",
   "execution_count": 11,
   "metadata": {},
   "outputs": [
    {
     "name": "stdout",
     "output_type": "stream",
     "text": [
      "Overwriting partitionlib.py\n"
     ]
    }
   ],
   "source": [
    "%%writefile partitionlib.py\n",
    "\n",
    "import numpy as np\n",
    "\n",
    "# now partition the data \n",
    "\n",
    "\"\"\" partitioning data\n",
    "\n",
    "    parameters\n",
    "    -----------\n",
    "    X        numpy array\n",
    "             input data to partition\n",
    "    T        numpy array\n",
    "             target labels to partition\n",
    "    raito    list\n",
    "             list of ratios for partitions (should be summed to 1) \n",
    "             the number of return pairs are different\n",
    "    return\n",
    "    -------\n",
    "    \n",
    "    Xs       list of numpy arrays\n",
    "    \n",
    "    Ts       list of numpy arrays\n",
    "\"\"\"\n",
    "def partition(X, T, ratio=[0.8, 0.2]): \n",
    "    \n",
    "    # Checks to make sure ratio sums to 1\n",
    "    assert(np.sum(ratio) == 1)\n",
    "    \n",
    "    # Store the number of data samples \n",
    "    N = X.shape[0]\n",
    "\n",
    "    # change the 1d array to 2d if need\n",
    "    if len(T.shape) == 1:\n",
    "        T = T.reshape((N,1))\n",
    "    \n",
    "    # Shuffle the data indices \n",
    "    idxs = np.random.permutation(N)\n",
    "        \n",
    "    Xs = []\n",
    "    Ts = []\n",
    "    i = 0  # first index to zero\n",
    "    for k, r in enumerate(ratio):\n",
    "         # Number of rows that corresponds to kth element in ratios\n",
    "        nrows = int(round(N * r)) \n",
    "        \n",
    "        # print (i, nrows)\n",
    "        # If we are on the last ratio simply use the remaining data samples\n",
    "        if k == len(ratio)-1:\n",
    "            Xs.append(X[idxs[i:], :])\n",
    "            Ts.append(T[idxs[i:], :])\n",
    "        else:\n",
    "            Xs.append(X[idxs[i:i+nrows], :])\n",
    "            Ts.append(T[idxs[i:i+nrows], :])\n",
    "        \n",
    "        i += nrows\n",
    "    \n",
    "    return Xs, Ts"
   ]
  },
  {
   "cell_type": "markdown",
   "metadata": {},
   "source": [
    "Linux and Mac users can check the content of 'partitionlib.py' file we just saved by uncommenting the shell command below (this will thrown errors if ran by Windows users). For Window users, feel free to open 'partitionlib.py' in a text editor to see what exactly was saved. Note, the 'partitionlib.py' file should be saved to the same directory as this notebook!"
   ]
  },
  {
   "cell_type": "code",
   "execution_count": 11,
   "metadata": {},
   "outputs": [
    {
     "name": "stdout",
     "output_type": "stream",
     "text": [
      "\r\n",
      "import numpy as np\r\n",
      "\r\n",
      "# now partition the data \r\n",
      "\r\n",
      "\"\"\" partitioning data\r\n",
      "\r\n",
      "    parameters\r\n",
      "    -----------\r\n",
      "    X        numpy array\r\n",
      "             input data to partition\r\n",
      "    T        numpy array\r\n",
      "             target labels to partition\r\n",
      "    raito    list\r\n",
      "             list of ratios for partitions (should be summed to 1) \r\n",
      "             the number of return pairs are different\r\n",
      "    return\r\n",
      "    -------\r\n",
      "    \r\n",
      "    Xs       list of numpy arrays\r\n",
      "    \r\n",
      "    Ts       list of numpy arrays\r\n",
      "\"\"\"\r\n",
      "def partition(X, T, ratio=[0.8, 0.2]): \r\n",
      "    \r\n",
      "    # Checks to make sure ratio sums to 1\r\n",
      "    assert(np.sum(ratio) == 1)\r\n",
      "    \r\n",
      "    # Store the number of data samples \r\n",
      "    N = X.shape[0]\r\n",
      "\r\n",
      "    # change the 1d array to 2d if need\r\n",
      "    if len(T.shape) == 1:\r\n",
      "        T = T.reshape((N,1))\r\n",
      "    \r\n",
      "    # Shuffle the data indices \r\n",
      "    idxs = np.random.permutation(N)\r\n",
      "        \r\n",
      "    Xs = []\r\n",
      "    Ts = []\r\n",
      "    i = 0  # first index to zero\r\n",
      "    for k, r in enumerate(ratio):\r\n",
      "         # Number of rows that corresponds to kth element in ratios\r\n",
      "        nrows = int(round(N * r)) \r\n",
      "        \r\n",
      "        # print (i, nrows)\r\n",
      "        # If we are on the last ratio simply use the remaining data samples\r\n",
      "        if k == len(ratio)-1:\r\n",
      "            Xs.append(X[idxs[i:], :])\r\n",
      "            Ts.append(T[idxs[i:], :])\r\n",
      "        else:\r\n",
      "            Xs.append(X[idxs[i:i+nrows], :])\r\n",
      "            Ts.append(T[idxs[i:i+nrows], :])\r\n",
      "        \r\n",
      "        i += nrows\r\n",
      "    \r\n",
      "    return Xs, Ts\r\n"
     ]
    }
   ],
   "source": [
    "# !cat partitionlib.py "
   ]
  },
  {
   "cell_type": "markdown",
   "metadata": {},
   "source": [
    "### Importing your own python files\n",
    "\n",
    "Now we can import our saved 'partitionlib.py' by using the typical Python import format. However, now we are referring to our saved file 'partitionlib' instead of a pip or conda installed module (package)."
   ]
  },
  {
   "cell_type": "code",
   "execution_count": 12,
   "metadata": {},
   "outputs": [],
   "source": [
    "import partitionlib as ptl"
   ]
  },
  {
   "cell_type": "markdown",
   "metadata": {},
   "source": [
    "Here we are referencing the local file 'partitionlib.py' by saying `import partitionlib` (note, we do not need to add '.py'). Next, we can nickname the import to 'ptl' using `as ptl`. Nicknaming simply allows us to reduce the length of long package or file names.\n",
    "\n",
    "Now, we can refer to our `partition()` function with the following line `ptl.partition`. Recall, the nickname `plt` is referring to the file we imported and `partition()` is a function within the nicknamed file `plt`."
   ]
  },
  {
   "cell_type": "code",
   "execution_count": 13,
   "metadata": {},
   "outputs": [
    {
     "data": {
      "text/plain": [
       "<function partitionlib.partition(X, T, ratio=[0.8, 0.2])>"
      ]
     },
     "execution_count": 13,
     "metadata": {},
     "output_type": "execute_result"
    }
   ],
   "source": [
    "ptl.partition"
   ]
  },
  {
   "cell_type": "markdown",
   "metadata": {},
   "source": [
    "You may come to notice that if we add code to our 'partitionlib.py' file after running the above import `import partitionlib as ptl` the newly added code will not be reflected in our function when ran. The issue here is that when we import our 'partitionlib.py' file Python takes a static snapshot of the code in 'partitionlib.py'. As you might have guessed, this means that even when we update the 'partitionlib.py' file with new code, Jupyter will not know about any of the changes (as it will be using an old \"snapshot\").\n",
    "\n",
    "For example, let's say we ran our import `import partitionlib as ptl` within Jupyter, but then decided we wanted to add the following line `print(\"Running partition\")` to our `partition()` function in the 'partitionlib.py' file.  However, now when we go to run the `partition()` function within Jupyter our changes made in the  'partitionlib.py' file **will not** be reflected. Let's look at how we can overcome this issue."
   ]
  },
  {
   "cell_type": "markdown",
   "metadata": {},
   "source": [
    "\n",
    "### Updating imports by the restarting kernel\n",
    "The easiest way to overcome this issue and update our snapshot is by restarting the notebook's kernel. To restart the kernel go to the main menu bar at the top of the notebook and select 'Kernel' -> 'Restart' (restarting the kernel will require us to rerun all our cells). Once the kernel has been restarted then we can rerun `import partitionlib as ptl` which will now have our updated file. Simply rerunning the code cell containing `import partitionlib as ptl` will not update our snapshot, we must restart the kernel."
   ]
  },
  {
   "cell_type": "markdown",
   "metadata": {},
   "source": [
    "### Updating imports using manual reload\n",
    "While restarting the kernel is relatively straight forward it can be quite costly to restart our notebook every time we make a change to our 'partitionlib.py' file. One way to get around this is to use the built-in Python module `importlib` and its `reload()` method. By calling the method `importlib.reload(partitionlib)` this tells our notebook to manually update our import snapshot to reflect our new code, without needing to restart the kernel. \n",
    "\n",
    "**Now, instead of restarting the kernel we only have to rerun `importlib.reload(partitionlib)` every time we make changes to the 'partitionlib.py' file**."
   ]
  },
  {
   "cell_type": "code",
   "execution_count": 14,
   "metadata": {},
   "outputs": [],
   "source": [
    "# ?importlib.reload"
   ]
  },
  {
   "cell_type": "code",
   "execution_count": 15,
   "metadata": {},
   "outputs": [
    {
     "data": {
      "text/plain": [
       "<module 'partitionlib' from '/home/dev/workspace/4156/in-class-activity/nonlinear-regression-2/partitionlib.py'>"
      ]
     },
     "execution_count": 15,
     "metadata": {},
     "output_type": "execute_result"
    }
   ],
   "source": [
    "import importlib\n",
    "import partitionlib\n",
    "importlib.reload(partitionlib)"
   ]
  },
  {
   "cell_type": "markdown",
   "metadata": {},
   "source": [
    "### Updating imports automatically\n",
    "\n",
    "Well, even running `importlib.reload` every time we change code in our 'partitionlib.py' file can be annoying. Luckily, there is a neat Magic that can automatically reload our imports before executing code. Sadly, this method isn't fault proof and can sometimes fail given certain caveats (see documentation below). This autoloading Magic is called `autoreload`. It can be loaded using `%load_ext autoreload` and then activated using `%autoreload`. There are a few parameters that can be pass to `%autoreload` which change how the automatically reloading works (see documentation below). For now, we will simply add `%autoreload 2` which will reload all modules every time before executing our Python code.\n",
    "\n",
    "For more information on `autoreload` and its caveats check out the following documentation [here](https://ipython.org/ipython-doc/3/config/extensions/autoreload.html)."
   ]
  },
  {
   "cell_type": "code",
   "execution_count": 16,
   "metadata": {},
   "outputs": [],
   "source": [
    "# just in case, you made change in the file, you may need to reload as blow\n",
    "%load_ext autoreload\n",
    "%autoreload 2"
   ]
  },
  {
   "cell_type": "markdown",
   "metadata": {},
   "source": [
    "### TODO: \n",
    "Here we have modified the `partition_data()` function to return our partitions. This is done in order to rid ourselves of the pesky global variables we had before. \n",
    "\n",
    "Notice, we pass Numpy arrays to our partition function using `X.values` and `T.values`. Thus, we can expect Numpy arrays to be stored within the lists `Xs` and `Ts`.\n",
    "\n",
    "1. Split the `data` output from the `partition()` function into `Xtrain`, and `Xtest`\n",
    "2. Split the `targets` output from the `partition()` function into `Ttrain`, and `Ttest`\n",
    "3. Return the partitioned data in the following order: `Xtrain`, `Xtest`, `Ttrain`, `Ttest`"
   ]
  },
  {
   "cell_type": "code",
   "execution_count": 17,
   "metadata": {},
   "outputs": [],
   "source": [
    "# Let us modify previous partition_data function not to use global variables\n",
    "\n",
    "def partition_data(X, T):\n",
    "    \"\"\"Partition data into train and test splits.\"\"\"\n",
    "    data, targets = ptl.partition(copy(X.values), copy(T.values))\n",
    "    # TODO (1)\n",
    "    Xtrain, Xtest = data\n",
    "    # TODO (2)\n",
    "    Ttrain, Ttest = targets\n",
    "    \n",
    "    # TODO (3):\n",
    "    return Xtrain, Xtest, Ttrain, Ttest"
   ]
  },
  {
   "cell_type": "code",
   "execution_count": 18,
   "metadata": {},
   "outputs": [
    {
     "name": "stdout",
     "output_type": "stream",
     "text": [
      "Train data shape: (127, 4)\n",
      "Train target shape: (127, 1)\n",
      "Test data shape: (32, 4)\n",
      "Test target shape: (32, 1)\n"
     ]
    }
   ],
   "source": [
    "Xtrain, Xtest, Ttrain, Ttest = partition_data(X, T)\n",
    "print(\"Train data shape: {}\".format(Xtrain.shape))\n",
    "print(\"Train target shape: {}\".format(Ttrain.shape))\n",
    "print(\"Test data shape: {}\".format(Xtest.shape))\n",
    "print(\"Test target shape: {}\".format(Ttest.shape))"
   ]
  },
  {
   "cell_type": "markdown",
   "metadata": {},
   "source": [
    " Before we end this section let's define some variables that'll be used later on. Here we set `N` to store the total number of data samples and `D` to store the total number of features. Likewise, we set `Ntrain` to store the total number of training data samples and `Ntest` to store the total number of testing data samples."
   ]
  },
  {
   "cell_type": "code",
   "execution_count": 19,
   "metadata": {},
   "outputs": [
    {
     "name": "stdout",
     "output_type": "stream",
     "text": [
      "N = 159 data samples\n",
      "D = 4 data features\n",
      "K = 1 data features\n",
      "Ntrain = 127 training data samples\n",
      "Ntest = 32 testing data samples\n"
     ]
    }
   ],
   "source": [
    "N = X.shape[0] # Number of data samples\n",
    "D = X.shape[1] # Number of data features\n",
    "K = T.shape[1] # Number of output values\n",
    "Ntrain = Xtrain.shape[0] # Number of train data samples\n",
    "Ntest = Xtest.shape[0] # Number of test data samples\n",
    "print(\"N = {} data samples\".format(N))\n",
    "print(\"D = {} data features\".format(D))\n",
    "print(\"K = {} data features\".format(K))\n",
    "print(\"Ntrain = {} training data samples\".format(Ntrain))\n",
    "print(\"Ntest = {} testing data samples\".format(Ntest))"
   ]
  },
  {
   "cell_type": "markdown",
   "metadata": {},
   "source": [
    "# Apply Nonlinear Regression: Neural Network Class\n",
    "\n",
    "Finally, it is time for us to reimplement our Neural Network from last week, but this time structured as a class. We have left last week's summary below in-case you need a reference for how the forward and backward passes work. \n",
    "\n",
    "**Remember that we randomly partitioned our data and randomly initialized our weights, which means that your plots and RMSE might vary from ours!**\n",
    "\n",
    "## Variables \n",
    "\n",
    "Here is a list of the variables,  shapes, and their description.\n",
    "\n",
    "- $X : N \\times D$ - Input Data without bias\n",
    "    - $N$ is the number of data samples\n",
    "    - $D$ is the number of features\n",
    "- $X1 : N \\times (D+1)$ - Input data with bias\n",
    "    - $(D+1)$ is the number of features plus bias\n",
    "- $V : (D+1) \\times G$ - Input weights\n",
    "    - Note: $G$ is the number of hidden units\n",
    "- $Z : N \\times G$ - First layer output\n",
    "    - Note: Activation function is applied here\n",
    "- $Z1 : N \\times (G+1)$ - First layer output with bias\n",
    "    - $(G+1)$ is the number of hidden units plus bias\n",
    "- $W : (G+1) \\times K$ - Output weights\n",
    "    - $K$ is the number of outputs (for regression this is 1 and for classification this your number of classes)\n",
    "- $Y : N \\times K$ - Predictions\n",
    "- $T : N \\times K$ - Targets\n",
    "\n",
    "## Forward Pass Steps\n",
    "\n",
    "Recall the following steps for making a prediction, also called the forward pass, from the class notes.\n",
    "\n",
    "1. Calculate first layer output by taking the dot product between the inputs $X1$ and input weights $V$. Then apply the activation function $\\tanh$. \n",
    "$$Z = \\tanh(X1 \\cdot V)$$\n",
    "2. Add bias to $Z$ to get $Z1$\n",
    "3. Make your predictions by taking the dot product between the output of the first layer $Z1$ and the output weights $W$.\n",
    "$$Y = Z1 \\cdot W$$\n",
    "\n",
    "## Backward Pass Equations\n",
    "\n",
    "Recall the backward pass weight updates for $V$ and $W$ from the class notes.\n",
    "\n",
    "$$ V \\leftarrow V + \\frac{\\rho_v}{N*K}*{X1}^T \\cdot ( (T - Y) \\cdot W^T \\odot (1 - Z^2) )$$\n",
    "\n",
    "Here $N$ and $K$ are scalars and $\\rho_v$ is our learning rate for our input weights $V$. In addition, $X1$ is our input data with bias added, $T$ is our target, $Y$ is our predictions, $W$ is the output weights, and $Z$ is the output of the first layer with the activation function applied. **Recall, that we remove the bias from $W$ for this update as we only take into account the bias for the current weight we are updating! (In the case, since we updating $V$, we only care about the bias for input weight $V$.)**\n",
    "\n",
    "$$ W \\leftarrow W + \\frac{\\rho_w}{N*K}*{Z1}^T \\cdot (T - Y)$$\n",
    "\n",
    "Here $N$ and $K$ are scalars and $\\rho_w$ is our learning rate for our output weights $W$. In addition, $T$ is our target, $Y$ is our predictions, $Z1$ is the output of the first layer with the activation function applied and bias added. \n",
    "\n",
    "**Note that $\\cdot$ refers to the dot product, $\\odot$ refers to the element-wise multiplication, and $*$ refers to scalar multiplication.**"
   ]
  },
  {
   "cell_type": "markdown",
   "metadata": {},
   "source": [
    "## Standardizer Class\n",
    "\n",
    "First, let's create a class which will standardize our data called `Standardizer`. Recall that standardization sets all our features to have a mean of 0 and STD of 1, thus equalizing the scales of all our features. If our features are operating under different scales our gradient updates and weights can be biased towards features with larger scales. "
   ]
  },
  {
   "cell_type": "markdown",
   "metadata": {},
   "source": [
    "### TODO\n",
    "\n",
    "Recall, the formula for standardizing is as follows.\n",
    "\n",
    "$$\\frac{X - mean(X)}{STD(X)}$$\n",
    "\n",
    "1. Finish the `standardize()` method below by standardizing the passed data `X` using the standardization formula above. Here `self._mu` is our mean, and `self._sigma` is our STD. Be sure to return the newly standardized data!"
   ]
  },
  {
   "cell_type": "code",
   "execution_count": 20,
   "metadata": {},
   "outputs": [],
   "source": [
    "# standardization class\n",
    "class Standardizer: \n",
    "    \"\"\" class version of standardization \"\"\"\n",
    "    def __init__(self, X, explore=False):\n",
    "        self._mu = np.mean(X,0)  \n",
    "        self._sigma = np.std(X,0)\n",
    "        if explore:\n",
    "            print (\"mean: \", self._mu)\n",
    "            print (\"sigma: \", self._sigma)\n",
    "            print (\"min: \", np.min(X,0))\n",
    "            print (\"max: \", np.max(X,0))\n",
    "\n",
    "    def set_sigma(self, s):\n",
    "        \"\"\" Set STD \"\"\"\n",
    "        self._sigma[:] = s\n",
    "\n",
    "    def standardize(self, X):\n",
    "        \"\"\" Convert passed data to have a mean of 0 and STD of 1\"\"\"\n",
    "        # TODO (1)\n",
    "        return (X - self._mu) / self._sigma \n",
    "\n",
    "    def unstandardize(self, X):\n",
    "        \"\"\" Convert standardized data back to its orignal scale \"\"\"\n",
    "        return (X * self._sigma) + self._mu \n",
    "    "
   ]
  },
  {
   "cell_type": "markdown",
   "metadata": {},
   "source": [
    "## Neural Network Class\n",
    "\n",
    "The below neural network code is copied from the class notes, feel free to reference them ([class notes link](https://nbviewer.jupyter.org/url/webpages.uncc.edu/mlee173/teach/itcs4156/notebooks/notes/Note-Neural%20Networks.Sol.ipynb)). If you have not downloaded the 'grad.py' file yet, please do by using the following link: [gray.py link](https://webpages.uncc.edu/mlee173/teach/itcs4156/notebooks/notes/grad.py). To download, right-click on the 'grad.py' code and select \"Save Page As\". Be sure to save the 'grad.py' file in the same directory as this notebook!\n",
    "\n",
    "If you're on Linux or Mac, you can uncomment and run the following cell below to download the 'grad.py' file to your current directory (if you're on Windows the below code cell might throw an error)."
   ]
  },
  {
   "cell_type": "code",
   "execution_count": 21,
   "metadata": {},
   "outputs": [],
   "source": [
    "# !curl -o grad.py https://webpages.uncc.edu/mlee173/teach/itcs4156/notebooks/notes/grad.py"
   ]
  },
  {
   "cell_type": "markdown",
   "metadata": {},
   "source": [
    "### forward() method\n",
    "The `forward()` method works much like the forward pass code from from last week, except now we can have more than one hidden layer. Thus, we create a loop that will loop through each layer where we add bias, compute the linear output, and then apply the activation function. Here `t` acts as the output for each layer and `Z` stores the input of each layer. `t` is acting like our $Z$ and $Z1$ from last week (don't be fooled by the programming notation used). `Z` in our loop is simply tracking the input for each layer, which is the output from the previous layer (acts as a history of `t`). For example, the output of the first hidden layer would be the input for the second hidden layer.\n",
    "\n",
    "### backward() method\n",
    "\n",
    "Recall the $W$ and $V$ updates from last week below. Remember when performing the chain rule, i.e. the backwards pass, we start by updating the output weights first. We then continue updating each layers weights until we reach the input layer. In last weeks example we only had one hidden layer. Thus, we only had input and output weights so our equations were simply $W$ and $V$.\n",
    "\n",
    "$$ W \\leftarrow W + \\frac{\\rho_w}{N*K}*{Z1}^T \\cdot (T - Y)$$\n",
    "\n",
    "$$ V \\leftarrow V + \\frac{\\rho_v}{N*K}*{X1}^T \\cdot ( (T - Y) \\cdot W^T \\odot (1 - Z^2) )$$\n",
    "\n",
    "Now that we can have $n$ hidden layers we need to apply the chain rule formula. In essence, our $V$ is now $V_n$ where we must update the weights for each $n$th hidden layer. To do so we need to propagate the gradient from the output layer all the way to the input layer.\n",
    "\n",
    "Let's look at the below line of code from the `backward()` method. Here we can start to see how our code for the chain rule will account for both the $W$ update and the $V$ update for $n$ hidden layers.\n",
    "\n",
    "`dws.insert(0,(-rh * (self.add_ones(Z[layer]).T @ delta) + lmbterm))`\n",
    "\n",
    "Here `delta` will act as the gradient from the previous layer or the output error and `self.add_ones(Z[layer])` acts as the current layer's input with bias added, in other words, the output from the previous layer with bias added. This line of code might look familiar to you if you ignore `lmbterm` (`lmbterm` is a regularization term that is not important to us at the moment). For the first iteration of the loop, the above line is exactly like our $W$ weight update equation. This makes sense because we start from the output and $W$ was our output weight update. The following loop iterations for this line of code will look like our equation for $V$, where `delta`acts as $(T - Y) \\cdot W^T \\odot (1 - Z^2)$. However, what used to be our output error for $(T - Y)$ for $W$ now becomes our propagated gradient for the remaining loop iterations!\n",
    "\n",
    "\n",
    "### TODO:\n",
    "\n",
    "Reference the class note if you get stuck as example code is implemented there!\n",
    "\n",
    "**Forward pass**\n",
    "1.  Add code for the **output** layer computation (dot product). To do so add ones to `t` and then compute the dot product between `t` and the weights for the current layer. Store the output back into `t`.\n",
    "    1. Hint: `t` is the output from the previous layer. `self._W` is a list of arrays where each array corresponds to a given layer's weights. Thus, be sure to index `self._W` according to the for loop iterator `layer` to get the current layer's weights!\n",
    "<br><br>\n",
    "2. Add code for the **input and hidden layer** computation (i.e. activation applied to linear model output). To do so add ones to `t` and then compute the dot product between `t` and the current layer's weights. Lastly, apply the `np.tanh()` activation function to the linear model output. Store the final output back into `t`.\n",
    "    1. Hint: See TODO (1) hint.\n",
    "\n",
    "**Backward pass**\n",
    "3. Add code for the chain rule to propagate the gradient. In other words, implement `delta` using part of the $V$ equation we discussed earlier $(T - Y) \\cdot W^T \\odot (1 - Z^2)$. Here `delta` corresponds to $(T - Y)$ , $W$ corresponds to `self._W` indexed at the current layer, $Z$ corresponds to `Z` indexed at the current layer. Store the output back into `delta`.\n",
    "    1. Hint: Recall that we must remove the bias from `self._W`, just like we did last week when updating $V$! "
   ]
  },
  {
   "cell_type": "code",
   "execution_count": 30,
   "metadata": {},
   "outputs": [],
   "source": [
    "\n",
    "\"\"\" Neural Network \n",
    "        referenced NN code by Chuck Anderson in R and C++ \n",
    "\n",
    "                                by Jake Lee (lemin)\n",
    "\n",
    "    example usage:\n",
    "        X = numpy.array([0,0,1,0,0,1,1,1]).reshape(4,2)\n",
    "        T = numpy.array([0,1,1,0,1,0,0,1]).reshape(4,2)\n",
    "\n",
    "        nn = nnet.NeuralNet([2,3,2])\n",
    "        nn.train(X,T, wprecision=1e-20, fprecision=1e-2)\n",
    "        Y = nn.use(X)\n",
    "\n",
    "\"\"\"\n",
    "from grad import scg, steepest\n",
    "from copy import copy\n",
    "\n",
    "\n",
    "class NeuralNet:\n",
    "    \"\"\" neural network class for regression\n",
    "        \n",
    "        Parameters\n",
    "        ----------\n",
    "        nunits: list\n",
    "            the number of inputs, hidden units, and outputs\n",
    "\n",
    "        Methods\n",
    "        -------\n",
    "        set_hunit    \n",
    "            update/initiate weights\n",
    "\n",
    "        pack \n",
    "            pack multiple weights of each layer into one vector\n",
    "\n",
    "        forward\n",
    "            forward processing of neural network\n",
    "\n",
    "        backward\n",
    "            back-propagation of neural network\n",
    "\n",
    "        train\n",
    "            train the neural network\n",
    "\n",
    "        use\n",
    "            appply the trained network for prediction\n",
    "\n",
    "        Attributes\n",
    "        ----------\n",
    "        _nLayers\n",
    "            the number of hidden unit layers \n",
    "\n",
    "        rho\n",
    "            learning rate\n",
    "\n",
    "        _W\n",
    "            weights\n",
    "        _weights\n",
    "            weights in one dimension (_W is referencing _weight)\n",
    "\n",
    "        stdX\n",
    "            standardization class for data\n",
    "        stdT\n",
    "            standardization class for target\n",
    "\n",
    "        Notes\n",
    "        -----\n",
    "        \n",
    "    \"\"\"\n",
    "\n",
    "    def __init__(self, nunits):\n",
    "\n",
    "        self._nLayers=len(nunits)-1\n",
    "        self.rho = [1] * self._nLayers\n",
    "        self._W = []\n",
    "        wdims = []\n",
    "        lenweights = 0\n",
    "        for i in range(self._nLayers):\n",
    "            nwr = nunits[i] + 1\n",
    "            nwc = nunits[i+1]\n",
    "            wdims.append((nwr, nwc))\n",
    "            lenweights = lenweights + nwr * nwc\n",
    "        \n",
    "        self._weights = np.random.uniform(-0.1,0.1, lenweights) # Initialize weights randomly\n",
    "        start = 0  # fixed index error 20110107\n",
    "        for i in range(self._nLayers):\n",
    "            end = start + wdims[i][0] * wdims[i][1] \n",
    "            self._W.append(self._weights[start:end])\n",
    "            self._W[i].resize(wdims[i])\n",
    "            start = end\n",
    "        \n",
    "        self.stdX = None\n",
    "        self.stdT = None\n",
    "        self.stdTarget = True\n",
    "\n",
    "    def add_ones(self, w):\n",
    "        \"\"\" Add bias to passed weights and then return \"\"\"\n",
    "        return np.hstack((np.ones((w.shape[0], 1)), w))\n",
    "\n",
    "    def get_nlayers(self):\n",
    "        \"\"\" Return of layers \"\"\"\n",
    "        return self._nLayers\n",
    "\n",
    "    def set_hunit(self, w):\n",
    "        \"\"\" Set hidden unit weights \"\"\"\n",
    "        for i in range(self._nLayers-1):\n",
    "            if w[i].shape != self._W[i].shape:\n",
    "                print(\"set_hunit: shapes do not match!\")\n",
    "                break\n",
    "            else:\n",
    "                self._W[i][:] = w[i][:]\n",
    "\n",
    "    def pack(self, w):\n",
    "        \"\"\" Return a passed weights stacked \"\"\"\n",
    "        # Map applies a given function (np.ravel) to every\n",
    "        # element in a given iterable (w). We then cast the out of map\n",
    "        # as a list so the weights can be stacked into a numpy array.\n",
    "        return np.hstack(list(map(np.ravel, w)))\n",
    "\n",
    "    def unpack(self, weights):\n",
    "        \"\"\" Update class weights with passed weights \"\"\"\n",
    "        self._weights[:] = weights[:]  # unpack\n",
    "\n",
    "    def cp_weight(self):\n",
    "        \"\"\" Return a copy of the class weights \"\"\"\n",
    "        return copy(self._weights)\n",
    "\n",
    "    def RBF(self, X, m=None,s=None):\n",
    "        if m is None: m = np.mean(X)\n",
    "        if s is None: s = 2 #np.std(X)\n",
    "        r = 1. / (np.sqrt(2*np.pi)* s)  \n",
    "        return r * np.exp(-(X - m) ** 2 / (2 * s ** 2))\n",
    "\n",
    "    def forward(self,X):\n",
    "        \"\"\" Forward pass of the neural network\n",
    "        \n",
    "            returns\n",
    "            -------\n",
    "            \n",
    "            Retuns output after passing through all layers (t) and\n",
    "            a list of the inputs for each layer (Z).\n",
    "        \n",
    "        \"\"\"\n",
    "        t = X # t acts as the output for each layer\n",
    "        Z = [] # Z stores the input of each layer (i.e. output of previous layer)\n",
    "\n",
    "        # Loops through each layer in the neural network\n",
    "        for layer in range(self._nLayers):\n",
    "            Z.append(t) # Store the input for this layer\n",
    "            \n",
    "            # Check if the layer we are on is the last layer.\n",
    "            # If so, then don't apply the activation function.\n",
    "            if layer == self._nLayers - 1:\n",
    "                # TODO (1): fill in for the last layer computation (dot product)\n",
    "                t = self.add_ones(t) @  self._W[layer]\n",
    "            else:\n",
    "                # TODO (2): fill in for the hidden layer computation (activation on linear model output)     \n",
    "                t = np.tanh(self.add_ones(t) @ self._W[layer])\n",
    "        return (t, Z)\n",
    "        \n",
    "    def backward(self, error, Z, T, lmb=0):\n",
    "        \"\"\" Applies backwards pass to update all hidden layer weights \"\"\"\n",
    "        delta = error # Gradient from prvious layer, initialized to the error (T - Y)\n",
    "        N = T.size # Targets\n",
    "        dws = []\n",
    "        # Loop backwards through the layers starting from the output\n",
    "        for layer in range(self._nLayers - 1, -1, -1):\n",
    "            rh = float(self.rho[layer]) / N # Learning rate for current layer\n",
    "            if layer == 0:\n",
    "                lmbterm = 0\n",
    "            else:\n",
    "                # Create a vector for regularization term\n",
    "                lmbterm = lmb * np.vstack((np.zeros((1, self._W[layer].shape[1])),\n",
    "                            self._W[layer][1:,]))\n",
    "\n",
    "            dws.insert(0,(-rh * (self.add_ones(Z[layer]).T @ delta) + lmbterm))\n",
    "            \n",
    "            # Calculate the gradient if current layer isn't the input layer\n",
    "            if layer != 0:\n",
    "                # TODO (3): Try to write a chain rule of gradient here\n",
    "                delta = (delta @ self._W[layer][1:, :].T) * (1 - Z[layer]**2)\n",
    "        return self.pack(dws)\n",
    "\n",
    "    def _errorf(self, T, Y):\n",
    "        \"\"\" Calcuate the error between targets (T) and predictions (Y)\"\"\"\n",
    "        return T - Y\n",
    "        \n",
    "    def _objectf(self, T, Y, wpenalty):\n",
    "        \"\"\" Calculate the RMSE for our targets and predications.\n",
    "            Here wpenalty is our weights with a regularization \n",
    "            term applied.\n",
    "        \"\"\"\n",
    "        return 0.5 * np.mean(np.square(T - Y)) + wpenalty\n",
    "\n",
    "    def train(self, X, T, **params):\n",
    "    \n",
    "        verbose = params.pop('verbose', False)\n",
    "        # Pop training parameters from parameter dictionary\n",
    "        _lambda = params.pop('Lambda', 0.) # Regularization parameter for loss function\n",
    "        niter = params.pop('niter', 1000) # Number of epochs/steps\n",
    "        \n",
    "        # Pop metric parameters from parameter dictionary\n",
    "        wprecision = params.pop('wprecision', 1e-10) # Stop training when weight updates don't exceed passed threshold\n",
    "        fprecision = params.pop('fprecision', 1e-10) # Stop training when error doesn't exceed passed threshold\n",
    "        wtracep = params.pop('wtracep', False) # Enable tracking of weights per step\n",
    "        ftracep = params.pop('ftracep', False) # Enable tracking of erros per step\n",
    "\n",
    "        # Pop type of optimization to use, defaults to scaled conjugate gradient (scg) \n",
    "        optim = params.pop('optim', 'scg')\n",
    "        \n",
    "        # Standardize parameters \n",
    "        if self.stdX == None:\n",
    "            explore = params.pop('explore', False)\n",
    "            self.stdX = Standardizer(X, explore)\n",
    "        Xs = self.stdX.standardize(X)\n",
    "        if self.stdT == None and self.stdTarget:\n",
    "            self.stdT = Standardizer(T)\n",
    "            T = self.stdT.standardize(T)\n",
    "        \n",
    "        # Sub-function of train() to be pased to scg or steepest below\n",
    "        def gradientf(weights):\n",
    "            self.unpack(weights)\n",
    "            Y,Z = self.forward(Xs)\n",
    "            error = self._errorf(T, Y)\n",
    "            return self.backward(error, Z, T, _lambda)\n",
    "        \n",
    "         # Sub-function of train() to be pased to scg or steepest below\n",
    "        def optimtargetf(weights):\n",
    "            \"\"\" optimization target function : MSE \"\"\"\n",
    "            self.unpack(weights) # Save passed weights\n",
    "            #self._weights[:] = weights[:]  # unpack\n",
    "            Y,_ = self.forward(Xs) # Apply forward pass\n",
    "            Wnb=np.array([])\n",
    "            for i in range(self._nLayers):\n",
    "                if len(Wnb)==0: Wnb=self._W[i][1:,].reshape(self._W[i].size-self._W[i][0,].size,1)\n",
    "                else: Wnb = np.vstack((Wnb,self._W[i][1:,].reshape(self._W[i].size-self._W[i][0,].size,1)))\n",
    "            wpenalty = _lambda * (Wnb.flatten() @ Wnb.flatten())\n",
    "            return self._objectf(T, Y, wpenalty)\n",
    "        \n",
    "        # Select to optimize with scaled conjugate gradient or\n",
    "        #  with steepest decent.\n",
    "        if optim == 'scg':\n",
    "            result = scg(self.cp_weight(), gradientf, optimtargetf,\n",
    "                        wPrecision=wprecision, fPrecision=fprecision, \n",
    "                        nIterations=niter,\n",
    "                        wtracep=wtracep, ftracep=ftracep,\n",
    "                        verbose=False)\n",
    "            self.unpack(result['w'][:]) # Save updated weights\n",
    "            self.f = result['f'] # Store error computed by scg\n",
    "        elif optim == 'steepest':\n",
    "            result = steepest(self.cp_weight(), gradientf, optimtargetf,\n",
    "                                nIterations=niter,\n",
    "                                xPrecision=wprecision, fPrecision=fprecision,\n",
    "                                xtracep=wtracep, ftracep=ftracep )\n",
    "            self.unpack(result['w'][:]) # Save updated weights\n",
    "            \n",
    "        # Check if error tracking is enabled\n",
    "        if ftracep:\n",
    "            self.ftrace = result['ftrace']\n",
    "        if 'reason' in result.keys() and verbose:\n",
    "            print(result['reason'])\n",
    "\n",
    "        return result\n",
    "\n",
    "    def use(self, X, retZ=False):\n",
    "        # Check if input data need to be standardized\n",
    "        if self.stdX:\n",
    "            Xs = self.stdX.standardize(X)\n",
    "        else:\n",
    "            Xs = X\n",
    "            \n",
    "        # Apply forward pass to get predictions\n",
    "        Y, Z = self.forward(Xs)\n",
    "        \n",
    "        # Check if targets need to be standardized\n",
    "        if self.stdT is not None:\n",
    "            Y = self.stdT.unstandardize(Y)\n",
    "        if retZ:\n",
    "            return Y, Z\n",
    "        \n",
    "        return Y\n"
   ]
  },
  {
   "cell_type": "markdown",
   "metadata": {},
   "source": [
    "\n",
    "Our neural network class is now ready. Let's create an instance to fit on the tree root biomass data.\n",
    "\n",
    "### TODO: \n",
    "\n",
    "1. Initialize `nHidden`, the number of hidden units, to 5.\n",
    "2. Initialize the `NeuralNet` class by passing a list to the parameter 'nunits'. Store output into `nn`.\n",
    "    1. Hint: The parameter 'nunits' is a list where the first element is the number of inputs you have `D` and the last element is the number of outputs you have `K`. Any elements between our input and output elements are considered hidden layers. For each hidden layer you must specify the number of hidden units each layer will have. For this example, let's use only one hidden layer with `nHidden` hidden units. See class notes linked above for an example of how to initialize the `NeuralNet` class if you are stuck.\n",
    "3. Next, let's train our `nn` instance using `nn.train()`. Pass our train data `Xtrain`, our test data `Ttrain` and set the parameter 'ftracep' equal to true (this allows us to trace the training error per step).\n",
    "4. Finally, let's see how well the weights learned our training data for the `nn` instance by using the `nn.use()` method and passing `Xtrain` again. Store output into `Ytrain`."
   ]
  },
  {
   "cell_type": "code",
   "execution_count": 31,
   "metadata": {
    "scrolled": false
   },
   "outputs": [],
   "source": [
    "# TODO (1)\n",
    "nHidden = 5\n",
    "\n",
    "# TODO (2)\n",
    "nn = NeuralNet([D,nHidden,K])\n",
    "\n",
    "# TODO (3)\n",
    "nn.train(Xtrain, Ttrain, ftracep=True) \n",
    "\n",
    "# TODO (4)\n",
    "Ytrain = nn.use(Xtrain)"
   ]
  },
  {
   "cell_type": "markdown",
   "metadata": {},
   "source": [
    "### Observing the learning curve: \n",
    "Alright, now lets plot the training errors that the `NeuralNet` class has stored in `ftrace` for every step. \n"
   ]
  },
  {
   "cell_type": "code",
   "execution_count": 24,
   "metadata": {},
   "outputs": [
    {
     "data": {
      "image/png": "[encoded data removed]",
      "text/plain": [
       "<Figure size 432x288 with 1 Axes>"
      ]
     },
     "metadata": {
      "needs_background": "light"
     },
     "output_type": "display_data"
    }
   ],
   "source": [
    "plt.plot(nn.ftrace)\n",
    "plt.xlabel(\"iterations\")\n",
    "plt.ylabel(\"error\");"
   ]
  },
  {
   "cell_type": "markdown",
   "metadata": {},
   "source": [
    "### Plotting results\n",
    "\n",
    "Now, let's are reusing the `plot_fit()` function from last week and compare our targets `Ttrain` and predications `Ytrain`."
   ]
  },
  {
   "cell_type": "code",
   "execution_count": 25,
   "metadata": {},
   "outputs": [],
   "source": [
    "def plot_fit(Y, T, title=None):\n",
    "    \"\"\" Plot the passed predictions and targets while also computing\n",
    "        and printing the RMSE.\n",
    "    \"\"\"\n",
    "    plt.plot(T, label=\"target\")\n",
    "    plt.plot(Y, linewidth=3, label=\"prediction\")\n",
    "    plt.legend()\n",
    "    plt.ylabel(\"Allometry\")\n",
    "    plt.xlabel(\"Samples\")\n",
    "    plt.title(title)\n",
    "    # RMSE\n",
    "    rmse = np.sqrt(np.mean((Y - T)**2))\n",
    "    print(\"RMSE: {}\".format(rmse))"
   ]
  },
  {
   "cell_type": "code",
   "execution_count": 26,
   "metadata": {},
   "outputs": [
    {
     "name": "stdout",
     "output_type": "stream",
     "text": [
      "RMSE: 18.003388314143667\n"
     ]
    },
    {
     "data": {
      "image/png": "[encoded data removed]",
      "text/plain": [
       "<Figure size 432x288 with 1 Axes>"
      ]
     },
     "metadata": {
      "needs_background": "light"
     },
     "output_type": "display_data"
    }
   ],
   "source": [
    "plot_fit(Ytrain, Ttrain, title=\"Neural Network Train\")\n"
   ]
  },
  {
   "cell_type": "markdown",
   "metadata": {},
   "source": [
    "\n",
    "### TODO:\n",
    "Now let's check our test predications and their targets. Take a second to think about how well our test predictions and targets might match-up based on our training results.\n",
    "\n",
    "1. Test our neural network instance `nn` by passing our testing data `Xtest` to the` nn.use()` method. Store the output into `Ytest`."
   ]
  },
  {
   "cell_type": "code",
   "execution_count": 27,
   "metadata": {},
   "outputs": [
    {
     "name": "stdout",
     "output_type": "stream",
     "text": [
      "RMSE: 23.981751463705862\n"
     ]
    },
    {
     "data": {
      "image/png": "[encoded data removed]",
      "text/plain": [
       "<Figure size 432x288 with 1 Axes>"
      ]
     },
     "metadata": {
      "needs_background": "light"
     },
     "output_type": "display_data"
    }
   ],
   "source": [
    "# TODO(1)\n",
    "Ytest = nn.use(Xtest)\n",
    "\n",
    "plot_fit(Ytest, Ttest, title=\"Neural Network Test\")"
   ]
  },
  {
   "cell_type": "markdown",
   "metadata": {},
   "source": [
    "Welp, that's it for any required work for this lab. What do you think about this version? Is it easier to use? Does it work better? Harder to understand? \n",
    "\n",
    "If you have extra time or simply want to learn about tuning parameters for neural networks we highly recommend trying out these bonus exercises from last week. These tests will be much easier to complete since we have a neural network class now! \n",
    "\n",
    "**Bonus TODOs are not graded!**\n",
    "\n",
    "### BONUS TODO (1): \n",
    "You may not notice a large difference between the models. You might even see that the nonlinear regression algorithm is overfitting.\n",
    "\n",
    "Try adjusting the number of hidden units by changing the value of `nHidden`, when initializing `NeuralNet`, to 10, 50, and 100. Do you notice any differences in the test RMSE and plot? Does your neural network seem to be overfitting more or less?\n",
    "\n",
    "### BONUS TODO (2):\n",
    "\n",
    "Now, let's try stopping a bit earlier. Let's try to stop before our test error increases while training error still decreases, as this is sign of overfitting.\n",
    "\n",
    "Try decreasing the number of gradient decent steps by adjusting the `niter` variable when running `nn.train()`. Try using 15k, 5k, and 500. Notice any changes in the prediction plots or RMSE? "
   ]
  }
 ],
 "metadata": {
  "kernelspec": {
   "display_name": "Python 3",
   "language": "python",
   "name": "python3"
  },
  "language_info": {
   "codemirror_mode": {
    "name": "ipython",
    "version": 3
   },
   "file_extension": ".py",
   "mimetype": "text/x-python",
   "name": "python",
   "nbconvert_exporter": "python",
   "pygments_lexer": "ipython3",
   "version": "3.7.6"
  }
 },
 "nbformat": 4,
 "nbformat_minor": 2
}
