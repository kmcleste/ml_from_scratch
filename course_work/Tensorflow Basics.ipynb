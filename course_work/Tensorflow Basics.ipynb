{
 "cells": [
  {
   "cell_type": "markdown",
   "metadata": {},
   "source": [
    "# Tensorflow Basics\n",
    "### Kyle McLester"
   ]
  },
  {
   "cell_type": "code",
   "execution_count": 1,
   "metadata": {},
   "outputs": [],
   "source": [
    "import sys\n",
    "assert sys.version_info >= (3, 5)\n",
    "\n",
    "try:\n",
    "    # %tensorflow_version only exists in Colab.\n",
    "    %tensorflow_version 2.x\n",
    "except Exception:\n",
    "    pass\n",
    "\n",
    "# TensorFlow ≥2.0 is required\n",
    "import tensorflow as tf\n",
    "assert tf.__version__ >= \"2.0\" # check if your ensorflow version is above 2.0"
   ]
  },
  {
   "cell_type": "code",
   "execution_count": 2,
   "metadata": {},
   "outputs": [],
   "source": [
    "# Tools from text for consistant results\n",
    "\n",
    "# Common imports\n",
    "import numpy as np\n",
    "import os\n",
    "\n",
    "# To plot pretty figures\n",
    "%matplotlib inline\n",
    "import matplotlib\n",
    "import matplotlib.pyplot as plt\n",
    "plt.rcParams['axes.labelsize'] = 14\n",
    "plt.rcParams['xtick.labelsize'] = 12\n",
    "plt.rcParams['ytick.labelsize'] = 12"
   ]
  },
  {
   "cell_type": "code",
   "execution_count": 3,
   "metadata": {},
   "outputs": [
    {
     "name": "stdout",
     "output_type": "stream",
     "text": [
      "node1: tf.Tensor(3.0, shape=(), dtype=float32)\n"
     ]
    }
   ],
   "source": [
    "node1 = tf.constant(3.0, dtype=tf.float32)\n",
    "print('node1:', node1)"
   ]
  },
  {
   "cell_type": "code",
   "execution_count": 4,
   "metadata": {},
   "outputs": [
    {
     "name": "stdout",
     "output_type": "stream",
     "text": [
      "node2: tf.Tensor(4.0, shape=(), dtype=float32)\n"
     ]
    }
   ],
   "source": [
    "node2 = tf.constant(4.0) \n",
    "print('node2:', node2)"
   ]
  },
  {
   "cell_type": "code",
   "execution_count": 5,
   "metadata": {},
   "outputs": [
    {
     "name": "stdout",
     "output_type": "stream",
     "text": [
      "nodea: tf.Tensor([1. 2. 3.], shape=(3,), dtype=float32)\n",
      "nodeb: tf.Tensor([4 5 6], shape=(3,), dtype=int32)\n"
     ]
    }
   ],
   "source": [
    "nodea = tf.constant([1,2,3], dtype=tf.float32)\n",
    "nodeb = tf.constant([4,5,6]) # defaults to tf.int32\n",
    "print('nodea:', nodea)\n",
    "print('nodeb:', nodeb)"
   ]
  },
  {
   "cell_type": "code",
   "execution_count": 6,
   "metadata": {},
   "outputs": [
    {
     "name": "stdout",
     "output_type": "stream",
     "text": [
      "nodeA: tf.Tensor(\n",
      "[[1. 2. 3.]\n",
      " [1. 2. 3.]], shape=(2, 3), dtype=float32)\n",
      "nodeB: tf.Tensor(\n",
      "[[4 5 6]\n",
      " [4 5 6]], shape=(2, 3), dtype=int32)\n"
     ]
    }
   ],
   "source": [
    "nodeA = tf.constant([[1,2,3], [1,2,3]], dtype=tf.float32)\n",
    "nodeB = tf.constant([[4,5,6], [4,5,6]]) # defaults to tf.int32\n",
    "print('nodeA:', nodeA)\n",
    "print('nodeB:', nodeB)"
   ]
  },
  {
   "cell_type": "code",
   "execution_count": 7,
   "metadata": {},
   "outputs": [
    {
     "name": "stdout",
     "output_type": "stream",
     "text": [
      "node1 shape: ()\n",
      "nodeb shape: (3,)\n",
      "nodeB shape: (2, 3)\n"
     ]
    }
   ],
   "source": [
    "print('node1 shape:', node1.shape)\n",
    "print('nodeb shape:', nodeb.shape)\n",
    "print('nodeB shape:', nodeB.shape)"
   ]
  },
  {
   "cell_type": "code",
   "execution_count": 8,
   "metadata": {},
   "outputs": [
    {
     "name": "stdout",
     "output_type": "stream",
     "text": [
      "node1 shape: <dtype: 'float32'>\n",
      "nodeb shape: <dtype: 'int32'>\n",
      "nodeB shape: <dtype: 'int32'>\n"
     ]
    }
   ],
   "source": [
    "print('node1 shape:', node1.dtype)\n",
    "print('nodeb shape:', nodeb.dtype)\n",
    "print('nodeB shape:', nodeB.dtype)"
   ]
  },
  {
   "cell_type": "code",
   "execution_count": 9,
   "metadata": {},
   "outputs": [
    {
     "name": "stdout",
     "output_type": "stream",
     "text": [
      "node1: 3.0\n",
      "nodeb: [4 5 6]\n",
      "nodeB:\n",
      " [[4 5 6]\n",
      " [4 5 6]]\n"
     ]
    }
   ],
   "source": [
    "print(\"node1:\", node1.numpy())\n",
    "print(\"nodeb:\", nodeb.numpy()) \n",
    "print(\"nodeB:\\n\", nodeB.numpy())"
   ]
  },
  {
   "cell_type": "code",
   "execution_count": 10,
   "metadata": {},
   "outputs": [
    {
     "name": "stdout",
     "output_type": "stream",
     "text": [
      "tf.Tensor(7.0, shape=(), dtype=float32)\n"
     ]
    }
   ],
   "source": [
    "print(node1 + node2)"
   ]
  },
  {
   "cell_type": "code",
   "execution_count": 11,
   "metadata": {},
   "outputs": [
    {
     "name": "stdout",
     "output_type": "stream",
     "text": [
      "cannot compute AddV2 as input #1(zero-based) was expected to be a float tensor but is a int32 tensor [Op:AddV2]\n"
     ]
    }
   ],
   "source": [
    "try:\n",
    "    nodea + nodeb\n",
    "except tf.errors.InvalidArgumentError as ex:\n",
    "    print(ex)"
   ]
  },
  {
   "cell_type": "code",
   "execution_count": 12,
   "metadata": {},
   "outputs": [
    {
     "name": "stdout",
     "output_type": "stream",
     "text": [
      "nodea before casting: tf.Tensor([1. 2. 3.], shape=(3,), dtype=float32)\n",
      "nodea after casting: tf.Tensor([1 2 3], shape=(3,), dtype=int32)\n"
     ]
    }
   ],
   "source": [
    "print('nodea before casting:', nodea)\n",
    "print('nodea after casting:', tf.cast(nodea, tf.int32))"
   ]
  },
  {
   "cell_type": "code",
   "execution_count": 13,
   "metadata": {},
   "outputs": [
    {
     "name": "stdout",
     "output_type": "stream",
     "text": [
      "tf.Tensor([5 7 9], shape=(3,), dtype=int32)\n"
     ]
    }
   ],
   "source": [
    "print(tf.cast(nodea, tf.int32) + nodeb)"
   ]
  },
  {
   "cell_type": "code",
   "execution_count": 14,
   "metadata": {},
   "outputs": [
    {
     "name": "stdout",
     "output_type": "stream",
     "text": [
      "tf.Tensor(\n",
      "[[5. 7. 9.]\n",
      " [5. 7. 9.]], shape=(2, 3), dtype=float32)\n"
     ]
    }
   ],
   "source": [
    "nodeC = nodeA + tf.cast(nodeB, tf.float32)\n",
    "print(nodeC)"
   ]
  },
  {
   "cell_type": "code",
   "execution_count": 15,
   "metadata": {},
   "outputs": [
    {
     "data": {
      "text/plain": [
       "<tf.Tensor: shape=(2,), dtype=float32, numpy=array([7., 7.], dtype=float32)>"
      ]
     },
     "execution_count": 15,
     "metadata": {},
     "output_type": "execute_result"
    }
   ],
   "source": [
    "nodeC[:, 1]"
   ]
  },
  {
   "cell_type": "code",
   "execution_count": 16,
   "metadata": {},
   "outputs": [],
   "source": [
    "column_matrix = nodeC[:, 1, None]   # or nodeC[:, 1, tf.newaxis]\n",
    "if (2,1) != column_matrix.shape:\n",
    "    raise ValueError(\"Your sliced matrix does not have the shape (2, 1)\")"
   ]
  },
  {
   "cell_type": "code",
   "execution_count": 17,
   "metadata": {},
   "outputs": [
    {
     "data": {
      "text/plain": [
       "array([0, 1, 2, 3])"
      ]
     },
     "execution_count": 17,
     "metadata": {},
     "output_type": "execute_result"
    }
   ],
   "source": [
    "array = np.arange(4)\n",
    "array"
   ]
  },
  {
   "cell_type": "code",
   "execution_count": 18,
   "metadata": {},
   "outputs": [
    {
     "data": {
      "text/plain": [
       "<tf.Tensor: shape=(4,), dtype=int32, numpy=array([0, 1, 2, 3])>"
      ]
     },
     "execution_count": 18,
     "metadata": {},
     "output_type": "execute_result"
    }
   ],
   "source": [
    "tensor = tf.constant(array)\n",
    "tensor"
   ]
  },
  {
   "cell_type": "code",
   "execution_count": 19,
   "metadata": {},
   "outputs": [
    {
     "data": {
      "text/plain": [
       "array([0, 1, 2, 3])"
      ]
     },
     "execution_count": 19,
     "metadata": {},
     "output_type": "execute_result"
    }
   ],
   "source": [
    "tensor.numpy()"
   ]
  },
  {
   "cell_type": "code",
   "execution_count": 20,
   "metadata": {},
   "outputs": [
    {
     "data": {
      "text/plain": [
       "array([0, 1, 2, 3])"
      ]
     },
     "execution_count": 20,
     "metadata": {},
     "output_type": "execute_result"
    }
   ],
   "source": [
    "np.array(tensor)"
   ]
  },
  {
   "cell_type": "code",
   "execution_count": 21,
   "metadata": {},
   "outputs": [
    {
     "data": {
      "text/plain": [
       "<tf.Tensor: shape=(4,), dtype=int32, numpy=array([0, 1, 4, 9])>"
      ]
     },
     "execution_count": 21,
     "metadata": {},
     "output_type": "execute_result"
    }
   ],
   "source": [
    "tf.square(array)  # passing numpy array to tensorflow"
   ]
  },
  {
   "cell_type": "code",
   "execution_count": 22,
   "metadata": {},
   "outputs": [
    {
     "data": {
      "text/plain": [
       "array([0, 1, 4, 9], dtype=int32)"
      ]
     },
     "execution_count": 22,
     "metadata": {},
     "output_type": "execute_result"
    }
   ],
   "source": [
    "np.square(tensor)  # passing tf tensor"
   ]
  },
  {
   "cell_type": "code",
   "execution_count": 23,
   "metadata": {},
   "outputs": [
    {
     "name": "stdout",
     "output_type": "stream",
     "text": [
      "tf.Tensor(b'Hello, world!', shape=(), dtype=string)\n"
     ]
    }
   ],
   "source": [
    "string_tensor = tf.constant('Hello, world!')\n",
    "print(string_tensor)"
   ]
  },
  {
   "cell_type": "code",
   "execution_count": 24,
   "metadata": {},
   "outputs": [
    {
     "name": "stdout",
     "output_type": "stream",
     "text": [
      "tf.Tensor([ 72 101 108 108 111  44  32 119 111 114 108 100  33], shape=(13,), dtype=int32)\n"
     ]
    }
   ],
   "source": [
    "# Convert string to unicode\n",
    "string = \"Hello, world!\"\n",
    "[ord(ch) for ch in string]\n",
    "\n",
    "# Load unicode into tensor\n",
    "unicode_tensor = tf.strings.unicode_decode(string, \"UTF-8\")\n",
    "print(unicode_tensor)"
   ]
  },
  {
   "cell_type": "code",
   "execution_count": 25,
   "metadata": {},
   "outputs": [
    {
     "name": "stdout",
     "output_type": "stream",
     "text": [
      "tf.Tensor(b'Hello, world!', shape=(), dtype=string)\n"
     ]
    }
   ],
   "source": [
    "string_tensor = tf.strings.unicode_encode(unicode_tensor, \"UTF-8\")\n",
    "print(string_tensor)"
   ]
  },
  {
   "cell_type": "code",
   "execution_count": 26,
   "metadata": {},
   "outputs": [
    {
     "name": "stdout",
     "output_type": "stream",
     "text": [
      "tf.Tensor([b'hello' b'world!' b'itcs4156'], shape=(3,), dtype=string)\n"
     ]
    }
   ],
   "source": [
    "string_tensor = tf.constant(['hello', 'world!', 'itcs4156'])\n",
    "print(string_tensor)"
   ]
  },
  {
   "cell_type": "code",
   "execution_count": 27,
   "metadata": {},
   "outputs": [
    {
     "data": {
      "text/plain": [
       "<tf.Tensor: shape=(3,), dtype=int32, numpy=array([5, 6, 8])>"
      ]
     },
     "execution_count": 27,
     "metadata": {},
     "output_type": "execute_result"
    }
   ],
   "source": [
    "tf.strings.length(string_tensor, unit=\"UTF8_CHAR\")"
   ]
  },
  {
   "cell_type": "code",
   "execution_count": 28,
   "metadata": {},
   "outputs": [
    {
     "data": {
      "text/plain": [
       "<tf.RaggedTensor [[104, 101, 108, 108, 111], [119, 111, 114, 108, 100, 33], [105, 116, 99, 115, 52, 49, 53, 54]]>"
      ]
     },
     "execution_count": 28,
     "metadata": {},
     "output_type": "execute_result"
    }
   ],
   "source": [
    "ragged_tensor = tf.strings.unicode_decode(string_tensor, \"UTF-8\")\n",
    "ragged_tensor"
   ]
  },
  {
   "cell_type": "code",
   "execution_count": 29,
   "metadata": {},
   "outputs": [
    {
     "data": {
      "text/plain": [
       "TensorShape([3, None])"
      ]
     },
     "execution_count": 29,
     "metadata": {},
     "output_type": "execute_result"
    }
   ],
   "source": [
    "ragged_tensor.shape"
   ]
  },
  {
   "cell_type": "code",
   "execution_count": 30,
   "metadata": {},
   "outputs": [
    {
     "name": "stdout",
     "output_type": "stream",
     "text": [
      "<tf.RaggedTensor [[1, 2, 3], [1], [1, 2, 3, 4, 5]]>\n",
      "(3, None)\n"
     ]
    }
   ],
   "source": [
    "ragged_tensor = tf.ragged.constant([[1,2,3],[1], [1,2,3,4,5]])\n",
    "print(ragged_tensor)\n",
    "print(ragged_tensor.shape)"
   ]
  },
  {
   "cell_type": "code",
   "execution_count": 31,
   "metadata": {},
   "outputs": [
    {
     "name": "stdout",
     "output_type": "stream",
     "text": [
      "tf.Tensor(\n",
      "[[1 2 3 0 0]\n",
      " [1 0 0 0 0]\n",
      " [1 2 3 4 5]], shape=(3, 5), dtype=int32)\n",
      "(3, 5)\n"
     ]
    }
   ],
   "source": [
    "tensor = ragged_tensor.to_tensor()\n",
    "print(tensor)\n",
    "print(tensor.shape)"
   ]
  },
  {
   "cell_type": "code",
   "execution_count": 32,
   "metadata": {},
   "outputs": [
    {
     "data": {
      "text/plain": [
       "array([[0., 0., 0., 0., 0., 0., 0., 0.],\n",
       "       [0., 0., 1., 0., 0., 1., 0., 0.],\n",
       "       [0., 0., 0., 0., 0., 0., 0., 0.],\n",
       "       [0., 0., 0., 0., 0., 0., 0., 0.],\n",
       "       [0., 0., 0., 0., 0., 0., 0., 0.],\n",
       "       [0., 0., 0., 0., 0., 0., 0., 0.],\n",
       "       [0., 0., 0., 0., 0., 0., 0., 0.],\n",
       "       [0., 0., 0., 0., 0., 0., 0., 0.]])"
      ]
     },
     "execution_count": 32,
     "metadata": {},
     "output_type": "execute_result"
    }
   ],
   "source": [
    "sparse_array = np.zeros((8, 8))\n",
    "sparse_array[(1, 1), (2, 5)] = 1\n",
    "sparse_array"
   ]
  },
  {
   "cell_type": "code",
   "execution_count": 33,
   "metadata": {},
   "outputs": [
    {
     "name": "stdout",
     "output_type": "stream",
     "text": [
      "tf.Tensor(\n",
      "[[0. 0. 0. 0. 0. 0. 0. 0.]\n",
      " [0. 0. 1. 0. 0. 1. 0. 0.]\n",
      " [0. 0. 0. 0. 0. 0. 0. 0.]\n",
      " [0. 0. 0. 0. 0. 0. 0. 0.]\n",
      " [0. 0. 0. 0. 0. 0. 0. 0.]\n",
      " [0. 0. 0. 0. 0. 0. 0. 0.]\n",
      " [0. 0. 0. 0. 0. 0. 0. 0.]\n",
      " [0. 0. 0. 0. 0. 0. 0. 0.]], shape=(8, 8), dtype=float64)\n"
     ]
    }
   ],
   "source": [
    "tensor = tf.constant(sparse_array)\n",
    "print(tensor)"
   ]
  },
  {
   "cell_type": "code",
   "execution_count": 34,
   "metadata": {},
   "outputs": [
    {
     "name": "stdout",
     "output_type": "stream",
     "text": [
      "SparseTensor(indices=tf.Tensor(\n",
      "[[1 2]\n",
      " [1 5]], shape=(2, 2), dtype=int64), values=tf.Tensor([1 1], shape=(2,), dtype=int32), dense_shape=tf.Tensor([8 8], shape=(2,), dtype=int64))\n"
     ]
    }
   ],
   "source": [
    "sparse_tensor = tf.SparseTensor(indices=[(1, 2), (1, 5)], values=[1,1], dense_shape=[8,8])\n",
    "print(sparse_tensor)"
   ]
  },
  {
   "cell_type": "code",
   "execution_count": 35,
   "metadata": {},
   "outputs": [
    {
     "name": "stdout",
     "output_type": "stream",
     "text": [
      "tf.Tensor(\n",
      "[[0 0 0 0 0 0 0 0]\n",
      " [0 0 1 0 0 1 0 0]\n",
      " [0 0 0 0 0 0 0 0]\n",
      " [0 0 0 0 0 0 0 0]\n",
      " [0 0 0 0 0 0 0 0]\n",
      " [0 0 0 0 0 0 0 0]\n",
      " [0 0 0 0 0 0 0 0]\n",
      " [0 0 0 0 0 0 0 0]], shape=(8, 8), dtype=int32)\n"
     ]
    }
   ],
   "source": [
    "dense_tensor = tf.sparse.to_dense(sparse_tensor)\n",
    "print(dense_tensor)"
   ]
  },
  {
   "cell_type": "code",
   "execution_count": 36,
   "metadata": {},
   "outputs": [
    {
     "name": "stdout",
     "output_type": "stream",
     "text": [
      "<tf.Variable 'Variable:0' shape=(3,) dtype=int32, numpy=array([1, 2, 3])>\n"
     ]
    }
   ],
   "source": [
    "a = [1, 2, 3]\n",
    "v = tf.Variable(a)\n",
    "print(v)"
   ]
  },
  {
   "cell_type": "code",
   "execution_count": 37,
   "metadata": {},
   "outputs": [
    {
     "name": "stdout",
     "output_type": "stream",
     "text": [
      "<tf.Variable 'Variable:0' shape=(3,) dtype=int32, numpy=array([1, 5, 3])>\n"
     ]
    }
   ],
   "source": [
    "v[1].assign(5)\n",
    "print(v)"
   ]
  },
  {
   "cell_type": "code",
   "execution_count": 38,
   "metadata": {},
   "outputs": [
    {
     "name": "stdout",
     "output_type": "stream",
     "text": [
      "<tf.Variable 'Variable:0' shape=(3,) dtype=int32, numpy=array([ 2, 10,  6])>\n"
     ]
    }
   ],
   "source": [
    "v.assign(v*2)\n",
    "print(v)"
   ]
  },
  {
   "cell_type": "code",
   "execution_count": 39,
   "metadata": {},
   "outputs": [],
   "source": [
    "import numpy as np\n",
    "import matplotlib.pyplot as plt\n",
    "import seaborn as sns\n",
    "import pandas as pd\n",
    "\n",
    "from sklearn.datasets import fetch_california_housing\n",
    "\n",
    "%matplotlib inline"
   ]
  },
  {
   "cell_type": "code",
   "execution_count": 40,
   "metadata": {},
   "outputs": [],
   "source": [
    "# Load housing dataset Bunch object\n",
    "housing = fetch_california_housing()\n",
    "\n",
    "# Concat and cast data as array\n",
    "X_T = np.c_[housing.data, housing.target]\n",
    "\n",
    "# Cast data as DataFrame\n",
    "df = pd.DataFrame(X_T)\n",
    "df.describe()\n",
    "\n",
    "# Add an extra feature name for target visualization\n",
    "df.columns = housing.feature_names + ['Avg. Value']"
   ]
  },
  {
   "cell_type": "code",
   "execution_count": 41,
   "metadata": {},
   "outputs": [
    {
     "data": {
      "text/plain": [
       "<matplotlib.axes._subplots.AxesSubplot at 0x20396df13d0>"
      ]
     },
     "execution_count": 41,
     "metadata": {},
     "output_type": "execute_result"
    },
    {
     "data": {
      "image/png": "[encoded data removed]",
      "text/plain": [
       "<Figure size 720x576 with 2 Axes>"
      ]
     },
     "metadata": {
      "needs_background": "light"
     },
     "output_type": "display_data"
    }
   ],
   "source": [
    "corr = df.corr()\n",
    "plt.figure(figsize=(10,8))\n",
    "sns.heatmap(corr)"
   ]
  },
  {
   "cell_type": "code",
   "execution_count": 42,
   "metadata": {},
   "outputs": [],
   "source": [
    "import partitionlib as ptl"
   ]
  },
  {
   "cell_type": "code",
   "execution_count": 43,
   "metadata": {},
   "outputs": [],
   "source": [
    "import importlib\n",
    "import partitionlib\n",
    "importlib.reload(partitionlib);"
   ]
  },
  {
   "cell_type": "code",
   "execution_count": 44,
   "metadata": {},
   "outputs": [],
   "source": [
    "def partition_data(X, T):\n",
    "    \"\"\"Partition data into train and test splits.\"\"\"\n",
    "    data, targets = ptl.partition(X, T)\n",
    "    Xtrain, Xtest = data\n",
    "    Ttrain, Ttest = targets\n",
    "    return Xtrain, Xtest, Ttrain, Ttest"
   ]
  },
  {
   "cell_type": "code",
   "execution_count": 45,
   "metadata": {},
   "outputs": [
    {
     "name": "stdout",
     "output_type": "stream",
     "text": [
      "Train data shape: (16512, 8)\n",
      "Train target shape: (16512, 1)\n",
      "Test data shape: (4128, 8)\n",
      "Test target shape: (4128, 1)\n"
     ]
    }
   ],
   "source": [
    "# Partition data\n",
    "Xtrain, Xtest, Ttrain, Ttest = partition_data(housing.data, housing.target)\n",
    "print(\"Train data shape: {}\".format(Xtrain.shape))\n",
    "print(\"Train target shape: {}\".format(Ttrain.shape))\n",
    "print(\"Test data shape: {}\".format(Xtest.shape))\n",
    "print(\"Test target shape: {}\".format(Ttest.shape))"
   ]
  },
  {
   "cell_type": "code",
   "execution_count": 46,
   "metadata": {},
   "outputs": [
    {
     "name": "stdout",
     "output_type": "stream",
     "text": [
      "Number of total features: 8\n",
      "Number of training samples: 16512\n",
      "Number of testing samples: 4128\n"
     ]
    }
   ],
   "source": [
    "# Save total number of features\n",
    "D = Xtrain.shape[1]\n",
    "# Save number of samples for train/trest\n",
    "Ntrain, Ntest = Xtrain.shape[0], Xtest.shape[0]\n",
    "print(\"Number of total features: {}\".format(D))\n",
    "print(\"Number of training samples: {}\".format(Ntrain))\n",
    "print(\"Number of testing samples: {}\".format(Ntest))"
   ]
  },
  {
   "cell_type": "code",
   "execution_count": 47,
   "metadata": {},
   "outputs": [],
   "source": [
    "# Let's normalize the data first with Scikit.learn\n",
    "from sklearn.preprocessing import StandardScaler\n",
    "\n",
    "# Define standardization class and standardize our housing data\n",
    "scaler = StandardScaler()\n",
    "XtrainS = scaler.fit_transform(Xtrain)\n",
    "XtestS = scaler.fit_transform(Xtest)\n",
    "\n",
    "# Add bias to standardized data\n",
    "X1trainS = np.c_[np.ones((Ntrain, 1)), XtrainS]\n",
    "X1testS = np.c_[np.ones((Ntest, 1)), XtestS]"
   ]
  },
  {
   "cell_type": "code",
   "execution_count": 48,
   "metadata": {},
   "outputs": [
    {
     "name": "stdout",
     "output_type": "stream",
     "text": [
      "Learned Weights: [[ 2.06929389]\n",
      " [ 0.85092044]\n",
      " [ 0.11817383]\n",
      " [-0.26810309]\n",
      " [ 0.29588438]\n",
      " [-0.00524713]\n",
      " [-0.03975324]\n",
      " [-0.89750265]\n",
      " [-0.87231024]]\n",
      "MSE: 0.5161141703444575\n"
     ]
    },
    {
     "name": "stderr",
     "output_type": "stream",
     "text": [
      "<ipython-input-48-f571ffa173d4>:2: FutureWarning: `rcond` parameter will change to the default of machine precision times ``max(M, N)`` where M and N are the input matrix dimensions.\n",
      "To use the future default and silence this warning we advise to pass `rcond=None`, to keep using the old, explicitly pass `rcond=-1`.\n",
      "  w = np.linalg.lstsq(X1trainS.T @ X1trainS, X1trainS.T @ Ttrain)[0]\n"
     ]
    }
   ],
   "source": [
    "T = housing.target.reshape(-1, 1)\n",
    "w = np.linalg.lstsq(X1trainS.T @ X1trainS, X1trainS.T @ Ttrain)[0]\n",
    "\n",
    "print('Learned Weights: {}'.format(w))\n",
    "print(\"MSE: {}\".format(np.mean((X1trainS @ w - Ttrain)**2)))"
   ]
  },
  {
   "cell_type": "code",
   "execution_count": 49,
   "metadata": {},
   "outputs": [
    {
     "data": {
      "text/plain": [
       "<tf.Tensor: shape=(16512, 9), dtype=float64, numpy=\n",
       "array([[ 1.        ,  0.49402549,  0.26431702, ..., -0.08326908,\n",
       "         1.05857401, -1.22811384],\n",
       "       [ 1.        , -1.01645289,  0.81813505, ..., -0.04085063,\n",
       "        -0.70186546,  1.13515186],\n",
       "       [ 1.        ,  5.0572979 , -0.21038415, ..., -0.00745401,\n",
       "        -0.88446424,  0.89136234],\n",
       "       ...,\n",
       "       [ 1.        ,  2.27006047, -0.28950102, ..., -0.04057566,\n",
       "        -0.87041818,  0.61772105],\n",
       "       [ 1.        ,  0.8618936 ,  0.97636877, ..., -0.02070487,\n",
       "        -0.7112295 ,  0.74707875],\n",
       "       [ 1.        ,  1.35932466,  0.5016676 , ..., -0.06860372,\n",
       "        -0.71591152,  0.49333865]])>"
      ]
     },
     "execution_count": 49,
     "metadata": {},
     "output_type": "execute_result"
    }
   ],
   "source": [
    "Xt = tf.constant(X1trainS)\n",
    "Xt"
   ]
  },
  {
   "cell_type": "code",
   "execution_count": 50,
   "metadata": {},
   "outputs": [
    {
     "data": {
      "text/plain": [
       "<tf.Tensor: shape=(16512, 1), dtype=float64, numpy=\n",
       "array([[3.212  ],\n",
       "       [0.89   ],\n",
       "       [5.00001],\n",
       "       ...,\n",
       "       [5.00001],\n",
       "       [3.25   ],\n",
       "       [4.07   ]])>"
      ]
     },
     "execution_count": 50,
     "metadata": {},
     "output_type": "execute_result"
    }
   ],
   "source": [
    "Tt = tf.constant(Ttrain)\n",
    "Tt"
   ]
  },
  {
   "cell_type": "code",
   "execution_count": 51,
   "metadata": {},
   "outputs": [
    {
     "data": {
      "text/plain": [
       "<tf.Tensor: shape=(9, 1), dtype=float64, numpy=\n",
       "array([[ 2.06929389],\n",
       "       [ 0.85092044],\n",
       "       [ 0.11817383],\n",
       "       [-0.26810309],\n",
       "       [ 0.29588438],\n",
       "       [-0.00524713],\n",
       "       [-0.03975324],\n",
       "       [-0.89750265],\n",
       "       [-0.87231024]])>"
      ]
     },
     "execution_count": 51,
     "metadata": {},
     "output_type": "execute_result"
    }
   ],
   "source": [
    "w = tf.linalg.lstsq(tf.matmul(tf.transpose(Xt), Xt), tf.matmul(tf.transpose(Xt), Tt))\n",
    "w"
   ]
  },
  {
   "cell_type": "code",
   "execution_count": 52,
   "metadata": {},
   "outputs": [
    {
     "name": "stdout",
     "output_type": "stream",
     "text": [
      "Learned Weights: [[ 2.06929389]\n",
      " [ 0.85092044]\n",
      " [ 0.11817383]\n",
      " [-0.26810309]\n",
      " [ 0.29588438]\n",
      " [-0.00524713]\n",
      " [-0.03975324]\n",
      " [-0.89750265]\n",
      " [-0.87231024]]\n",
      "MSE: 0.5161141703444576\n"
     ]
    }
   ],
   "source": [
    "print('Learned Weights: {}'.format(w))\n",
    "print(\"MSE: {}\".format(np.mean((Xt @ w - Tt)**2)))"
   ]
  },
  {
   "cell_type": "markdown",
   "metadata": {},
   "source": [
    "# Least Mean Squares and Gradient Descent \n",
    "\n",
    "Now, let's implement LMS with TensorFlow. Instead of computing each sample gradient one at a time, like normal, we'll compute all the gradients at once. To account for this, we must divide by our total number of training  samples $n$.\n",
    "\n",
    "Recall computing the gradient for a single sample (i.e. the derivative of our MSE loss function) is as follows.\n",
    "\n",
    "$\\nabla E_k = 2 *  x_k^T \\cdot( x_k \\cdot w - t_k)$\n",
    "\n",
    "Thus, if we want to compute all gradients at once our equation simply becomes the following.\n",
    "\n",
    "$\\nabla E = \\frac{2}{n} * X^T \\cdot (X \\cdot w  - T)$\n",
    "\n",
    "To compute our weight update recall we use the following formula.\n",
    "\n",
    "$w = w - \\alpha * \\nabla E$\n",
    "\n",
    "Here $\\alpha$ is our learning rate and $\\nabla E$ contains the gradients for for all the training data samples."
   ]
  },
  {
   "cell_type": "code",
   "execution_count": 53,
   "metadata": {},
   "outputs": [
    {
     "name": "stdout",
     "output_type": "stream",
     "text": [
      "Randomly initialized weights: <tf.Variable 'w:0' shape=(9, 1) dtype=float32, numpy=\n",
      "array([[ 0.9045429 ],\n",
      "       [ 0.35481548],\n",
      "       [ 0.5906365 ],\n",
      "       [ 0.51156354],\n",
      "       [-0.04808879],\n",
      "       [ 0.26202965],\n",
      "       [-0.62795925],\n",
      "       [-0.7713845 ],\n",
      "       [-0.32755637]], dtype=float32)>\n",
      "Epoch 0 MSE = 2.7329087257385254\n",
      "Epoch 100 MSE = 0.6358025074005127\n",
      "Epoch 200 MSE = 0.5691298842430115\n",
      "Epoch 300 MSE = 0.551232635974884\n",
      "Epoch 400 MSE = 0.5399760007858276\n",
      "Epoch 500 MSE = 0.532360315322876\n",
      "Epoch 600 MSE = 0.5271776914596558\n",
      "Epoch 700 MSE = 0.5236486196517944\n",
      "Epoch 800 MSE = 0.5212453603744507\n",
      "Epoch 900 MSE = 0.5196087956428528\n",
      "<tf.Variable 'w:0' shape=(9, 1) dtype=float32, numpy=\n",
      "array([[ 2.0692880e+00],\n",
      "       [ 8.0750304e-01],\n",
      "       [ 1.2870954e-01],\n",
      "       [-1.6992760e-01],\n",
      "       [ 2.0297259e-01],\n",
      "       [-1.2004862e-03],\n",
      "       [-3.9631341e-02],\n",
      "       [-8.5336137e-01],\n",
      "       [-8.2138354e-01]], dtype=float32)>\n"
     ]
    }
   ],
   "source": [
    "n_epochs = 1000\n",
    "learning_rate = 0.01\n",
    "\n",
    "# Cast our training data as tensors\n",
    "Xt = tf.constant(X1trainS, dtype=tf.float32)\n",
    "Tt = tf.constant(Ttrain, dtype=tf.float32)\n",
    "\n",
    "# Notice we use tf.Variable which works just like tf.constant but \n",
    "# now we can change the value of the tensor using w.assign().\n",
    "w = tf.Variable(tf.random.uniform([D + 1, 1], -1.0, 1.0, seed=42), name=\"w\")\n",
    "\n",
    "print(\"Randomly initialized weights: {}\".format(w))\n",
    "for epoch in range(n_epochs):\n",
    "    Yt = tf.matmul(Xt, w, name=\"predictions\")\n",
    "    error = Yt - Tt\n",
    "    # Compute the loss function\n",
    "    mse = tf.reduce_mean(tf.square(error), name=\"mse\")\n",
    "    # Compute the gradient of the loss function\n",
    "    gradients = 2/Ntrain * tf.matmul(tf.transpose(Xt), error)\n",
    "    # Update weights given gradients\n",
    "    w.assign(w - learning_rate * gradients)\n",
    "    \n",
    "    if epoch % 100 == 0:\n",
    "        print(\"Epoch\", epoch, \"MSE = {}\".format(mse))\n",
    "\n",
    "print(w)        "
   ]
  },
  {
   "cell_type": "code",
   "execution_count": 54,
   "metadata": {},
   "outputs": [
    {
     "name": "stdout",
     "output_type": "stream",
     "text": [
      "<tf.Variable 'w:0' shape=(9, 1) dtype=float32, numpy=\n",
      "array([[-0.12018752],\n",
      "       [-0.39934063],\n",
      "       [ 0.33478546],\n",
      "       [-0.25189137],\n",
      "       [-0.753314  ],\n",
      "       [ 0.3486998 ],\n",
      "       [ 0.23956943],\n",
      "       [ 0.8812921 ],\n",
      "       [ 0.7901039 ]], dtype=float32)>\n",
      "Epoch 0 MSE = 8.53220272064209\n",
      "Epoch 100 MSE = 1.0074163675308228\n",
      "Epoch 200 MSE = 0.7985183596611023\n",
      "Epoch 300 MSE = 0.7192814350128174\n",
      "Epoch 400 MSE = 0.6643697023391724\n",
      "Epoch 500 MSE = 0.6252717971801758\n",
      "Epoch 600 MSE = 0.5972221493721008\n",
      "Epoch 700 MSE = 0.5769432783126831\n",
      "Epoch 800 MSE = 0.5621609687805176\n",
      "Epoch 900 MSE = 0.5512906312942505\n",
      "<tf.Variable 'w:0' shape=(9, 1) dtype=float32, numpy=\n",
      "array([[ 2.069288  ],\n",
      "       [ 0.90842706],\n",
      "       [ 0.17396776],\n",
      "       [-0.29101375],\n",
      "       [ 0.26948527],\n",
      "       [ 0.0126799 ],\n",
      "       [-0.04627208],\n",
      "       [-0.41508487],\n",
      "       [-0.3917836 ]], dtype=float32)>\n"
     ]
    }
   ],
   "source": [
    "n_epochs = 1000\n",
    "learning_rate = 0.01\n",
    "\n",
    "# Cast our training data as tensors\n",
    "Xt = tf.constant(X1trainS, dtype=tf.float32)\n",
    "Tt = tf.constant(Ttrain, dtype=tf.float32)\n",
    "\n",
    "# Notice we use tf.Variable which works just like tf.constant but \n",
    "# now we can change the value of the tensor using w.assign().\n",
    "w = tf.Variable(tf.random.uniform([D + 1, 1], -1.0, 1.0, seed=42), name=\"w\")\n",
    "\n",
    "print(w)\n",
    "for epoch in range(n_epochs):\n",
    "\n",
    "    with tf.GradientTape() as tape:\n",
    "        Yt = tf.matmul(Xt, w, name=\"predictions\")\n",
    "        error = Yt - Tt\n",
    "        loss = tf.reduce_mean(tf.square(error), name=\"mse\")\n",
    "\n",
    "    gradients = tape.gradient(loss, w)\n",
    "    w.assign(w - learning_rate * gradients)\n",
    "\n",
    "    if epoch % 100 == 0:\n",
    "        print(\"Epoch\", epoch, \"MSE = {}\".format(loss))\n",
    "\n",
    "print(w)"
   ]
  },
  {
   "cell_type": "code",
   "execution_count": 55,
   "metadata": {},
   "outputs": [],
   "source": [
    "def mse_loss(y, t):\n",
    "    return tf.reduce_mean(tf.square(y-t), name=\"mse\")"
   ]
  },
  {
   "cell_type": "code",
   "execution_count": 56,
   "metadata": {},
   "outputs": [
    {
     "name": "stdout",
     "output_type": "stream",
     "text": [
      "MSE: 0.575303316116333\n"
     ]
    }
   ],
   "source": [
    "Xt = tf.constant(X1testS, dtype=tf.float32)\n",
    "Tt = tf.constant(Ttest,  dtype=tf.float32)\n",
    "\n",
    "y = tf.matmul(Xt, w)\n",
    "print(\"MSE: {}\".format(mse_loss(y, Tt)))"
   ]
  },
  {
   "cell_type": "code",
   "execution_count": 57,
   "metadata": {},
   "outputs": [
    {
     "data": {
      "text/plain": [
       "'tf_logs\\\\run-20210319034050'"
      ]
     },
     "execution_count": 57,
     "metadata": {},
     "output_type": "execute_result"
    }
   ],
   "source": [
    "from datetime import datetime\n",
    "from os.path import join\n",
    "\n",
    "now = datetime.utcnow().strftime(\"%Y%m%d%H%M%S\")\n",
    "root_logdir = \"tf_logs\"\n",
    "logdir = join(root_logdir, 'run-{}'.format(now))\n",
    "logdir"
   ]
  },
  {
   "cell_type": "code",
   "execution_count": 58,
   "metadata": {},
   "outputs": [],
   "source": [
    "# Build network structure\n",
    "model = tf.keras.models.Sequential([\n",
    "    tf.keras.layers.Dense(1)\n",
    "])\n",
    "\n",
    "# Build model with loss and optimizer \n",
    "model.compile(loss=\"mse\", optimizer=tf.keras.optimizers.SGD(lr=0.001))\n",
    "\n",
    "# Create a tensorboard callback for keras so we can visualize our graph and variables later with tensorboard later\n",
    "tensorboard_cb = tf.keras.callbacks.TensorBoard(logdir)"
   ]
  },
  {
   "cell_type": "code",
   "execution_count": 59,
   "metadata": {},
   "outputs": [
    {
     "name": "stdout",
     "output_type": "stream",
     "text": [
      "Epoch 1/30\n",
      "516/516 [==============================] - 0s 381us/step - loss: 3.6729\n",
      "Epoch 2/30\n",
      "516/516 [==============================] - 0s 280us/step - loss: 0.8016\n",
      "Epoch 3/30\n",
      "516/516 [==============================] - 0s 280us/step - loss: 0.6010\n",
      "Epoch 4/30\n",
      "516/516 [==============================] - 0s 299us/step - loss: 0.5923\n",
      "Epoch 5/30\n",
      "516/516 [==============================] - 0s 284us/step - loss: 0.5454\n",
      "Epoch 6/30\n",
      "516/516 [==============================] - 0s 300us/step - loss: 0.5554\n",
      "Epoch 7/30\n",
      "516/516 [==============================] - 0s 298us/step - loss: 0.5623\n",
      "Epoch 8/30\n",
      "516/516 [==============================] - 0s 282us/step - loss: 0.5692\n",
      "Epoch 9/30\n",
      "516/516 [==============================] - 0s 288us/step - loss: 0.5343\n",
      "Epoch 10/30\n",
      "516/516 [==============================] - 0s 289us/step - loss: 0.5343\n",
      "Epoch 11/30\n",
      "516/516 [==============================] - 0s 282us/step - loss: 0.5180\n",
      "Epoch 12/30\n",
      "516/516 [==============================] - 0s 279us/step - loss: 0.5079\n",
      "Epoch 13/30\n",
      "516/516 [==============================] - 0s 284us/step - loss: 0.5186\n",
      "Epoch 14/30\n",
      "516/516 [==============================] - 0s 278us/step - loss: 0.5230\n",
      "Epoch 15/30\n",
      "516/516 [==============================] - 0s 276us/step - loss: 0.5030\n",
      "Epoch 16/30\n",
      "516/516 [==============================] - 0s 280us/step - loss: 0.5352\n",
      "Epoch 17/30\n",
      "516/516 [==============================] - 0s 278us/step - loss: 0.5247\n",
      "Epoch 18/30\n",
      "516/516 [==============================] - 0s 286us/step - loss: 0.5128\n",
      "Epoch 19/30\n",
      "516/516 [==============================] - 0s 280us/step - loss: 0.5216\n",
      "Epoch 20/30\n",
      "516/516 [==============================] - 0s 271us/step - loss: 0.5202\n",
      "Epoch 21/30\n",
      "516/516 [==============================] - 0s 273us/step - loss: 0.5258\n",
      "Epoch 22/30\n",
      "516/516 [==============================] - 0s 272us/step - loss: 0.5433\n",
      "Epoch 23/30\n",
      "516/516 [==============================] - 0s 272us/step - loss: 0.5169\n",
      "Epoch 24/30\n",
      "516/516 [==============================] - 0s 272us/step - loss: 0.5109\n",
      "Epoch 25/30\n",
      "516/516 [==============================] - 0s 271us/step - loss: 0.5270\n",
      "Epoch 26/30\n",
      "516/516 [==============================] - 0s 273us/step - loss: 0.4980\n",
      "Epoch 27/30\n",
      "516/516 [==============================] - 0s 281us/step - loss: 0.5163\n",
      "Epoch 28/30\n",
      "516/516 [==============================] - 0s 281us/step - loss: 0.5302\n",
      "Epoch 29/30\n",
      "516/516 [==============================] - 0s 272us/step - loss: 0.5223\n",
      "Epoch 30/30\n",
      "516/516 [==============================] - 0s 281us/step - loss: 0.5114\n"
     ]
    }
   ],
   "source": [
    "history = model.fit(X1trainS, Ttrain, epochs=30, callbacks=[tensorboard_cb])"
   ]
  },
  {
   "cell_type": "code",
   "execution_count": 60,
   "metadata": {},
   "outputs": [
    {
     "data": {
      "text/plain": [
       "dict_keys(['loss'])"
      ]
     },
     "execution_count": 60,
     "metadata": {},
     "output_type": "execute_result"
    }
   ],
   "source": [
    "history.history.keys()"
   ]
  },
  {
   "cell_type": "code",
   "execution_count": 61,
   "metadata": {},
   "outputs": [
    {
     "data": {
      "text/plain": [
       "[2.337959051132202,\n",
       " 0.7220359444618225,\n",
       " 0.6035013198852539,\n",
       " 0.5773985981941223,\n",
       " 0.5646565556526184,\n",
       " 0.5556811690330505,\n",
       " 0.5486496686935425,\n",
       " 0.5426814556121826,\n",
       " 0.53834468126297,\n",
       " 0.534373939037323,\n",
       " 0.5311345458030701,\n",
       " 0.5286158919334412,\n",
       " 0.5264691114425659,\n",
       " 0.5246524810791016,\n",
       " 0.5232945680618286,\n",
       " 0.5220484137535095,\n",
       " 0.5209720730781555,\n",
       " 0.5203800201416016,\n",
       " 0.519690215587616,\n",
       " 0.5191011428833008,\n",
       " 0.5186554193496704,\n",
       " 0.5183647871017456,\n",
       " 0.5179863572120667,\n",
       " 0.5177544951438904,\n",
       " 0.5175403356552124,\n",
       " 0.5173500776290894,\n",
       " 0.5172169208526611,\n",
       " 0.5170592069625854,\n",
       " 0.5169864296913147,\n",
       " 0.5168925523757935]"
      ]
     },
     "execution_count": 61,
     "metadata": {},
     "output_type": "execute_result"
    }
   ],
   "source": [
    "history.history['loss']"
   ]
  },
  {
   "cell_type": "code",
   "execution_count": 62,
   "metadata": {},
   "outputs": [
    {
     "data": {
      "text/plain": [
       "array([[4.1197104],\n",
       "       [1.2786691],\n",
       "       [2.7775052],\n",
       "       ...,\n",
       "       [1.0512646],\n",
       "       [4.304368 ],\n",
       "       [2.6330068]], dtype=float32)"
      ]
     },
     "execution_count": 62,
     "metadata": {},
     "output_type": "execute_result"
    }
   ],
   "source": [
    "y = model.predict(X1testS)\n",
    "y"
   ]
  },
  {
   "cell_type": "code",
   "execution_count": 63,
   "metadata": {},
   "outputs": [
    {
     "name": "stdout",
     "output_type": "stream",
     "text": [
      "129/129 [==============================] - 0s 274us/step - loss: 0.5464\n"
     ]
    },
    {
     "data": {
      "text/plain": [
       "0.5463863015174866"
      ]
     },
     "execution_count": 63,
     "metadata": {},
     "output_type": "execute_result"
    }
   ],
   "source": [
    "error = model.evaluate(X1testS, Ttest)\n",
    "error"
   ]
  },
  {
   "cell_type": "code",
   "execution_count": 64,
   "metadata": {},
   "outputs": [
    {
     "data": {
      "text/plain": [
       "ERROR: Timed out waiting for TensorBoard to start. It may still be running as pid 12760."
      ]
     },
     "metadata": {},
     "output_type": "display_data"
    }
   ],
   "source": [
    "%load_ext tensorboard\n",
    "%tensorboard --port 6006 --logdir tf_logs/"
   ]
  },
  {
   "cell_type": "code",
   "execution_count": null,
   "metadata": {},
   "outputs": [],
   "source": []
  }
 ],
 "metadata": {
  "kernelspec": {
   "display_name": "Python 3",
   "language": "python",
   "name": "python3"
  },
  "language_info": {
   "codemirror_mode": {
    "name": "ipython",
    "version": 3
   },
   "file_extension": ".py",
   "mimetype": "text/x-python",
   "name": "python",
   "nbconvert_exporter": "python",
   "pygments_lexer": "ipython3",
   "version": "3.8.3"
  }
 },
 "nbformat": 4,
 "nbformat_minor": 4
}
