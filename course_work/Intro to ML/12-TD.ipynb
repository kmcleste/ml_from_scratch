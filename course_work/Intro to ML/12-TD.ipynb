{
 "cells": [
  {
   "cell_type": "markdown",
   "metadata": {
    "slideshow": {
     "slide_type": "-"
    }
   },
   "source": [
    "# $\\newcommand{\\xv}{\\mathbf{x}}\n",
    " \\newcommand{\\wv}{\\mathbf{w}}\n",
    " \\newcommand{\\yv}{\\mathbf{y}}\n",
    " \\newcommand{\\zv}{\\mathbf{z}}\n",
    " \\newcommand{\\Chi}{\\mathcal{X}}\n",
    " \\newcommand{\\R}{\\rm I\\!R}\n",
    " \\newcommand{\\sign}{\\text{sign}}\n",
    " \\newcommand{\\Tm}{\\mathbf{T}}\n",
    " \\newcommand{\\Xm}{\\mathbf{X}}\n",
    " \\newcommand{\\Zm}{\\mathbf{Z}}\n",
    " \\newcommand{\\Wm}{\\mathbf{W}}\n",
    " \\newcommand{\\Ym}{\\mathbf{Y}}\n",
    " \\newcommand{\\I}{\\mathbf{I}}\n",
    " \\newcommand{\\muv}{\\boldsymbol\\mu}\n",
    " \\newcommand{\\Sigmav}{\\boldsymbol\\Sigma}\n",
    "$\n",
    "\n",
    "\n",
    "\n",
    "# Temporal Difference Learning\n",
    "\n",
    "<br/>\n",
    "<br/><br/><br/>\n",
    "\n",
    "### ITCS 4156\n",
    "\n",
    "### Instructor: Minwoo \"Jake\" Lee"
   ]
  },
  {
   "cell_type": "markdown",
   "metadata": {
    "slideshow": {
     "slide_type": "slide"
    }
   },
   "source": [
    "# Goal\n",
    "\n",
    "The goal of this activity explore temporal difference learning via our control theories of on-policy SARSA and off-policy Q-learning for the discrete marble task. Instead of solving the MDP directly, as we did last week, we'll try to learn the values of the states using temporal difference (TD). Follow the TODO titles and comments to finish the activity! "
   ]
  },
  {
   "cell_type": "markdown",
   "metadata": {
    "slideshow": {
     "slide_type": "slide"
    }
   },
   "source": [
    "# Agenda\n",
    "\n",
    "1. Review Discrete Marble Task and Class\n",
    "2. Review Temporal Difference (TD)\n",
    "3. SARSA\n",
    "4. Q-Learning"
   ]
  },
  {
   "cell_type": "code",
   "execution_count": 1,
   "metadata": {
    "slideshow": {
     "slide_type": "fragment"
    }
   },
   "outputs": [],
   "source": [
    "# Common imports\n",
    "import numpy as np\n",
    "from copy import deepcopy as copy\n",
    "\n",
    "# To plot pretty figures\n",
    "import matplotlib.pyplot as plt\n",
    "%matplotlib inline\n",
    "plt.rcParams['axes.labelsize'] = 14\n",
    "plt.rcParams['xtick.labelsize'] = 12\n",
    "plt.rcParams['ytick.labelsize'] = 12\n",
    "\n",
    "import IPython.display as ipd  # for display and clear_output\n",
    "from IPython.core.debugger import set_trace\n",
    "\n",
    "# print only 3 digits under decimal point\n",
    "np.set_printoptions(precision=3, suppress=True)"
   ]
  },
  {
   "cell_type": "markdown",
   "metadata": {
    "slideshow": {
     "slide_type": "slide"
    }
   },
   "source": [
    "# Review Discrete Marble Task \n",
    "\n",
    "The discrete marble task is actually a rather simple task. The goal of this task is to move a marble from any given location on a 1-D line to the goal location. The marble is restricted to discrete actions of move left, right, or don't move (no action).\n",
    "\n",
    "## Environment and Actions\n",
    "For this task our environment is defined by a marble on a 1-D line. This \"1-D line\" also defines our possibles actions as the following: move left, move right, or don't move (no action). Each action is defined as a discrete number: -1 (left), 0 (don't move), or 1 (right). These discrete numbers also determine the distance the marble moves on the 1-D line. This means each state must be defined by an integer! In our case, our state representations will range between 0 and 10 (see below image). At some point on the 1-D line there is also a goal state. Thus, the goal of the task is to explore the environment to find the goal state.\n",
    "\n",
    "If you're still confused on the environment setup see the picture below. Here you can see the marble in red with its 3 possible actions. Each move left or right actions moves the marble 1 unit (left or right) on the 1-D line. The goal state location is at 5 and the starting marble state location is at 3. Thus, the marble has to perform 2 move right actions to reach the goal state. \n",
    "\n",
    "<img src=\"https://i.imgur.com/MwXDZPI.png\">\n"
   ]
  },
  {
   "cell_type": "markdown",
   "metadata": {},
   "source": [
    "\n",
    "To start off, we must define the MDP before we can solve the discrete marble task. Let's define what our representations will be for the standard MDP model $(S, A, P, R, \\gamma)$.\n",
    "\n",
    "\n",
    "$S = [0, 10] $ defines the possible states of the marble\n",
    "\n",
    "$A = [-1, 0, 1] $ defines the actions push left, none, or right\n",
    "\n",
    "$P$ = 1 defines the deterministic transition probability\n",
    "\n",
    "$R =\n",
    "  \\begin{cases}\n",
    "   1  & \\quad \\text{if marble is in the goal state}\\\\\n",
    "   0  & \\quad \\text{otherwise}\n",
    "  \\end{cases}.\n",
    "$"
   ]
  },
  {
   "cell_type": "markdown",
   "metadata": {},
   "source": [
    "# DMarble Environment Class\n",
    "\n",
    "Let us reuse the DMarble class from last week. "
   ]
  },
  {
   "cell_type": "code",
   "execution_count": 13,
   "metadata": {},
   "outputs": [],
   "source": [
    "class DMarble(object):\n",
    "    \"\"\" Reinforcement learning Model for Discrete Marble. \n",
    "    \n",
    "        states: x, dx\n",
    "        action: action [-1, 0, 1]\n",
    "\n",
    "        |            ___                     |\n",
    "        |___________|///|____G_______________|\n",
    "                    <- ->    \n",
    "    \"\"\"\n",
    "\n",
    "    def __init__(self, goal=5, **params):\n",
    "        \"\"\"  create an object with the given goal\n",
    "        \n",
    "            attributes\n",
    "            ===========\n",
    "            act_bound   list\n",
    "                        the bounds for actions \n",
    "            bound       list\n",
    "                        the bounds for states \n",
    "            goal        list\n",
    "                        the goal location\n",
    "        \"\"\"\n",
    "        self.act_bound = [-1, 1]\n",
    "        self.bound = [0, 10]\n",
    "        self.goal = goal\n",
    "\n",
    "    def init(self, start=None):\n",
    "        \"\"\" initialize the starting position\n",
    "        \n",
    "            paramters\n",
    "            ----------\n",
    "            start   int\n",
    "                    the start position (optional). if not given, random\n",
    "            @return current state\n",
    "        \n",
    "        \"\"\"\n",
    "        \n",
    "        if start is None:\n",
    "            cur_state =  np.random.randint(self.bound[0], self.bound[1]+1)\n",
    "        else:\n",
    "            cur_state = start\n",
    "        return cur_state\n",
    "       \n",
    "   \n",
    "    def next(self, s, a):\n",
    "        \"\"\" simulate 1 step by taking the action from the given state \n",
    "            it updates the current states (_cur_state) and \n",
    "            flag variable if it ends the episode (_done)\n",
    "        \n",
    "            paramters\n",
    "            ----------\n",
    "            s       int\n",
    "                    current state\n",
    "            a       int\n",
    "                    action \n",
    "            @return list of next state, reward, done\n",
    "        \"\"\"\n",
    "        s1 = copy(s)  # copy the current state\n",
    "        \n",
    "        s1 += a   \n",
    "        \n",
    "        # check if it hits the ends \n",
    "        if s1 < self.bound[0]:\n",
    "            s1 = self.bound[0]\n",
    "        elif s1 > self.bound[1]:\n",
    "            s1 = self.bound[1] \n",
    "        r1 = self._get_reward(s1)\n",
    "        \n",
    "        return s1, r1\n",
    "    \n",
    "    ###### getters #############################\n",
    "    \n",
    "    ### reward function \n",
    "    def _get_reward(self, s1):\n",
    "        return 1 if s1 == self.goal else 0\n",
    "    \n",
    "    ### function to check the end condition\n",
    "    def is_done(self, s):\n",
    "        return s == self.goal\n",
    "\n",
    "    ### get all the possible actions\n",
    "    def get_actions(self):\n",
    "        # return all the possible actions in a list\n",
    "        return [-1, 0, 1]\n",
    "    \n",
    "    ### get a random action\n",
    "    def get_random_action(self):\n",
    "        # return randomly selected action \n",
    "        return np.random.choice(self.get_actions())\n",
    "    \n",
    "    ### get the number of states\n",
    "    def get_n_states(self):\n",
    "        return self.bound[1] - self.bound[0] + 1\n",
    "    \n",
    "    ### get the number of actions\n",
    "    def get_n_actions(self):\n",
    "        return len(self.get_actions())"
   ]
  },
  {
   "cell_type": "markdown",
   "metadata": {},
   "source": [
    "# Review Temporal Difference (TD)\n",
    "Let's quickly recall our temporal difference (TD) algorithm as SARSA and Q-learning are derivatives of TD.\n",
    "\n",
    "## Algorithm Summary\n",
    "Below is the TD algorithm. Let's quickly break down what is happening.\n",
    "$$\n",
    "    V(s_t) \\leftarrow V(s_t) + \\alpha ( R_{t+1} + \\gamma V(s_{t+1}) - V(s_t)). \n",
    "$$\n",
    "\n",
    "### Notation\n",
    "- **state-value** or **V-value**\n",
    "    -  $V(s)$ \n",
    "    - The estimated value of a state given said state $s$\n",
    "\n",
    "Recall that $V(s_t)$ is the state-value estimation of our current state $s$ at a given step $t$. Next, recall that $V(s_{t+1})$ is the state-value estimation of our next state $s$ at step $t+1$. Lastly, our reward for entering the next state is given by $R_{t+1}$. We also have $\\gamma$ our discount factor for discounting states and $\\alpha$ our learning rate for gradient updates.\n",
    "\n",
    "Whenever you see the notation $V(s)$ you should immediately realize that we are working with a state-value function equation. That is, we are only assessing the value of a state based the state information $s$. If you're uncertain what this means, think of the tabular case. Let's say we have a table that stores our state-value estimations called a V-table. Then our V-table is a vector whose length is the same as the number of states in our task. For example, the marble problem has 11 states, 0 to 10. Thus, our V-table has a length of 11. So, for now, you can think about $V(s)$ as $V[s]$, where $s$ is indexing our V-table to get the current V-value (state-value estimation) for state $s$.\n",
    "\n",
    "### What is happening\n",
    "At each step $t$ we are running the above equation to update the current state's V-value $V(s_t)$. In order to do so though we need a target to assess the value of our current state. Much like any machine learning problem a target is need for the loss function to guide our learning (i.e. gradient updates). \n",
    "\n",
    "Our target comes in the form of the estimated value of the next state's V-value $ R_{t+1} + \\gamma V(s_{t+1})$. This means we have to wait one step in order to update our current V-value $V(s_t)$. Thus, the meat of the TD equation is computing the difference between the next state's V-value (target) and our current state's V-value $( R_{t+1} + \\gamma V(s_{t+1}) - V(s_t))$.\n",
    "\n",
    "### Pseudo code\n",
    "![](http://incompleteideas.net/book/ebook/pseudotmp7.png)"
   ]
  },
  {
   "cell_type": "markdown",
   "metadata": {},
   "source": [
    "# SARSA\n",
    "\n",
    "Now, let's implement our first temporal difference algorithm SARSA.\n",
    "\n",
    "## Algorithm Summary\n",
    "Below is the SARSA algorithm. Let's quickly break it down to give you an idea of how it relates to TD. \n",
    "\n",
    "$$\n",
    "    Q(s_t, a_t) \\leftarrow Q(s_t, a_t) + \\alpha ( R_{t+1} + \\gamma Q(s_{t+1}, a_{t+1}) - Q(s_t, a_t)). \n",
    "$$\n",
    "\n",
    "### Notation \n",
    "\n",
    "#### Important Notation\n",
    "- **state-action evaluation** or **action-value** or **Q-value**\n",
    "    -  $Q(s, a)$\n",
    "    - The estimated value of a state-action pair given said state $s$ and action $a$\n",
    "\n",
    "#### Summary\n",
    "\n",
    "Unlike the base TD algorithm, which assess the value of states based on the state alone $V(s)$, SARSA uses a state-action evaluation defined as $Q(s, a)$. Now, we are considering the pair of states and actions $(s, a)$ instead of just the state $s$. Imagine now, instead of a V-table we have a 2D state-action matrix called a Q-table. This Q-table holds all of our states' action-value estimations or Q-values (note, a Q-table will store all values for all possible combinations of our states and actions). This means, for now, that you can think of $Q(s, a)$ as $Q[s, a]$, where $s$ and $a$ are indexing our Q-table to get the Q-value for our current state $s$ and action $a$.\n",
    " \n",
    "Equations with action-value estimations are more generally referred to as a Q-functions or action-value functions. This [Stack Exchange post](https://datascience.stackexchange.com/questions/9832/what-is-the-q-function-and-what-is-the-v-function-in-reinforcement-learning) gives you a brief idea of the difference between $V(s)$ and $Q(s, a)$ as problems become more complex.\n",
    "\n",
    "### What is happening\n",
    "\n",
    "SARSA is on-policy TD update. Meaning, it uses the policy definition to select the action $a_{t+1}$ after transitioning to a new state $s_{t+1}$ (you'll see this isn't true for off-policy methods).\n",
    "\n",
    "Recall that SARSA is a modification of the original TD algorithm. This is done by substituting action-values $Q(s, a)$ for state-values $V(s)$, as mentioned before. Other than that, the same idea applies to SARSA as TD. We still need to wait one time step for our target, which is now $R_{t+1} + \\gamma Q(s_{t+1}, a_{t+1})$. After doing so we can then compute the difference between our next state's value estimation (target) and our current state's Q-value $ ( R_{t+1} + \\gamma Q(s_{t+1}, a_{t+1}) - Q(s_t, a_t))$.\n",
    "\n",
    "### Pseudo code\n",
    "\n",
    "![](http://incompleteideas.net/book/ebook/pseudotmp8.png)\n"
   ]
  },
  {
   "cell_type": "markdown",
   "metadata": {},
   "source": [
    "## Epsilon Greedy\n",
    "Before we get to the SARSA implementation we first must implement our policy definition algorithm epsilon greedy. If you recall from last week's lab we had an explicit policy that we could visualize at anytime. This policy told us which actions to take in which states. With value iteration algorithms, like TD, we don't have an explicit policy we can visualize. Rather, we have a policy definition that defines rules for selecting Q-values (i.e. actions).\n",
    "\n",
    "Epsilon greedy allows us to define a policy that balances exploration vs exploitation. Meaning, we get to balance taking random actions and taking the best estimated actions (highest Q-value). This balancing is determined by $\\epsilon$. The higher $\\epsilon$, the higher the chance of taking a random action. If we don't want to explore anymore and we want to recover/exploit our policy, we can simply take the argmax over our Q-values to get best estimated actions.\n",
    "\n",
    "### TODO:\n",
    "Let's finish filling in our `epsilon_greedy()` function below.\n",
    "\n",
    "1. Get a random action index by using the `np.random.randint()` function in conjunction with our variable `n_actions`. Return the output.\n",
    "\n",
    "\n",
    "2. Get the max Q-value from `Q` using `np.max()`. Store output into `max_val`\n",
    "    1. If there are duplicate max values then we will choose randomly which one we return"
   ]
  },
  {
   "cell_type": "code",
   "execution_count": 14,
   "metadata": {},
   "outputs": [],
   "source": [
    "def epsilon_greedy(eps, Q):\n",
    "    \"\"\"\n",
    "        Epsilon greedy policy definition for selecting actions.\n",
    "        \n",
    "        Args:\n",
    "            eps (float): Epsilon value for balancing exploration vs exploitation\n",
    "            \n",
    "            Q (list | np.ndarray): A vector of Q-values with n_actions values\n",
    "            \n",
    "        Returns:\n",
    "            Returns the index of either randomly selected or greedy action\n",
    "    \"\"\"\n",
    "    n_actions = len(Q)\n",
    "    if np.random.rand() < eps:\n",
    "        # TODO (1)\n",
    "        return np.random.randint(n_actions)\n",
    "    else:\n",
    "        # TODO (2)\n",
    "        max_val = np.max(Q)\n",
    "        \n",
    "        # If Q-values have the same max value\n",
    "        # then randomly select one of the max Q-values!\n",
    "        return np.random.choice(np.where(Q == max_val)[0])\n",
    "        "
   ]
  },
  {
   "cell_type": "markdown",
   "metadata": {},
   "source": [
    "Here we can test our `epsilon_greedy()` by passing a epsilon value of 1 and a vector of Q-values. Since our epsilon value is 1, then our function should always return a random action index."
   ]
  },
  {
   "cell_type": "code",
   "execution_count": 15,
   "metadata": {},
   "outputs": [
    {
     "data": {
      "text/plain": [
       "0"
      ]
     },
     "execution_count": 15,
     "metadata": {},
     "output_type": "execute_result"
    }
   ],
   "source": [
    "epsilon_greedy(eps=1, Q=[2,2,1])"
   ]
  },
  {
   "cell_type": "markdown",
   "metadata": {},
   "source": [
    "### TODO:\n",
    "\n",
    "Finish implementing the SARSA algorithm. Here, our goal state is located at state 5 and our starting state is randomized in each episode. Read the code and fill in the TODOs.\n",
    "\n",
    "Note, the `tqdm` allows us to visualize our for loop iterations with a loading bar.\n",
    "\n",
    "1. Initialize our environment variable `env` using the `.init()` method. Store the output into `s`.\n",
    "\n",
    "\n",
    "2. Select our action $a$ by using the `epsilon_greedy()` function defined above.  Store the output into `a`.\n",
    "    1. Hint: Remember, to pass the epsilon value and the Q-values for the current state (i.e index $Q$ at the given state $s$, this should be a vector).\n",
    "\n",
    "\n",
    "3. Execute the current action using the `.next()` method by passing the current state `s` and action. The current action is determined by indexing `As` (the set of all actions) at `a` (the current action index). Store the next state and reward into `s1` and `r1`.\n",
    "\n",
    "\n",
    "4. Select our next state action $a_{t+1}$ by using the `epsilon_greedy()` function defined above. Store the output into `a1`.\n",
    "    1. Hint: Remember, to pass the epsilon value and the Q-values for the next state (i.e index $Q$ at the given the next state $s_{t+1}$, this should be a vector).\n",
    "\n",
    "\n",
    "5. Update our current state action-value estimate $Q(s_{t}, a_{t})$ by using the SARSA algorithm $Q(s_t, a_t) \\leftarrow Q(s_t, a_t) + \\alpha ( R_{t+1} + \\gamma Q(s_{t+1}, a_{t+1}) - Q(s_t, a_t))$. Store the output into `Q[s, a]`.\n",
    "\n",
    "\n",
    "6. Set the next state Q-value $Q(s_{t+1}, a_{t+1})$ to zero, i.e. `Q[s1, a1]`, once we have reached the goal state."
   ]
  },
  {
   "cell_type": "code",
   "execution_count": 16,
   "metadata": {},
   "outputs": [],
   "source": [
    "env = DMarble(goal=5)"
   ]
  },
  {
   "cell_type": "code",
   "execution_count": 17,
   "metadata": {
    "scrolled": false
   },
   "outputs": [
    {
     "name": "stderr",
     "output_type": "stream",
     "text": [
      "100%|██████████| 100/100 [00:00<00:00, 2887.43it/s]\n"
     ]
    }
   ],
   "source": [
    "import pandas as pd\n",
    "from IPython.display import display, HTML\n",
    "from tqdm import tqdm\n",
    "\n",
    "\n",
    "# Define discounting factor\n",
    "gamma = 0.99\n",
    "\n",
    "# define larning rate\n",
    "alpha = 1.0\n",
    "\n",
    "# max number of iterations (episodes)\n",
    "max_iter = 100\n",
    "\n",
    "# max number of steps per episode\n",
    "max_step = 50\n",
    "\n",
    "# Define epsilon\n",
    "epsilon = 0.1\n",
    "\n",
    "# Reinitialize the environment\n",
    "As = env.get_actions() # all the actions\n",
    "\n",
    "# Get number of states and actions\n",
    "n_s = env.get_n_states()\n",
    "n_a = env.get_n_actions()\n",
    "\n",
    "# Define state-action value (Q) table\n",
    "Q = np.zeros((n_s, n_a))\n",
    "\n",
    "# print option\n",
    "verbose = False\n",
    "\n",
    "s_Actions = ['LEFT', \"NONE\", \"RIGHT\"]\n",
    "\n",
    "\n",
    "results = {'rewards': [], 'steps': []}\n",
    "\n",
    "for i in tqdm(range(max_iter)):\n",
    "    #print (\"\\nIteration #{}\".format(i+1))\n",
    "\n",
    "    # TODO (1): initialize (reset) the environment for a new episode\n",
    "    s = env.init()\n",
    "    # TODO (2): selection an action via epsilon_greedy()\n",
    "    a = epsilon_greedy(epsilon, Q[s])\n",
    "    if verbose: \n",
    "        print(\"\\tstarting at {}, taking an action {}\".format(s, s_Actions[a]))\n",
    "    \n",
    "    rewards = []\n",
    "\n",
    "    for step in range(max_step):\n",
    "        \n",
    "        # TODO (3): take the selected action\n",
    "        s1, r1 = env.next(s, As[a])\n",
    "        if verbose: \n",
    "            print(\"\\t\\t {} -> {} -> {}, R: {}\".format(s, s_Actions[a], s1, r1))\n",
    "        \n",
    "        # TODO (4): epsilon greedy to take next action from s1\n",
    "        a1 = epsilon_greedy(epsilon, Q[s1])\n",
    "\n",
    "        rewards.append(r1)\n",
    "\n",
    "        # TODO (5): update self.Q table (SARSA)\n",
    "        Q[s, a] += alpha * (r1 + gamma * Q[s1, a1] - Q[s, a])\n",
    "\n",
    "        if env.is_done(s1): # reached the goal\n",
    "            # TODO (6): update Q table to zero\n",
    "            Q[s1, a1] = 0 \n",
    "            break\n",
    "\n",
    "        # Set next state and action to current state and action\n",
    "        s,a  = s1, a1 \n",
    "\n",
    "\n",
    "    results['rewards'].append(np.mean(rewards))\n",
    "    results['steps'].append(step+1)            \n",
    "      "
   ]
  },
  {
   "cell_type": "markdown",
   "metadata": {},
   "source": [
    "### TODO:\n",
    "\n",
    "Now plot how much average reward we got and how many steps it took to complete each episode during the training.\n",
    "\n",
    "1. Plot the average rewards using the matplotlib `plt.plot()` function and pass `results` indexed at 'rewards'. \n",
    "\n",
    "2. Plot the number of steps using the matplotlib `plt.plot()` function and pass `results` indexed at 'steps'. "
   ]
  },
  {
   "cell_type": "code",
   "execution_count": 18,
   "metadata": {},
   "outputs": [
    {
     "data": {
      "text/plain": [
       "Text(0, 0.5, 'steps')"
      ]
     },
     "execution_count": 18,
     "metadata": {},
     "output_type": "execute_result"
    },
    {
     "data": {
      "image/png": "[encoded data removed]",
      "text/plain": [
       "<Figure size 1080x360 with 2 Axes>"
      ]
     },
     "metadata": {
      "needs_background": "light"
     },
     "output_type": "display_data"
    }
   ],
   "source": [
    "plt.figure(figsize=(15,5))\n",
    "\n",
    "plt.subplot(1,2, 1)\n",
    "# TODO (1): plot average rewards\n",
    "plt.plot(results['rewards'])\n",
    "plt.xlabel('episodes')\n",
    "plt.ylabel('avg. rewards')\n",
    "\n",
    "plt.subplot(1,2, 2)\n",
    "# TODO (2): plot the number of steps\n",
    "plt.plot(results['steps'])\n",
    "plt.xlabel('episodes')\n",
    "plt.ylabel('steps')"
   ]
  },
  {
   "cell_type": "code",
   "execution_count": 20,
   "metadata": {},
   "outputs": [
    {
     "data": {
      "text/plain": [
       "array([[0.   , 0.   , 0.961],\n",
       "       [0.   , 0.   , 0.97 ],\n",
       "       [0.   , 0.   , 0.98 ],\n",
       "       [0.   , 0.   , 0.99 ],\n",
       "       [0.   , 0.   , 1.   ],\n",
       "       [0.   , 0.   , 0.   ],\n",
       "       [1.   , 0.   , 0.98 ],\n",
       "       [0.99 , 0.   , 0.   ],\n",
       "       [0.98 , 0.   , 0.703],\n",
       "       [0.97 , 0.961, 0.426],\n",
       "       [0.961, 0.   , 0.   ]])"
      ]
     },
     "execution_count": 20,
     "metadata": {},
     "output_type": "execute_result"
    }
   ],
   "source": [
    "Q"
   ]
  },
  {
   "cell_type": "markdown",
   "metadata": {},
   "source": [
    "By taking the argmax of `Q` and indexing our human readable environment's actions variable `s_Actions` we can get the actions our policy would take in each state after training. Below is the code for visualizing our policy in a human readable format.\n",
    "\n",
    "Note, notice that in state five (our goal state) all the values are 0 and the action  picked defaults to left. Unlike last week, where we had to remain in the goal state to complete the task, this week we simply have to reach the goal state. That means once our next state variable `s1` is the goal state, then we are done with the episode. Thus, the Q-values of the goal state are always set to zero!"
   ]
  },
  {
   "cell_type": "code",
   "execution_count": 21,
   "metadata": {},
   "outputs": [
    {
     "data": {
      "text/html": [
       "<div>\n",
       "<style scoped>\n",
       "    .dataframe tbody tr th:only-of-type {\n",
       "        vertical-align: middle;\n",
       "    }\n",
       "\n",
       "    .dataframe tbody tr th {\n",
       "        vertical-align: top;\n",
       "    }\n",
       "\n",
       "    .dataframe thead th {\n",
       "        text-align: right;\n",
       "    }\n",
       "</style>\n",
       "<table border=\"1\" class=\"dataframe\">\n",
       "  <thead>\n",
       "    <tr style=\"text-align: right;\">\n",
       "      <th></th>\n",
       "      <th>state 0</th>\n",
       "      <th>state 1</th>\n",
       "      <th>state 2</th>\n",
       "      <th>state 3</th>\n",
       "      <th>state 4</th>\n",
       "      <th>state 5</th>\n",
       "      <th>state 6</th>\n",
       "      <th>state 7</th>\n",
       "      <th>state 8</th>\n",
       "      <th>state 9</th>\n",
       "      <th>state 10</th>\n",
       "    </tr>\n",
       "  </thead>\n",
       "  <tbody>\n",
       "    <tr>\n",
       "      <th>aciton</th>\n",
       "      <td>RIGHT</td>\n",
       "      <td>RIGHT</td>\n",
       "      <td>RIGHT</td>\n",
       "      <td>RIGHT</td>\n",
       "      <td>RIGHT</td>\n",
       "      <td>LEFT</td>\n",
       "      <td>LEFT</td>\n",
       "      <td>LEFT</td>\n",
       "      <td>LEFT</td>\n",
       "      <td>LEFT</td>\n",
       "      <td>LEFT</td>\n",
       "    </tr>\n",
       "  </tbody>\n",
       "</table>\n",
       "</div>"
      ],
      "text/plain": [
       "       state 0 state 1 state 2 state 3 state 4 state 5 state 6 state 7  \\\n",
       "aciton   RIGHT   RIGHT   RIGHT   RIGHT   RIGHT    LEFT    LEFT    LEFT   \n",
       "\n",
       "       state 8 state 9 state 10  \n",
       "aciton    LEFT    LEFT     LEFT  "
      ]
     },
     "execution_count": 21,
     "metadata": {},
     "output_type": "execute_result"
    }
   ],
   "source": [
    "opt_policy_idx = np.argmax(Q, axis=1)\n",
    "opt_policy = np.array(s_Actions)[opt_policy_idx]\n",
    "\n",
    "columns = [ \"state {}\".format(s) for s in np.arange(0, 11)]\n",
    "df = pd.DataFrame(opt_policy.reshape(1, -1), columns=columns)\n",
    "df.index = ['aciton']\n",
    "df"
   ]
  },
  {
   "cell_type": "markdown",
   "metadata": {},
   "source": [
    "# Q-Learning\n",
    "Now, let's implement our second temporal difference algorithm Q-learning.\n",
    "\n",
    "## Algorithm Summary\n",
    "Below is the Q-learning algorithm. Let's quickly break it down to give you an idea of how it relates to TD and SARSA. \n",
    " \n",
    "$$\n",
    "Q(s_t, a_t) \\leftarrow Q(s_t, a_t) + \\alpha ( R_{t+1} + \\gamma \\max_a Q(s_{t+1}, a) - Q(s_t, a_t)).\n",
    "$$\n",
    "\n",
    "![](https://wikimedia.org/api/rest_v1/media/math/render/svg/678cb558a9d59c33ef4810c9618baf34a9577686)\n",
    "\n",
    "### Notation \n",
    "\n",
    "#### Important Notation\n",
    "- **state-action evaluation** or **action-value** or **Q-value**\n",
    "    -  $Q(s, a)$\n",
    "    - The estimated value of a state given said state $s$ and an action $a$\n",
    "    \n",
    "#### Summary\n",
    "Just like SARSA, Q-learning uses a state-action evaluation $Q(s, a)$. If you want to review the notation for state action-value estimation see the SARSA section.\n",
    "\n",
    "### What is happening\n",
    "Q-learning is an off-policy TD update. Meaning, it does not use the policy definition to select the action $a_{t+1}$ after transitioning to a new state $s_{t+1}$. Instead, we simply take the max Q-value of the next state $s_{t+1}$, which corresponds to the best estimated action. In more concrete terms, with Q-learning, we do not call our `epsilon_greedy()` function when selecting the next state action $a_{t+1}$. Instead, we use the`np.max()` function to get best Q-value and `np.argmax()` to get the best action. \n",
    "\n",
    "So, just like SARSA, we still need to wait one time step for our target, which is now $ R_{t+1} + \\gamma \\max_a Q(s_{t+1}, a)$. Notice, that a 'max' is being taken over all the next state Q-values. This means we are ignoring our policy definition for selecting the next state's Q-value and instead taking whichever Q-value is the highest. This is the unique part of Q-learning that differentiates it from SARSA and makes it off-policy. Now, we just need to compute the difference between our next state's value estimation (target) and our current state's Q-value $( R_{t+1} + \\gamma \\max_a Q(s_{t+1}, a) - Q(s_t, a_t))$. \n",
    "\n",
    "\n",
    "### Pseudo code\n",
    "\n",
    "![](http://incompleteideas.net/book/ebook/pseudotmp9.png)\n",
    "\n"
   ]
  },
  {
   "cell_type": "markdown",
   "metadata": {},
   "source": [
    "### TODO:\n",
    "\n",
    "Finish implementing the Q-learning algorithm. Here, our goal state is located at state 5 and our starting state is randomized in each episode. Read the code and fill in the TODOs.\n",
    "\n",
    "Note, the `tqdm` allows us to visualize our for loop iterations with a loading bar.\n",
    "\n",
    "1. Initialize our environment variable `env` using the `.init()` method. Store the output into `s`.\n",
    "\n",
    "\n",
    "2. Select our action $a$ by using the `epsilon_greedy()` function defined above.  Store the output into `a`.\n",
    "    1. Hint: Remember, to pass the epsilon value and the Q-values for the current state (i.e index $Q$ at the given state $s$, this should be a vector).\n",
    "\n",
    "\n",
    "3. Execute the current action using the `.next()` method by passing the current state `s` and action. The current action is determined by indexing `As` (the set of all actions) at `a` (the current action index). Store the next state and reward into `s1` and `r1`.\n",
    "\n",
    "\n",
    "5. Update our current state action-value estimate $Q(s_{t}, a_{t})$ by using the Q-learning algorithm $Q(s_t, a_t) \\leftarrow Q(s_t, a_t) + \\alpha ( R_{t+1} + \\gamma \\max_a Q(s_{t+1}, a) - Q(s_t, a_t))$. Store the output into `Q[s, a]`.\n",
    "    1. Hint: Now instead of simply indexing `Q[s1, a1]` to get the next state Q-value given by the policy, take the max Q-value by taking the `np.max()` over the next state's Q-values (use `:` to index all the Q-values for a given state)!\n",
    "\n",
    "\n",
    "6. Set **all** the next state Q-values $Q(s_{t+1}, a)$ to zero, i.e `Q[s1, :]`, once we have reached the goal state."
   ]
  },
  {
   "cell_type": "code",
   "execution_count": 10,
   "metadata": {},
   "outputs": [
    {
     "name": "stderr",
     "output_type": "stream",
     "text": [
      "100%|██████████| 100/100 [00:00<00:00, 4006.06it/s]\n"
     ]
    }
   ],
   "source": [
    "import pandas as pd\n",
    "from IPython.display import display, HTML\n",
    "from tqdm import tqdm\n",
    "\n",
    "\n",
    "\n",
    "# Define discounting factor\n",
    "gamma = 0.99\n",
    "\n",
    "# define larning rate\n",
    "alpha = 1.0\n",
    "\n",
    "# max number of iterations (episodes)\n",
    "max_iter = 100\n",
    "\n",
    "# max number of steps per episode\n",
    "max_step = 50\n",
    "\n",
    "# Define epsilon\n",
    "epsilon = 0.1\n",
    "\n",
    "# Reinitialize the environment\n",
    "As = env.get_actions() # all the actions\n",
    "\n",
    "# Get number of states and actions\n",
    "n_s = env.get_n_states()\n",
    "n_a = env.get_n_actions()\n",
    "\n",
    "# Define state-action value (Q) table\n",
    "Q = np.zeros((n_s, n_a))\n",
    "\n",
    "# print option\n",
    "verbose = False\n",
    "\n",
    "s_Actions = ['LEFT', \"NONE\", \"RIGHT\"]\n",
    "\n",
    "\n",
    "results = {'rewards': [], 'steps': []}\n",
    "\n",
    "for i in tqdm(range(max_iter)):\n",
    "    #print (\"\\nIteration #{}\".format(i+1))\n",
    "\n",
    "    # TODO (1)\n",
    "    s = env.init()\n",
    "    if verbose: \n",
    "        print(\"\\tstarting at {}\".format(s))\n",
    "    \n",
    "    rewards = []\n",
    "\n",
    "    for step in range(max_step):\n",
    "        \n",
    "        # TODO (2)\n",
    "        a = epsilon_greedy(epsilon, Q[s])\n",
    "        \n",
    "        # TODO (3)\n",
    "        s1, r1 = env.next(s, As[a])\n",
    "              \n",
    "        if verbose: \n",
    "            print(\"\\t\\t {} -> {} -> {}, R: {}\".format(s, s_Actions[a], s1, r1))\n",
    "        \n",
    "        rewards.append(r1)\n",
    "\n",
    "        # TODO (4)\n",
    "        Q[s, a] += alpha * (r1 + gamma * np.max(Q[s1, :]) - Q[s, a])\n",
    "\n",
    "        if env.is_done(s1): # reached the goal\n",
    "            # TODO (5)\n",
    "            Q[s1, :] = 0\n",
    "            break\n",
    "\n",
    "        # Set next state and action to current state and action\n",
    "        s,a  = s1, a1 \n",
    "\n",
    "\n",
    "    results['rewards'].append(np.mean(rewards))\n",
    "    results['steps'].append(step+1)            \n",
    "      "
   ]
  },
  {
   "cell_type": "markdown",
   "metadata": {},
   "source": [
    "### TODO:\n",
    "\n",
    "Now plot how much average reward we got and how many steps it took to complete each episode during the training.\n",
    "\n",
    "1. Plot the average rewards using the matplotlib `plt.plot()` function and pass `results` indexed at 'rewards'. \n",
    "\n",
    "2. Plot the number of steps using the matplotlib `plt.plot()` function and pass `results` indexed at 'steps'. "
   ]
  },
  {
   "cell_type": "code",
   "execution_count": 11,
   "metadata": {},
   "outputs": [
    {
     "data": {
      "text/plain": [
       "Text(0, 0.5, 'steps')"
      ]
     },
     "execution_count": 11,
     "metadata": {},
     "output_type": "execute_result"
    },
    {
     "data": {
      "image/png": "[encoded data removed]",
      "text/plain": [
       "<Figure size 1080x360 with 2 Axes>"
      ]
     },
     "metadata": {
      "needs_background": "light"
     },
     "output_type": "display_data"
    }
   ],
   "source": [
    "plt.figure(figsize=(15,5))\n",
    "\n",
    "plt.subplot(1, 2, 1)\n",
    "# TODO (1)\n",
    "plt.plot(results['rewards'])\n",
    "plt.xlabel('episodes')\n",
    "plt.ylabel('avg. rewards')\n",
    "\n",
    "plt.subplot(1, 2, 2)\n",
    "# TODO (2)\n",
    "plt.plot(results['steps'])\n",
    "plt.xlabel('episodes')\n",
    "plt.ylabel('steps')"
   ]
  },
  {
   "cell_type": "code",
   "execution_count": 12,
   "metadata": {},
   "outputs": [
    {
     "data": {
      "text/plain": [
       "array([[0.   , 0.   , 0.961],\n",
       "       [0.   , 0.961, 0.97 ],\n",
       "       [0.961, 0.97 , 0.98 ],\n",
       "       [0.97 , 0.   , 0.99 ],\n",
       "       [0.98 , 0.99 , 1.   ],\n",
       "       [0.   , 0.   , 0.   ],\n",
       "       [1.98 , 0.99 , 0.98 ],\n",
       "       [0.99 , 0.98 , 0.97 ],\n",
       "       [0.98 , 0.   , 0.   ],\n",
       "       [0.97 , 0.961, 0.951],\n",
       "       [0.961, 0.   , 0.   ]])"
      ]
     },
     "execution_count": 12,
     "metadata": {},
     "output_type": "execute_result"
    }
   ],
   "source": [
    "Q"
   ]
  },
  {
   "cell_type": "code",
   "execution_count": 20,
   "metadata": {},
   "outputs": [
    {
     "data": {
      "text/html": [
       "<div>\n",
       "<style scoped>\n",
       "    .dataframe tbody tr th:only-of-type {\n",
       "        vertical-align: middle;\n",
       "    }\n",
       "\n",
       "    .dataframe tbody tr th {\n",
       "        vertical-align: top;\n",
       "    }\n",
       "\n",
       "    .dataframe thead th {\n",
       "        text-align: right;\n",
       "    }\n",
       "</style>\n",
       "<table border=\"1\" class=\"dataframe\">\n",
       "  <thead>\n",
       "    <tr style=\"text-align: right;\">\n",
       "      <th></th>\n",
       "      <th>state 0</th>\n",
       "      <th>state 1</th>\n",
       "      <th>state 2</th>\n",
       "      <th>state 3</th>\n",
       "      <th>state 4</th>\n",
       "      <th>state 5</th>\n",
       "      <th>state 6</th>\n",
       "      <th>state 7</th>\n",
       "      <th>state 8</th>\n",
       "      <th>state 9</th>\n",
       "      <th>state 10</th>\n",
       "    </tr>\n",
       "  </thead>\n",
       "  <tbody>\n",
       "    <tr>\n",
       "      <th>aciton</th>\n",
       "      <td>RIGHT</td>\n",
       "      <td>RIGHT</td>\n",
       "      <td>RIGHT</td>\n",
       "      <td>RIGHT</td>\n",
       "      <td>RIGHT</td>\n",
       "      <td>LEFT</td>\n",
       "      <td>LEFT</td>\n",
       "      <td>LEFT</td>\n",
       "      <td>LEFT</td>\n",
       "      <td>LEFT</td>\n",
       "      <td>LEFT</td>\n",
       "    </tr>\n",
       "  </tbody>\n",
       "</table>\n",
       "</div>"
      ],
      "text/plain": [
       "       state 0 state 1 state 2 state 3 state 4 state 5 state 6 state 7  \\\n",
       "aciton   RIGHT   RIGHT   RIGHT   RIGHT   RIGHT    LEFT    LEFT    LEFT   \n",
       "\n",
       "       state 8 state 9 state 10  \n",
       "aciton    LEFT    LEFT     LEFT  "
      ]
     },
     "execution_count": 20,
     "metadata": {},
     "output_type": "execute_result"
    }
   ],
   "source": [
    "opt_policy_idx = np.argmax(Q, axis=1)\n",
    "opt_policy = np.array(s_Actions)[opt_policy_idx]\n",
    "\n",
    "columns = [ \"state {}\".format(s) for s in np.arange(0, 11)]\n",
    "df = pd.DataFrame(opt_policy.reshape(1, -1), columns=columns)\n",
    "df.index = ['aciton']\n",
    "df"
   ]
  },
  {
   "cell_type": "markdown",
   "metadata": {},
   "source": [
    "## Bonus TODOs:\n",
    "\n",
    "Now you can play with different hyper-parameters (i.e., `gamma`, `alpha`, and `max_iter`). See how the learning changes as you change the aforementioned hyper-parameters. "
   ]
  }
 ],
 "metadata": {
  "kernelspec": {
   "display_name": "Python 3",
   "language": "python",
   "name": "python3"
  },
  "language_info": {
   "codemirror_mode": {
    "name": "ipython",
    "version": 3
   },
   "file_extension": ".py",
   "mimetype": "text/x-python",
   "name": "python",
   "nbconvert_exporter": "python",
   "pygments_lexer": "ipython3",
   "version": "3.8.3"
  }
 },
 "nbformat": 4,
 "nbformat_minor": 2
}
