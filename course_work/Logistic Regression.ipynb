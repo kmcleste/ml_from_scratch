{
 "cells": [
  {
   "cell_type": "markdown",
   "metadata": {},
   "source": [
    "# Logistic Regression\n",
    "### Kyle McLester"
   ]
  },
  {
   "cell_type": "code",
   "execution_count": 1,
   "metadata": {},
   "outputs": [],
   "source": [
    "from copy import deepcopy as copy\n",
    "from IPython.core.debugger import set_trace\n",
    "\n",
    "import numpy as np\n",
    "import pandas as pd\n",
    "import matplotlib.pyplot as plt \n",
    "from mpl_toolkits.mplot3d import Axes3D\n",
    "%matplotlib inline"
   ]
  },
  {
   "cell_type": "code",
   "execution_count": 2,
   "metadata": {},
   "outputs": [],
   "source": [
    "from sklearn.datasets import load_iris\n",
    "iris = load_iris()\n",
    "X = iris.data\n",
    "T = iris.target"
   ]
  },
  {
   "cell_type": "code",
   "execution_count": 3,
   "metadata": {},
   "outputs": [],
   "source": [
    "# now partition the data \n",
    "\n",
    "\"\"\" partitioning data\n",
    "\n",
    "    parameters\n",
    "    -----------\n",
    "    X        numpy array\n",
    "             input data to partition\n",
    "    T        numpy array\n",
    "             target labels to partition\n",
    "    raito    list\n",
    "             list of ratios for partitions (should be summed to 1) \n",
    "             the number of return pairs are different\n",
    "    return\n",
    "    -------\n",
    "    \n",
    "    Xs       list of numpy arrays\n",
    "    \n",
    "    Ts       list of numpy arrays\n",
    "\"\"\"\n",
    "def partition(X, T, ratio=[0.8, 0.2]): \n",
    "    \n",
    "    # Checks to make sure ratio sums to 1\n",
    "    assert(np.sum(ratio) == 1)\n",
    "    \n",
    "    # Store the number of data samples \n",
    "    N = X.shape[0]\n",
    "\n",
    "    # change the 1d array to 2d if need\n",
    "    if len(T.shape) == 1:\n",
    "        T = T.reshape((N,1))\n",
    "    \n",
    "    # Shuffle the data indices \n",
    "    idxs = np.random.permutation(N)\n",
    "        \n",
    "    Xs = []\n",
    "    Ts = []\n",
    "    i = 0  # first index to zero\n",
    "    for k, r in enumerate(ratio):\n",
    "         # Number of rows that corresponds to kth element in ratios\n",
    "        nrows = int(round(N * r)) \n",
    "        \n",
    "        # print (i, nrows)\n",
    "        # If we are on the last ratio simply use the remaining data samples\n",
    "        if k == len(ratio)-1:\n",
    "            Xs.append(X[idxs[i:], :])\n",
    "            Ts.append(T[idxs[i:], :])\n",
    "        else:\n",
    "            Xs.append(X[idxs[i:i+nrows], :])\n",
    "            Ts.append(T[idxs[i:i+nrows], :])\n",
    "        \n",
    "        i += nrows\n",
    "    \n",
    "    return Xs, Ts"
   ]
  },
  {
   "cell_type": "code",
   "execution_count": 4,
   "metadata": {},
   "outputs": [],
   "source": [
    "def partition_data():\n",
    "    \"\"\"Partition data into train and test splits.\"\"\"\n",
    "    global Xtrain, Xtest, Ttrain, Ttest\n",
    "    data, targets = partition(copy(X), copy(T))\n",
    "    # Fill in the right had side of the assignments below\n",
    "    Xtrain, Xtest = data\n",
    "    # Fill in the right had side of the assignments below\n",
    "    Ttrain, Ttest = targets"
   ]
  },
  {
   "cell_type": "code",
   "execution_count": 5,
   "metadata": {},
   "outputs": [
    {
     "name": "stdout",
     "output_type": "stream",
     "text": [
      "Train data shape: (120, 4)\n",
      "Train target shape: (120, 1)\n",
      "Test data shape: (30, 4)\n",
      "Test target shape: (30, 1)\n"
     ]
    }
   ],
   "source": [
    "partition_data()\n",
    "print(\"Train data shape: {}\".format(Xtrain.shape))\n",
    "print(\"Train target shape: {}\".format(Ttrain.shape))\n",
    "print(\"Test data shape: {}\".format(Xtest.shape))\n",
    "print(\"Test target shape: {}\".format(Ttest.shape))"
   ]
  },
  {
   "cell_type": "markdown",
   "metadata": {},
   "source": [
    "## Applying Logistic Regression"
   ]
  },
  {
   "cell_type": "code",
   "execution_count": 6,
   "metadata": {},
   "outputs": [
    {
     "data": {
      "text/plain": [
       "array([0, 1, 2])"
      ]
     },
     "execution_count": 6,
     "metadata": {},
     "output_type": "execute_result"
    }
   ],
   "source": [
    "np.unique(Ttrain)"
   ]
  },
  {
   "cell_type": "code",
   "execution_count": 7,
   "metadata": {},
   "outputs": [
    {
     "data": {
      "text/plain": [
       "array([[2],\n",
       "       [0],\n",
       "       [1],\n",
       "       [0],\n",
       "       [2],\n",
       "       [0],\n",
       "       [2],\n",
       "       [2],\n",
       "       [1],\n",
       "       [1],\n",
       "       [2],\n",
       "       [0],\n",
       "       [0],\n",
       "       [2],\n",
       "       [0],\n",
       "       [2],\n",
       "       [2],\n",
       "       [0],\n",
       "       [2],\n",
       "       [1],\n",
       "       [1],\n",
       "       [1],\n",
       "       [2],\n",
       "       [0],\n",
       "       [1],\n",
       "       [1],\n",
       "       [1],\n",
       "       [1],\n",
       "       [0],\n",
       "       [2],\n",
       "       [2],\n",
       "       [2],\n",
       "       [1],\n",
       "       [1],\n",
       "       [1],\n",
       "       [1],\n",
       "       [0],\n",
       "       [2],\n",
       "       [0],\n",
       "       [1],\n",
       "       [2],\n",
       "       [2],\n",
       "       [2],\n",
       "       [2],\n",
       "       [1],\n",
       "       [0],\n",
       "       [0],\n",
       "       [0],\n",
       "       [0],\n",
       "       [1],\n",
       "       [1],\n",
       "       [2],\n",
       "       [0],\n",
       "       [0],\n",
       "       [1],\n",
       "       [0],\n",
       "       [0],\n",
       "       [0],\n",
       "       [0],\n",
       "       [0],\n",
       "       [1],\n",
       "       [1],\n",
       "       [1],\n",
       "       [0],\n",
       "       [0],\n",
       "       [1],\n",
       "       [1],\n",
       "       [0],\n",
       "       [2],\n",
       "       [0],\n",
       "       [0],\n",
       "       [1],\n",
       "       [2],\n",
       "       [0],\n",
       "       [1],\n",
       "       [0],\n",
       "       [0],\n",
       "       [2],\n",
       "       [1],\n",
       "       [1],\n",
       "       [2],\n",
       "       [1],\n",
       "       [2],\n",
       "       [0],\n",
       "       [2],\n",
       "       [1],\n",
       "       [2],\n",
       "       [2],\n",
       "       [2],\n",
       "       [1],\n",
       "       [0],\n",
       "       [2],\n",
       "       [0],\n",
       "       [1],\n",
       "       [2],\n",
       "       [2],\n",
       "       [2],\n",
       "       [1],\n",
       "       [1],\n",
       "       [2],\n",
       "       [1],\n",
       "       [1],\n",
       "       [2],\n",
       "       [0],\n",
       "       [1],\n",
       "       [2],\n",
       "       [2],\n",
       "       [1],\n",
       "       [0],\n",
       "       [2],\n",
       "       [2],\n",
       "       [1],\n",
       "       [1],\n",
       "       [0],\n",
       "       [0],\n",
       "       [2],\n",
       "       [1],\n",
       "       [2],\n",
       "       [1],\n",
       "       [2]])"
      ]
     },
     "execution_count": 7,
     "metadata": {},
     "output_type": "execute_result"
    }
   ],
   "source": [
    "Ttrain"
   ]
  },
  {
   "cell_type": "code",
   "execution_count": 8,
   "metadata": {},
   "outputs": [
    {
     "data": {
      "text/plain": [
       "array([[False],\n",
       "       [False],\n",
       "       [ True],\n",
       "       [False],\n",
       "       [False],\n",
       "       [False],\n",
       "       [False],\n",
       "       [False],\n",
       "       [ True],\n",
       "       [ True],\n",
       "       [False],\n",
       "       [False],\n",
       "       [False],\n",
       "       [False],\n",
       "       [False],\n",
       "       [False],\n",
       "       [False],\n",
       "       [False],\n",
       "       [False],\n",
       "       [ True],\n",
       "       [ True],\n",
       "       [ True],\n",
       "       [False],\n",
       "       [False],\n",
       "       [ True],\n",
       "       [ True],\n",
       "       [ True],\n",
       "       [ True],\n",
       "       [False],\n",
       "       [False],\n",
       "       [False],\n",
       "       [False],\n",
       "       [ True],\n",
       "       [ True],\n",
       "       [ True],\n",
       "       [ True],\n",
       "       [False],\n",
       "       [False],\n",
       "       [False],\n",
       "       [ True],\n",
       "       [False],\n",
       "       [False],\n",
       "       [False],\n",
       "       [False],\n",
       "       [ True],\n",
       "       [False],\n",
       "       [False],\n",
       "       [False],\n",
       "       [False],\n",
       "       [ True],\n",
       "       [ True],\n",
       "       [False],\n",
       "       [False],\n",
       "       [False],\n",
       "       [ True],\n",
       "       [False],\n",
       "       [False],\n",
       "       [False],\n",
       "       [False],\n",
       "       [False],\n",
       "       [ True],\n",
       "       [ True],\n",
       "       [ True],\n",
       "       [False],\n",
       "       [False],\n",
       "       [ True],\n",
       "       [ True],\n",
       "       [False],\n",
       "       [False],\n",
       "       [False],\n",
       "       [False],\n",
       "       [ True],\n",
       "       [False],\n",
       "       [False],\n",
       "       [ True],\n",
       "       [False],\n",
       "       [False],\n",
       "       [False],\n",
       "       [ True],\n",
       "       [ True],\n",
       "       [False],\n",
       "       [ True],\n",
       "       [False],\n",
       "       [False],\n",
       "       [False],\n",
       "       [ True],\n",
       "       [False],\n",
       "       [False],\n",
       "       [False],\n",
       "       [ True],\n",
       "       [False],\n",
       "       [False],\n",
       "       [False],\n",
       "       [ True],\n",
       "       [False],\n",
       "       [False],\n",
       "       [False],\n",
       "       [ True],\n",
       "       [ True],\n",
       "       [False],\n",
       "       [ True],\n",
       "       [ True],\n",
       "       [False],\n",
       "       [False],\n",
       "       [ True],\n",
       "       [False],\n",
       "       [False],\n",
       "       [ True],\n",
       "       [False],\n",
       "       [False],\n",
       "       [False],\n",
       "       [ True],\n",
       "       [ True],\n",
       "       [False],\n",
       "       [False],\n",
       "       [False],\n",
       "       [ True],\n",
       "       [False],\n",
       "       [ True],\n",
       "       [False]])"
      ]
     },
     "execution_count": 8,
     "metadata": {},
     "output_type": "execute_result"
    }
   ],
   "source": [
    "Ttrain == 1"
   ]
  },
  {
   "cell_type": "code",
   "execution_count": 9,
   "metadata": {},
   "outputs": [
    {
     "data": {
      "text/plain": [
       "array([[False, False,  True],\n",
       "       [ True, False, False],\n",
       "       [False,  True, False],\n",
       "       [ True, False, False],\n",
       "       [False, False,  True],\n",
       "       [ True, False, False],\n",
       "       [False, False,  True],\n",
       "       [False, False,  True],\n",
       "       [False,  True, False],\n",
       "       [False,  True, False],\n",
       "       [False, False,  True],\n",
       "       [ True, False, False],\n",
       "       [ True, False, False],\n",
       "       [False, False,  True],\n",
       "       [ True, False, False],\n",
       "       [False, False,  True],\n",
       "       [False, False,  True],\n",
       "       [ True, False, False],\n",
       "       [False, False,  True],\n",
       "       [False,  True, False],\n",
       "       [False,  True, False],\n",
       "       [False,  True, False],\n",
       "       [False, False,  True],\n",
       "       [ True, False, False],\n",
       "       [False,  True, False],\n",
       "       [False,  True, False],\n",
       "       [False,  True, False],\n",
       "       [False,  True, False],\n",
       "       [ True, False, False],\n",
       "       [False, False,  True],\n",
       "       [False, False,  True],\n",
       "       [False, False,  True],\n",
       "       [False,  True, False],\n",
       "       [False,  True, False],\n",
       "       [False,  True, False],\n",
       "       [False,  True, False],\n",
       "       [ True, False, False],\n",
       "       [False, False,  True],\n",
       "       [ True, False, False],\n",
       "       [False,  True, False],\n",
       "       [False, False,  True],\n",
       "       [False, False,  True],\n",
       "       [False, False,  True],\n",
       "       [False, False,  True],\n",
       "       [False,  True, False],\n",
       "       [ True, False, False],\n",
       "       [ True, False, False],\n",
       "       [ True, False, False],\n",
       "       [ True, False, False],\n",
       "       [False,  True, False],\n",
       "       [False,  True, False],\n",
       "       [False, False,  True],\n",
       "       [ True, False, False],\n",
       "       [ True, False, False],\n",
       "       [False,  True, False],\n",
       "       [ True, False, False],\n",
       "       [ True, False, False],\n",
       "       [ True, False, False],\n",
       "       [ True, False, False],\n",
       "       [ True, False, False],\n",
       "       [False,  True, False],\n",
       "       [False,  True, False],\n",
       "       [False,  True, False],\n",
       "       [ True, False, False],\n",
       "       [ True, False, False],\n",
       "       [False,  True, False],\n",
       "       [False,  True, False],\n",
       "       [ True, False, False],\n",
       "       [False, False,  True],\n",
       "       [ True, False, False],\n",
       "       [ True, False, False],\n",
       "       [False,  True, False],\n",
       "       [False, False,  True],\n",
       "       [ True, False, False],\n",
       "       [False,  True, False],\n",
       "       [ True, False, False],\n",
       "       [ True, False, False],\n",
       "       [False, False,  True],\n",
       "       [False,  True, False],\n",
       "       [False,  True, False],\n",
       "       [False, False,  True],\n",
       "       [False,  True, False],\n",
       "       [False, False,  True],\n",
       "       [ True, False, False],\n",
       "       [False, False,  True],\n",
       "       [False,  True, False],\n",
       "       [False, False,  True],\n",
       "       [False, False,  True],\n",
       "       [False, False,  True],\n",
       "       [False,  True, False],\n",
       "       [ True, False, False],\n",
       "       [False, False,  True],\n",
       "       [ True, False, False],\n",
       "       [False,  True, False],\n",
       "       [False, False,  True],\n",
       "       [False, False,  True],\n",
       "       [False, False,  True],\n",
       "       [False,  True, False],\n",
       "       [False,  True, False],\n",
       "       [False, False,  True],\n",
       "       [False,  True, False],\n",
       "       [False,  True, False],\n",
       "       [False, False,  True],\n",
       "       [ True, False, False],\n",
       "       [False,  True, False],\n",
       "       [False, False,  True],\n",
       "       [False, False,  True],\n",
       "       [False,  True, False],\n",
       "       [ True, False, False],\n",
       "       [False, False,  True],\n",
       "       [False, False,  True],\n",
       "       [False,  True, False],\n",
       "       [False,  True, False],\n",
       "       [ True, False, False],\n",
       "       [ True, False, False],\n",
       "       [False, False,  True],\n",
       "       [False,  True, False],\n",
       "       [False, False,  True],\n",
       "       [False,  True, False],\n",
       "       [False, False,  True]])"
      ]
     },
     "execution_count": 9,
     "metadata": {},
     "output_type": "execute_result"
    }
   ],
   "source": [
    "Ttrain == np.unique(Ttrain)"
   ]
  },
  {
   "cell_type": "code",
   "execution_count": 10,
   "metadata": {},
   "outputs": [
    {
     "data": {
      "text/plain": [
       "array([[0, 0, 1],\n",
       "       [1, 0, 0],\n",
       "       [0, 1, 0],\n",
       "       [1, 0, 0],\n",
       "       [0, 0, 1],\n",
       "       [1, 0, 0],\n",
       "       [0, 0, 1],\n",
       "       [0, 0, 1],\n",
       "       [0, 1, 0],\n",
       "       [0, 1, 0],\n",
       "       [0, 0, 1],\n",
       "       [1, 0, 0],\n",
       "       [1, 0, 0],\n",
       "       [0, 0, 1],\n",
       "       [1, 0, 0],\n",
       "       [0, 0, 1],\n",
       "       [0, 0, 1],\n",
       "       [1, 0, 0],\n",
       "       [0, 0, 1],\n",
       "       [0, 1, 0],\n",
       "       [0, 1, 0],\n",
       "       [0, 1, 0],\n",
       "       [0, 0, 1],\n",
       "       [1, 0, 0],\n",
       "       [0, 1, 0],\n",
       "       [0, 1, 0],\n",
       "       [0, 1, 0],\n",
       "       [0, 1, 0],\n",
       "       [1, 0, 0],\n",
       "       [0, 0, 1],\n",
       "       [0, 0, 1],\n",
       "       [0, 0, 1],\n",
       "       [0, 1, 0],\n",
       "       [0, 1, 0],\n",
       "       [0, 1, 0],\n",
       "       [0, 1, 0],\n",
       "       [1, 0, 0],\n",
       "       [0, 0, 1],\n",
       "       [1, 0, 0],\n",
       "       [0, 1, 0],\n",
       "       [0, 0, 1],\n",
       "       [0, 0, 1],\n",
       "       [0, 0, 1],\n",
       "       [0, 0, 1],\n",
       "       [0, 1, 0],\n",
       "       [1, 0, 0],\n",
       "       [1, 0, 0],\n",
       "       [1, 0, 0],\n",
       "       [1, 0, 0],\n",
       "       [0, 1, 0],\n",
       "       [0, 1, 0],\n",
       "       [0, 0, 1],\n",
       "       [1, 0, 0],\n",
       "       [1, 0, 0],\n",
       "       [0, 1, 0],\n",
       "       [1, 0, 0],\n",
       "       [1, 0, 0],\n",
       "       [1, 0, 0],\n",
       "       [1, 0, 0],\n",
       "       [1, 0, 0],\n",
       "       [0, 1, 0],\n",
       "       [0, 1, 0],\n",
       "       [0, 1, 0],\n",
       "       [1, 0, 0],\n",
       "       [1, 0, 0],\n",
       "       [0, 1, 0],\n",
       "       [0, 1, 0],\n",
       "       [1, 0, 0],\n",
       "       [0, 0, 1],\n",
       "       [1, 0, 0],\n",
       "       [1, 0, 0],\n",
       "       [0, 1, 0],\n",
       "       [0, 0, 1],\n",
       "       [1, 0, 0],\n",
       "       [0, 1, 0],\n",
       "       [1, 0, 0],\n",
       "       [1, 0, 0],\n",
       "       [0, 0, 1],\n",
       "       [0, 1, 0],\n",
       "       [0, 1, 0],\n",
       "       [0, 0, 1],\n",
       "       [0, 1, 0],\n",
       "       [0, 0, 1],\n",
       "       [1, 0, 0],\n",
       "       [0, 0, 1],\n",
       "       [0, 1, 0],\n",
       "       [0, 0, 1],\n",
       "       [0, 0, 1],\n",
       "       [0, 0, 1],\n",
       "       [0, 1, 0],\n",
       "       [1, 0, 0],\n",
       "       [0, 0, 1],\n",
       "       [1, 0, 0],\n",
       "       [0, 1, 0],\n",
       "       [0, 0, 1],\n",
       "       [0, 0, 1],\n",
       "       [0, 0, 1],\n",
       "       [0, 1, 0],\n",
       "       [0, 1, 0],\n",
       "       [0, 0, 1],\n",
       "       [0, 1, 0],\n",
       "       [0, 1, 0],\n",
       "       [0, 0, 1],\n",
       "       [1, 0, 0],\n",
       "       [0, 1, 0],\n",
       "       [0, 0, 1],\n",
       "       [0, 0, 1],\n",
       "       [0, 1, 0],\n",
       "       [1, 0, 0],\n",
       "       [0, 0, 1],\n",
       "       [0, 0, 1],\n",
       "       [0, 1, 0],\n",
       "       [0, 1, 0],\n",
       "       [1, 0, 0],\n",
       "       [1, 0, 0],\n",
       "       [0, 0, 1],\n",
       "       [0, 1, 0],\n",
       "       [0, 0, 1],\n",
       "       [0, 1, 0],\n",
       "       [0, 0, 1]])"
      ]
     },
     "execution_count": 10,
     "metadata": {},
     "output_type": "execute_result"
    }
   ],
   "source": [
    "1\n",
    "\n",
    "(Ttrain == np.unique(Ttrain)).astype(int)"
   ]
  },
  {
   "cell_type": "code",
   "execution_count": 16,
   "metadata": {},
   "outputs": [],
   "source": [
    "def convert_to_indicators():\n",
    "    global Titrain, Titest\n",
    "    Titrain = (Ttrain == np.unique(Ttrain)).astype(int) \n",
    "    Titest = (Ttest == np.unique(Ttest)).astype(int)"
   ]
  },
  {
   "cell_type": "code",
   "execution_count": 17,
   "metadata": {},
   "outputs": [
    {
     "name": "stdout",
     "output_type": "stream",
     "text": [
      "Train indicator shape: (120, 3)\n",
      "Test indicator shape: (30, 3)\n"
     ]
    }
   ],
   "source": [
    "convert_to_indicators()\n",
    "print(\"Train indicator shape: {}\".format(Titrain.shape))\n",
    "print(\"Test indicator shape: {}\".format(Titest.shape))"
   ]
  },
  {
   "cell_type": "code",
   "execution_count": 18,
   "metadata": {},
   "outputs": [],
   "source": [
    "assert (np.argmax(Titrain, axis=1) == Ttrain.flatten()).all()\n",
    "assert (np.argmax(Titest, axis=1) == Ttest.flatten()).all()"
   ]
  },
  {
   "cell_type": "code",
   "execution_count": 19,
   "metadata": {},
   "outputs": [],
   "source": [
    "def softmax(z):\n",
    "    if not isinstance(z, np.ndarray):\n",
    "        z = np.asarray(z)\n",
    "        \n",
    "    numerator = np.exp(z)\n",
    "\n",
    "    if len(z.shape) == 2:\n",
    "        denominator = np.sum(np.exp(z), axis=1, keepdims=True)\n",
    "    else:\n",
    "        denominator = np.sum(np.exp(z))\n",
    "\n",
    "    return numerator / denominator\n",
    "\n",
    "# Wrapper for softmax\n",
    "def g(X, w):\n",
    "\n",
    "    return softmax(X @ w) "
   ]
  },
  {
   "cell_type": "code",
   "execution_count": 20,
   "metadata": {},
   "outputs": [
    {
     "name": "stdout",
     "output_type": "stream",
     "text": [
      "[[1.92622126e-174 1.40148307e-091 1.00000000e+000]\n",
      " [1.00000000e+000 3.06830329e-092 0.00000000e+000]\n",
      " [1.16851351e-031 1.00000000e+000 2.51252647e-076]\n",
      " [1.00000000e+000 3.37920155e-092 0.00000000e+000]\n",
      " [1.00123724e-084 5.62032726e-011 1.00000000e+000]\n",
      " [1.00000000e+000 8.78854363e-091 0.00000000e+000]\n",
      " [1.78252759e-102 1.31620337e-026 1.00000000e+000]\n",
      " [9.32477078e-125 1.03481091e-045 1.00000000e+000]\n",
      " [9.09123167e-045 1.00000000e+000 1.27879136e-060]\n",
      " [3.14485112e-033 1.00000000e+000 2.80834611e-075]\n",
      " [3.33817170e-148 1.11240877e-070 1.00000000e+000]\n",
      " [1.00000000e+000 1.27254716e-083 0.00000000e+000]\n",
      " [1.00000000e+000 5.36065203e-077 0.00000000e+000]\n",
      " [6.67150855e-180 1.18028809e-068 1.00000000e+000]\n",
      " [1.00000000e+000 1.74275856e-066 0.00000000e+000]\n",
      " [1.95278238e-158 6.98510850e-094 1.00000000e+000]\n",
      " [2.54317451e-118 1.54484160e-054 1.00000000e+000]\n",
      " [1.00000000e+000 2.39918273e-077 0.00000000e+000]\n",
      " [9.11152400e-161 1.93173945e-073 1.00000000e+000]\n",
      " [1.17901804e-040 1.00000000e+000 1.52888319e-076]\n",
      " [5.15506501e-035 1.00000000e+000 5.32069351e-072]\n",
      " [4.31890881e-054 1.00000000e+000 1.14322880e-035]\n",
      " [3.70612946e-166 5.07650954e-071 1.00000000e+000]\n",
      " [1.00000000e+000 1.23316433e-118 0.00000000e+000]\n",
      " [9.77801659e-046 9.99999944e-001 5.59515093e-008]\n",
      " [8.24959356e-049 5.14457512e-003 9.94855425e-001]\n",
      " [4.56218192e-028 1.00000000e+000 1.31145394e-075]\n",
      " [1.54784907e-047 1.00000000e+000 1.65659853e-034]\n",
      " [1.00000000e+000 1.00729928e-082 0.00000000e+000]\n",
      " [1.19040294e-134 3.91759880e-062 1.00000000e+000]\n",
      " [1.30149343e-129 5.08319208e-063 1.00000000e+000]\n",
      " [2.24283320e-137 1.83072652e-042 1.00000000e+000]\n",
      " [8.47845540e-025 1.00000000e+000 1.32265730e-107]\n",
      " [3.82860008e-031 1.00000000e+000 2.10055805e-052]\n",
      " [2.16337174e-041 1.00000000e+000 1.05867448e-075]\n",
      " [6.43021109e-043 1.00000000e+000 8.09704369e-061]\n",
      " [1.00000000e+000 5.83400896e-093 0.00000000e+000]\n",
      " [3.26839623e-073 1.21136126e-019 1.00000000e+000]\n",
      " [1.00000000e+000 5.65540972e-060 0.00000000e+000]\n",
      " [2.60281418e-044 1.00000000e+000 2.60942477e-062]\n",
      " [5.84755566e-107 8.13812004e-018 1.00000000e+000]\n",
      " [3.33817170e-148 1.11240877e-070 1.00000000e+000]\n",
      " [6.97484611e-122 1.98252469e-046 1.00000000e+000]\n",
      " [6.95116834e-093 1.27496877e-024 1.00000000e+000]\n",
      " [6.10528990e-044 1.00000000e+000 1.21534347e-073]\n",
      " [1.00000000e+000 6.08718898e-067 0.00000000e+000]\n",
      " [1.00000000e+000 1.28609325e-093 0.00000000e+000]\n",
      " [1.00000000e+000 3.01030071e-110 0.00000000e+000]\n",
      " [1.00000000e+000 3.27176235e-074 0.00000000e+000]\n",
      " [2.47919991e-038 1.00000000e+000 2.63320363e-031]\n",
      " [1.17927465e-038 1.00000000e+000 5.43742918e-046]\n",
      " [8.56437128e-166 2.25432561e-084 1.00000000e+000]\n",
      " [1.00000000e+000 1.73378775e-082 0.00000000e+000]\n",
      " [1.00000000e+000 4.98040782e-070 0.00000000e+000]\n",
      " [1.66526415e-055 1.00000000e+000 2.10150830e-026]\n",
      " [1.00000000e+000 2.78290305e-076 0.00000000e+000]\n",
      " [1.00000000e+000 2.91326067e-093 0.00000000e+000]\n",
      " [1.00000000e+000 1.43931082e-094 0.00000000e+000]\n",
      " [1.00000000e+000 5.82690267e-108 0.00000000e+000]\n",
      " [1.00000000e+000 1.55250500e-084 0.00000000e+000]\n",
      " [1.17801165e-115 2.74707688e-037 1.00000000e+000]\n",
      " [4.66986806e-034 1.00000000e+000 1.41848648e-079]\n",
      " [3.77106106e-048 1.00000000e+000 5.27559552e-023]\n",
      " [1.00000000e+000 1.33904893e-084 0.00000000e+000]\n",
      " [1.00000000e+000 1.05592812e-096 0.00000000e+000]\n",
      " [9.87126975e-087 7.18114159e-009 9.99999993e-001]\n",
      " [2.83807474e-045 1.00000000e+000 3.12798812e-050]\n",
      " [1.00000000e+000 2.01964759e-067 0.00000000e+000]\n",
      " [5.75747389e-159 2.54494533e-056 1.00000000e+000]\n",
      " [1.00000000e+000 1.38133643e-117 0.00000000e+000]\n",
      " [1.00000000e+000 1.01848652e-091 0.00000000e+000]\n",
      " [8.46566266e-033 1.00000000e+000 1.11637453e-043]\n",
      " [8.72365337e-129 7.13836134e-068 1.00000000e+000]\n",
      " [1.00000000e+000 3.97643737e-088 0.00000000e+000]\n",
      " [3.25356849e-035 1.00000000e+000 5.40008714e-058]\n",
      " [1.00000000e+000 1.13793222e-088 0.00000000e+000]\n",
      " [1.00000000e+000 2.36256200e-093 0.00000000e+000]\n",
      " [3.30748164e-177 2.19402556e-106 1.00000000e+000]\n",
      " [2.65467172e-062 2.61389538e-016 1.00000000e+000]\n",
      " [2.77642779e-036 1.00000000e+000 1.75564210e-027]\n",
      " [1.53476879e-187 6.56770026e-099 1.00000000e+000]\n",
      " [5.38889071e-011 1.00000000e+000 1.22103878e-102]\n",
      " [9.17790935e-188 7.99965158e-078 1.00000000e+000]\n",
      " [1.00000000e+000 1.65965152e-123 0.00000000e+000]\n",
      " [2.02061843e-106 3.19369259e-040 1.00000000e+000]\n",
      " [2.12732426e-054 1.00000000e+000 1.51061745e-020]\n",
      " [4.22309055e-079 5.27074096e-022 1.00000000e+000]\n",
      " [1.58740963e-111 8.35353698e-046 1.00000000e+000]\n",
      " [2.67689368e-079 5.47404381e-025 1.00000000e+000]\n",
      " [1.88578929e-051 1.00000000e+000 6.55366209e-050]\n",
      " [1.00000000e+000 1.59335187e-078 0.00000000e+000]\n",
      " [8.48669834e-136 7.40268735e-070 1.00000000e+000]\n",
      " [1.00000000e+000 2.62295395e-066 0.00000000e+000]\n",
      " [5.13789955e-047 1.00000000e+000 4.05514852e-033]\n",
      " [6.53897538e-089 8.12532659e-034 1.00000000e+000]\n",
      " [1.43968081e-158 1.84645313e-086 1.00000000e+000]\n",
      " [2.77882554e-164 6.13304636e-094 1.00000000e+000]\n",
      " [3.85387244e-056 1.00000000e+000 1.83247852e-021]\n",
      " [1.09762758e-027 1.00000000e+000 2.60209307e-035]\n",
      " [2.05093934e-127 8.32048153e-048 1.00000000e+000]\n",
      " [1.30211150e-040 1.00000000e+000 1.04616061e-062]\n",
      " [4.81514577e-068 1.00000000e+000 4.90842184e-036]\n",
      " [3.27124285e-160 1.79408831e-069 1.00000000e+000]\n",
      " [1.00000000e+000 3.57691887e-063 0.00000000e+000]\n",
      " [1.96154373e-038 1.00000000e+000 9.39250501e-071]\n",
      " [2.89556706e-179 1.43727127e-089 1.00000000e+000]\n",
      " [1.04978886e-286 2.84005636e-144 1.00000000e+000]\n",
      " [2.69138335e-061 1.00000000e+000 1.14895212e-043]\n",
      " [1.00000000e+000 7.87203363e-080 0.00000000e+000]\n",
      " [9.33289222e-212 1.53260817e-095 1.00000000e+000]\n",
      " [1.70377880e-131 2.94273504e-055 1.00000000e+000]\n",
      " [2.96906529e-075 9.99649152e-001 3.50847908e-004]\n",
      " [1.25651388e-034 1.00000000e+000 3.09103183e-054]\n",
      " [1.00000000e+000 1.46394172e-073 0.00000000e+000]\n",
      " [1.00000000e+000 4.55343748e-082 0.00000000e+000]\n",
      " [3.01761311e-107 2.63274451e-039 1.00000000e+000]\n",
      " [7.93991637e-040 1.00000000e+000 3.02691157e-072]\n",
      " [4.41129412e-218 2.08149333e-134 1.00000000e+000]\n",
      " [3.27355089e-061 1.00000000e+000 2.58240263e-033]\n",
      " [2.61644015e-226 4.69949532e-098 1.00000000e+000]]\n",
      "[[1.00000000e+000 2.29508834e-063 0.00000000e+000]\n",
      " [1.00000000e+000 3.99154356e-075 0.00000000e+000]\n",
      " [8.42025318e-051 1.00000000e+000 2.16025525e-060]\n",
      " [1.00000000e+000 9.16157683e-067 0.00000000e+000]\n",
      " [3.62664148e-154 1.96745193e-066 1.00000000e+000]\n",
      " [3.08962843e-048 1.00000000e+000 1.20415017e-032]\n",
      " [1.00000000e+000 1.74196344e-067 0.00000000e+000]\n",
      " [1.00000000e+000 9.12690441e-080 0.00000000e+000]\n",
      " [1.00000000e+000 1.42718977e-067 0.00000000e+000]\n",
      " [6.77403824e-162 5.83982268e-087 1.00000000e+000]\n",
      " [4.40092942e-168 1.25804778e-061 1.00000000e+000]\n",
      " [1.57887647e-015 1.00000000e+000 5.25393865e-084]\n",
      " [1.00000000e+000 3.22035277e-091 0.00000000e+000]\n",
      " [1.01713454e-038 1.00000000e+000 4.53261895e-049]\n",
      " [1.00000000e+000 7.92038119e-106 0.00000000e+000]\n",
      " [2.50276013e-052 1.00000000e+000 1.65222470e-045]\n",
      " [8.34530715e-128 7.07560255e-040 1.00000000e+000]\n",
      " [4.34414019e-134 1.93915450e-076 1.00000000e+000]\n",
      " [6.25169892e-060 9.99999993e-001 6.94540909e-009]\n",
      " [3.71660604e-059 1.00000000e+000 4.71719329e-070]\n",
      " [8.93159223e-060 1.00000000e+000 5.48314479e-018]\n",
      " [1.00000000e+000 1.44477866e-081 0.00000000e+000]\n",
      " [1.00000000e+000 1.78779501e-061 0.00000000e+000]\n",
      " [2.47532839e-139 2.51569303e-056 1.00000000e+000]\n",
      " [1.00000000e+000 2.00081231e-042 1.88120290e-292]\n",
      " [5.84173391e-079 3.30033840e-018 1.00000000e+000]\n",
      " [1.00000000e+000 2.23002024e-069 0.00000000e+000]\n",
      " [1.00000000e+000 3.18788806e-080 0.00000000e+000]\n",
      " [1.13181501e-186 1.60769187e-097 1.00000000e+000]\n",
      " [3.52991593e-147 1.50414538e-072 1.00000000e+000]]\n"
     ]
    }
   ],
   "source": [
    "# Convert to indicators\n",
    "convert_to_indicators()\n",
    "\n",
    "# Set shape parameters\n",
    "Ntrain, D = Xtrain.shape\n",
    "Ntest = Xtest.shape[0]\n",
    "K = Titrain.shape[1]\n",
    "\n",
    "# initialize the weight matrix\n",
    "w = np.random.rand(D+1, K)\n",
    "\n",
    "# iterate to update weights\n",
    "niter = 1000\n",
    "alpha = 0.1\n",
    "\n",
    "# Add bias to data\n",
    "X1train = np.hstack((np.ones((Ntrain, 1)), Xtrain))\n",
    "\n",
    "likeli = []\n",
    "for step in range(niter):\n",
    "\n",
    "    ys = g(X1train, w)\n",
    "\n",
    "    w += alpha * X1train.T @ (Titrain - ys)\n",
    "    \n",
    "# Get class probabilities for each sample in X1train\n",
    "Ytrain = g(X1train, w)\n",
    "\n",
    "# Add bias to test data\n",
    "X1test = np.hstack((np.ones((Ntest,1)), Xtest))\n",
    "# Get class probabilities for each sample in X1test\n",
    "Ytest = g(X1test, w)\n",
    "\n",
    "print(Ytrain)\n",
    "print(Ytest)"
   ]
  },
  {
   "cell_type": "code",
   "execution_count": 21,
   "metadata": {},
   "outputs": [
    {
     "data": {
      "text/plain": [
       "array([2, 0, 1, 0, 2, 0, 2, 2, 1, 1, 2, 0, 0, 2, 0, 2, 2, 0, 2, 1, 1, 1,\n",
       "       2, 0, 1, 2, 1, 1, 0, 2, 2, 2, 1, 1, 1, 1, 0, 2, 0, 1, 2, 2, 2, 2,\n",
       "       1, 0, 0, 0, 0, 1, 1, 2, 0, 0, 1, 0, 0, 0, 0, 0, 2, 1, 1, 0, 0, 2,\n",
       "       1, 0, 2, 0, 0, 1, 2, 0, 1, 0, 0, 2, 2, 1, 2, 1, 2, 0, 2, 1, 2, 2,\n",
       "       2, 1, 0, 2, 0, 1, 2, 2, 2, 1, 1, 2, 1, 1, 2, 0, 1, 2, 2, 1, 0, 2,\n",
       "       2, 1, 1, 0, 0, 2, 1, 2, 1, 2], dtype=int64)"
      ]
     },
     "execution_count": 21,
     "metadata": {},
     "output_type": "execute_result"
    }
   ],
   "source": [
    "Ltrain = np.argmax(Ytrain, axis=1) \n",
    "Ltrain "
   ]
  },
  {
   "cell_type": "code",
   "execution_count": 22,
   "metadata": {},
   "outputs": [
    {
     "data": {
      "text/plain": [
       "array([0, 0, 1, 0, 2, 1, 0, 0, 0, 2, 2, 1, 0, 1, 0, 1, 2, 2, 1, 1, 1, 0,\n",
       "       0, 2, 0, 2, 0, 0, 2, 2], dtype=int64)"
      ]
     },
     "execution_count": 22,
     "metadata": {},
     "output_type": "execute_result"
    }
   ],
   "source": [
    "Ltest = np.argmax(Ytest, axis=1) \n",
    "Ltest "
   ]
  },
  {
   "cell_type": "code",
   "execution_count": 23,
   "metadata": {},
   "outputs": [
    {
     "data": {
      "text/plain": [
       "Text(0.5, 1.0, 'Training results')"
      ]
     },
     "execution_count": 23,
     "metadata": {},
     "output_type": "execute_result"
    },
    {
     "data": {
      "image/png": "[encoded data removed]",
      "text/plain": [
       "<Figure size 432x288 with 1 Axes>"
      ]
     },
     "metadata": {
      "needs_background": "light"
     },
     "output_type": "display_data"
    }
   ],
   "source": [
    "plt.plot(Ttrain, 'ro')\n",
    "plt.plot(Ltrain, 'bx')\n",
    "plt.title(\"Training results\")"
   ]
  },
  {
   "cell_type": "code",
   "execution_count": 24,
   "metadata": {},
   "outputs": [
    {
     "data": {
      "text/plain": [
       "Text(0.5, 1.0, 'Test results')"
      ]
     },
     "execution_count": 24,
     "metadata": {},
     "output_type": "execute_result"
    },
    {
     "data": {
      "image/png": "[encoded data removed]",
      "text/plain": [
       "<Figure size 432x288 with 1 Axes>"
      ]
     },
     "metadata": {
      "needs_background": "light"
     },
     "output_type": "display_data"
    }
   ],
   "source": [
    "plt.plot(Ttest, 'ro')\n",
    "plt.plot(Ltest, 'bx')\n",
    "plt.title(\"Test results\")"
   ]
  },
  {
   "cell_type": "code",
   "execution_count": 25,
   "metadata": {},
   "outputs": [
    {
     "data": {
      "text/plain": [
       "array([ True,  True,  True,  True,  True,  True,  True,  True,  True,\n",
       "        True,  True,  True,  True,  True,  True,  True,  True,  True,\n",
       "        True,  True,  True,  True,  True,  True,  True,  True,  True,\n",
       "        True,  True,  True])"
      ]
     },
     "execution_count": 25,
     "metadata": {},
     "output_type": "execute_result"
    }
   ],
   "source": [
    "Ltest==Ttest.flatten()"
   ]
  },
  {
   "cell_type": "code",
   "execution_count": 26,
   "metadata": {},
   "outputs": [],
   "source": [
    "def print_accuracy(y, t, name):\n",
    "    N = y.shape[0]\n",
    "    n_correct = np.sum(y.flat == t.flat)\n",
    "    n_correct_percent =  (n_correct / N) * 100\n",
    "    print(\"{} accyracy:\\t{}/{}\\t{} %\".format(name, n_correct, N, n_correct_percent))"
   ]
  },
  {
   "cell_type": "code",
   "execution_count": 27,
   "metadata": {},
   "outputs": [
    {
     "name": "stdout",
     "output_type": "stream",
     "text": [
      "Train accyracy:\t116/120\t96.66666666666667 %\n",
      "Test accyracy:\t30/30\t100.0 %\n"
     ]
    }
   ],
   "source": [
    "print_accuracy(Ltrain, Ttrain, \"Train\")\n",
    "print_accuracy(Ltest, Ttest, \"Test\")"
   ]
  },
  {
   "cell_type": "markdown",
   "metadata": {},
   "source": [
    "## Create Confusion Matrix"
   ]
  },
  {
   "cell_type": "code",
   "execution_count": 28,
   "metadata": {},
   "outputs": [],
   "source": [
    "def confusion_matrix(Y, T):\n",
    "    \"\"\"\n",
    "        Y    ndarray\n",
    "             predicted labels\n",
    "        T    ndarray\n",
    "             target labels\n",
    "             \n",
    "        @cfm DataFrame\n",
    "             confusion matrix\n",
    "    \"\"\"\n",
    "    if len(Y) != len(T):\n",
    "        raise ValueError(\"Wrong prediction and target length!\")\n",
    "    \n",
    "    classes = np.unique(T)\n",
    "    n_classes = len(classes)\n",
    "    \n",
    "    cfm = pd.DataFrame(np.zeros((n_classes, n_classes)), index=classes, columns=classes, dtype=int)\n",
    "    \n",
    "    Tidx = [T == c for c in classes]\n",
    "    for c in classes:\n",
    "        pred_idx = Y == c\n",
    "        cfm.loc[c, :] = [np.sum(np.logical_and(pred_idx, tidx)) for tidx in Tidx]\n",
    "    \n",
    "    return cfm"
   ]
  },
  {
   "cell_type": "code",
   "execution_count": 29,
   "metadata": {},
   "outputs": [
    {
     "data": {
      "text/html": [
       "<div>\n",
       "<style scoped>\n",
       "    .dataframe tbody tr th:only-of-type {\n",
       "        vertical-align: middle;\n",
       "    }\n",
       "\n",
       "    .dataframe tbody tr th {\n",
       "        vertical-align: top;\n",
       "    }\n",
       "\n",
       "    .dataframe thead th {\n",
       "        text-align: right;\n",
       "    }\n",
       "</style>\n",
       "<table border=\"1\" class=\"dataframe\">\n",
       "  <thead>\n",
       "    <tr style=\"text-align: right;\">\n",
       "      <th></th>\n",
       "      <th>0</th>\n",
       "      <th>1</th>\n",
       "      <th>2</th>\n",
       "    </tr>\n",
       "  </thead>\n",
       "  <tbody>\n",
       "    <tr>\n",
       "      <th>0</th>\n",
       "      <td>13</td>\n",
       "      <td>0</td>\n",
       "      <td>0</td>\n",
       "    </tr>\n",
       "    <tr>\n",
       "      <th>1</th>\n",
       "      <td>0</td>\n",
       "      <td>8</td>\n",
       "      <td>0</td>\n",
       "    </tr>\n",
       "    <tr>\n",
       "      <th>2</th>\n",
       "      <td>0</td>\n",
       "      <td>0</td>\n",
       "      <td>9</td>\n",
       "    </tr>\n",
       "  </tbody>\n",
       "</table>\n",
       "</div>"
      ],
      "text/plain": [
       "    0  1  2\n",
       "0  13  0  0\n",
       "1   0  8  0\n",
       "2   0  0  9"
      ]
     },
     "execution_count": 29,
     "metadata": {},
     "output_type": "execute_result"
    }
   ],
   "source": [
    "cfm = confusion_matrix(Ltest.flat, Ttest.flat)\n",
    "cfm"
   ]
  },
  {
   "cell_type": "code",
   "execution_count": 30,
   "metadata": {},
   "outputs": [
    {
     "data": {
      "text/plain": [
       "pandas.core.frame.DataFrame"
      ]
     },
     "execution_count": 30,
     "metadata": {},
     "output_type": "execute_result"
    }
   ],
   "source": [
    "type(cfm)"
   ]
  },
  {
   "cell_type": "markdown",
   "metadata": {},
   "source": [
    "## Precision, Recall, and F1-score \n",
    "Now that we have our confusion matrix we can use it to compute new metrics that inform us about different aspects of our models performance. Recall that we discussed precision, recall, and the F1-score in the class notes. Let's do a quick review of what these scores mean and how to compute them.\n",
    "\n",
    "### Precision\n",
    "Precision represents the accuracy when only looking at our **positive predictions**. Meaning, we want to know how many of our positive predictions were correct out of all the positive predictions made. Hence, we divide by the sum of the true positives $\\mathrm{TP}$ and false positives $\\mathrm{FP}$. Notice, the sum these two variables is equal the total number of positive predictions made for a given class.\n",
    "$$\n",
    "Precision = \\mathrm{\\frac{TP}{TP + FP}}\n",
    "$$\n",
    "\n",
    "### Recall\n",
    "Recall represents the accuracy when only looking at the **positive targets**. This means we want to know how many positive predictions we got correct out of the actual positive targets. Hence, we divide by the sum of true positives $\\mathrm{TP}$ and false negatives $\\mathrm{FN}$. Notice the sum these two variables is equal the total number of targets for a given class.\n",
    "$$\n",
    "Recall = \\mathrm{\\frac{TP}{TP + FN}}\n",
    "$$\n",
    "\n",
    "### F1-score\n",
    "The F1-score is used to gain a combined measure of both precision and recall. To do so we calculate the harmonic mean (the reciprocal of the arithmetic mean) of the precision and recall scores. F1-score is a good alternative to accuracy if the number false negatives and false positives are important to your problem. \n",
    "$$\n",
    "F_1 = 2 \\times \\frac{Precision \\times Recall}{Precision+Recall} = \\frac{2 \\times tp}{2 \\times tp + fp + fn}\n",
    "$$"
   ]
  },
  {
   "cell_type": "code",
   "execution_count": 31,
   "metadata": {},
   "outputs": [
    {
     "name": "stdout",
     "output_type": "stream",
     "text": [
      "setosa:\n",
      "\tPrecision (setosa): 1.00000\n",
      "\tRecall (setosa): 1.00000\n",
      "\tF1 Score (setosa): 1.00000\n",
      "versicolor:\n",
      "\tPrecision (versicolor): 1.00000\n",
      "\tRecall (versicolor): 1.00000\n",
      "\tF1 Score (versicolor): 1.00000\n",
      "virginica:\n",
      "\tPrecision (virginica): 1.00000\n",
      "\tRecall (virginica): 1.00000\n",
      "\tF1 Score (virginica): 1.00000\n"
     ]
    }
   ],
   "source": [
    "for i in range(3):\n",
    "    t_name = iris.target_names[i]\n",
    "    print(\"{}:\".format(t_name))\n",
    "\n",
    "    precision = cfm.iloc[i, i] / np.sum(cfm.iloc[i, :])\n",
    "\n",
    "    recall = cfm.iloc[i, i] / np.sum(cfm.iloc[:, i])\n",
    "\n",
    "    f1 = 2 * precision * recall / (precision + recall)\n",
    "    # Print scores for each class\n",
    "    print(\"\\tPrecision ({}): {:.5f}\".format(t_name, precision))\n",
    "    print(\"\\tRecall ({}): {:.5f}\".format(t_name, recall))\n",
    "    print(\"\\tF1 Score ({}): {:.5f}\".format(t_name, f1))"
   ]
  },
  {
   "cell_type": "code",
   "execution_count": null,
   "metadata": {},
   "outputs": [],
   "source": []
  }
 ],
 "metadata": {
  "kernelspec": {
   "display_name": "Python 3",
   "language": "python",
   "name": "python3"
  },
  "language_info": {
   "codemirror_mode": {
    "name": "ipython",
    "version": 3
   },
   "file_extension": ".py",
   "mimetype": "text/x-python",
   "name": "python",
   "nbconvert_exporter": "python",
   "pygments_lexer": "ipython3",
   "version": "3.8.3"
  }
 },
 "nbformat": 4,
 "nbformat_minor": 4
}
